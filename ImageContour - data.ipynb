{
 "cells": [
  {
   "cell_type": "markdown",
   "id": "4c15b5ac",
   "metadata": {},
   "source": [
    "# Libraries"
   ]
  },
  {
   "cell_type": "code",
   "execution_count": 1,
   "id": "1368ee91",
   "metadata": {},
   "outputs": [],
   "source": [
    "import os \n",
    "import cv2 \n",
    "import numpy as np \n",
    "import matplotlib.pyplot as plt "
   ]
  },
  {
   "cell_type": "markdown",
   "id": "d8593eac",
   "metadata": {},
   "source": [
    "# Load image dir"
   ]
  },
  {
   "cell_type": "code",
   "execution_count": 15,
   "id": "457ed2cd",
   "metadata": {},
   "outputs": [
    {
     "name": "stdout",
     "output_type": "stream",
     "text": [
      "['img_41.jpg', 'img_268.jpg', 'img_289.jpg', 'img_205.jpg', 'img_26.jpg', 'img_347.jpg', 'img_282.jpg', 'img_314.jpg', 'img_33.jpg', 'img_181.jpg', 'img_254.jpg', 'img_177.jpg', 'img_299.jpg', 'img_288.jpg', 'img_166.jpg', 'img_329.jpg', 'img_123.jpg', 'img_356.jpg', 'img_305.jpg', 'img_144.jpg', 'img_126.jpg', 'img_191.jpg', 'img_294.jpg', 'img_243.jpg', 'img_297.jpg', 'img_276.jpg', 'img_280.jpg', 'img_275.jpg', 'img_307.jpg', 'img_206.jpg', 'img_167.jpg', 'img_103.jpg', 'img_336.jpg', 'img_176.jpg', 'img_247.jpg', 'img_53.jpg', 'img_285.jpg', 'img_96.jpg', 'img_287.jpg', 'img_315.jpg', 'img_72.jpg', 'img_27.jpg', 'img_231.jpg', 'img_81.jpg', 'img_90.jpg', 'img_320.jpg', 'img_60.jpg', 'img_236.jpg', 'img_171.jpg', 'img_253.jpg', 'img_94.jpg', 'img_91.jpg', 'img_180.jpg', 'img_219.jpg', 'img_248.jpg', 'img_43.jpg', 'img_76.jpg', 'img_131.jpg', 'img_270.jpg', 'img_51.jpg', 'img_147.jpg', 'img_230.jpg', 'img_36.jpg', 'img_223.jpg', 'img_259.jpg', 'img_54.jpg', 'img_309.jpg', 'img_31.jpg', 'img_9.jpg', 'img_319.jpg', 'img_266.jpg', 'img_44.jpg', 'img_21.jpg', 'img_225.jpg', 'img_234.jpg', 'img_237.jpg', 'img_16.jpg', 'img_194.jpg', 'img_303.jpg', 'img_152.jpg', 'img_341.jpg', 'img_139.jpg', 'img_153.jpg', 'img_215.jpg', 'img_151.jpg', 'img_296.jpg', 'img_77.jpg', 'img_78.jpg', 'img_300.jpg', 'img_353.jpg', 'img_313.jpg', 'img_332.jpg', 'img_169.jpg', 'img_146.jpg', 'img_244.jpg', 'img_148.jpg', 'img_340.jpg', 'img_142.jpg', 'img_184.jpg', 'img_127.jpg', 'img_325.jpg', 'img_104.jpg', 'img_71.jpg', 'img_203.jpg', 'img_260.jpg', 'img_334.jpg', 'img_350.jpg', 'img_47.jpg', 'img_238.jpg', 'img_344.jpg', 'img_197.jpg', 'img_70.jpg', 'img_258.jpg', 'img_317.jpg', 'img_228.jpg', 'img_101.jpg', 'img_263.jpg', 'img_129.jpg', 'img_348.jpg', 'img_133.jpg', 'img_86.jpg', 'img_342.jpg', 'img_28.jpg', 'img_290.jpg', 'img_62.jpg', 'img_128.jpg', 'img_218.jpg', 'img_308.jpg', 'img_281.jpg', 'img_45.jpg', 'img_109.jpg', 'img_108.jpg', 'img_88.jpg', 'img_17.jpg', 'img_192.jpg', 'img_40.jpg', 'img_233.jpg', 'img_110.jpg', 'img_277.jpg', 'img_102.jpg', 'img_5.jpg', 'img_335.jpg', 'img_262.jpg', 'img_61.jpg', 'img_143.jpg', 'img_67.jpg', 'img_188.jpg', 'img_302.jpg', 'img_172.jpg', 'img_24.jpg', 'img_50.jpg', 'img_284.jpg', 'img_68.jpg', 'img_239.jpg', 'img_118.jpg', 'img_168.jpg', 'img_229.jpg', 'img_327.jpg', 'img_115.jpg', 'img_48.jpg', 'img_298.jpg', 'img_204.jpg', 'img_116.jpg', 'img_202.jpg', 'img_55.jpg', 'img_195.jpg', 'img_345.jpg', 'img_149.jpg', 'img_92.jpg', 'img_154.jpg', 'img_351.jpg', 'img_322.jpg', 'img_20.jpg', 'img_164.jpg', 'img_212.jpg', 'img_267.jpg', 'img_227.jpg', 'img_295.jpg', 'img_278.jpg', 'img_135.jpg', 'img_14.jpg', 'img_255.jpg', 'img_339.jpg', 'img_252.jpg', 'img_136.jpg', 'img_261.jpg', 'img_32.jpg', 'img_124.jpg', 'img_286.jpg', 'img_75.jpg', 'img_106.jpg', 'img_6.jpg', 'img_79.jpg', 'img_98.jpg', 'img_190.jpg', 'img_331.jpg', 'img_35.jpg', 'img_211.jpg', 'img_65.jpg', 'img_137.jpg', 'img_30.jpg', 'img_179.jpg', 'img_145.jpg', 'img_155.jpg', 'img_111.jpg', 'img_304.jpg', 'img_121.jpg', 'img_242.jpg', 'img_199.jpg', 'img_134.jpg', 'img_343.jpg', 'img_337.jpg', 'img_324.jpg', 'img_52.jpg', 'img_19.jpg', 'img_216.jpg', 'img_112.jpg', 'img_161.jpg', 'img_257.jpg', 'img_208.jpg', 'img_222.jpg', 'img_274.jpg', 'img_66.jpg', 'img_83.jpg', 'img_141.jpg', 'img_160.jpg', 'img_58.jpg', 'img_185.jpg', 'img_7.jpg', 'img_316.jpg', 'img_241.jpg', 'img_240.jpg', 'img_23.jpg', 'img_140.jpg', 'img_22.jpg', 'img_8.jpg', 'img_157.jpg', 'img_301.jpg', 'img_354.jpg', 'img_117.jpg', 'img_306.jpg', 'img_352.jpg', 'img_119.jpg', 'img_57.jpg', 'img_2.jpg', 'img_69.jpg', 'img_80.jpg', 'img_87.jpg', 'img_56.jpg', 'img_173.jpg', 'img_150.jpg', 'img_11.jpg', 'img_1.jpg', 'img_175.jpg', 'img_158.jpg', 'img_264.jpg', 'img_207.jpg', 'img_189.jpg', 'img_170.jpg', 'img_321.jpg', 'img_333.jpg', 'img_73.jpg', 'img_224.jpg', 'img_49.jpg', 'img_42.jpg', 'img_100.jpg', 'img_355.jpg', 'img_326.jpg', 'img_217.jpg', 'img_209.jpg', 'img_256.jpg', 'img_132.jpg', 'img_201.jpg', 'img_279.jpg', 'img_25.jpg', 'img_346.jpg', 'img_162.jpg', 'img_214.jpg', 'img_221.jpg', 'img_311.jpg', 'img_178.jpg', 'img_82.jpg', 'img_95.jpg', 'img_251.jpg', 'img_338.jpg', 'img_272.jpg', 'img_330.jpg', 'img_293.jpg', 'img_105.jpg', 'img_265.jpg', 'img_89.jpg', 'img_312.jpg', 'img_165.jpg', 'img_120.jpg', 'img_182.jpg', 'img_269.jpg', 'img_196.jpg', 'img_97.jpg', 'img_63.jpg', 'img_283.jpg', 'img_250.jpg', 'img_39.jpg', 'img_273.jpg', 'img_318.jpg', 'img_59.jpg', 'img_200.jpg', 'img_18.jpg', 'img_291.jpg', 'img_0.jpg', 'img_74.jpg', 'img_93.jpg', 'img_29.jpg', 'img_187.jpg', 'img_246.jpg', 'img_159.jpg', 'img_46.jpg', 'img_13.jpg', 'img_310.jpg', 'img_235.jpg', 'img_38.jpg', 'img_349.jpg', 'img_84.jpg', 'img_220.jpg', 'img_85.jpg', 'img_183.jpg', 'img_10.jpg', 'img_232.jpg', 'img_226.jpg', 'img_163.jpg', 'img_15.jpg', 'img_113.jpg', 'img_328.jpg', 'img_198.jpg', 'img_107.jpg', 'img_186.jpg', 'img_174.jpg', 'img_138.jpg', 'img_193.jpg', 'img_271.jpg', 'img_34.jpg', 'img_37.jpg', 'img_122.jpg', 'img_3.jpg', 'img_213.jpg', 'img_4.jpg', 'img_210.jpg', 'img_292.jpg', 'img_99.jpg', 'img_12.jpg', 'img_64.jpg', 'img_125.jpg', 'img_249.jpg', 'img_323.jpg', 'img_156.jpg', 'img_130.jpg', 'img_245.jpg', 'img_114.jpg']\n"
     ]
    }
   ],
   "source": [
    "path = 'data/NH4Cl/' # change file\n",
    "file_list = os.listdir(path)\n",
    "print(dir_list)"
   ]
  },
  {
   "cell_type": "markdown",
   "id": "e8d92d82",
   "metadata": {},
   "source": [
    "# Get image, find contour, and crop"
   ]
  },
  {
   "cell_type": "code",
   "execution_count": 16,
   "id": "725b7f1f",
   "metadata": {},
   "outputs": [],
   "source": [
    "for file in file_list:\n",
    "    if file.endswith(\".jpg\"):\n",
    "        # convert img to rgb\n",
    "        #print(file)\n",
    "        \n",
    "        img = cv2.imread(path+file)\n",
    "        img = cv2.cvtColor(img,cv2.COLOR_BGR2RGB) \n",
    "        backup= img.copy()\n",
    "        \n",
    "        # red color boundaries [B, G, R] and mask\n",
    "        lower = np.array([95,95,95])\n",
    "        upper = np.array([250, 250, 250])\n",
    "        \n",
    "        mask = cv2.inRange(img, lower, upper) \n",
    "        \n",
    "        # detect contour\n",
    "        cont,_= cv2.findContours(mask,cv2.RETR_EXTERNAL,cv2.CHAIN_APPROX_NONE)\n",
    "        cont_img = cv2.drawContours(img,cont,-1,255,3)\n",
    "        \n",
    "        # crop image\n",
    "        c = max(cont,key=cv2.contourArea)\n",
    "        x,y,w,h = cv2.boundingRect(c)\n",
    "        cv2.rectangle(img,(x,y),(x+w,y+h),(0,255,0),1)\n",
    "\n",
    "        cropped_img = backup[y:y+h,x:x+w]\n",
    "        \n",
    "        #save file\n",
    "        filename = \"cropped/NH4Cl/\"+file #change file path\n",
    "        cv2.imwrite(filename,cropped_img)\n",
    "        #print(newFile)"
   ]
  },
  {
   "cell_type": "code",
   "execution_count": null,
   "id": "7d96429a",
   "metadata": {},
   "outputs": [],
   "source": []
  }
 ],
 "metadata": {
  "kernelspec": {
   "display_name": "Python 3 (ipykernel)",
   "language": "python",
   "name": "python3"
  },
  "language_info": {
   "codemirror_mode": {
    "name": "ipython",
    "version": 3
   },
   "file_extension": ".py",
   "mimetype": "text/x-python",
   "name": "python",
   "nbconvert_exporter": "python",
   "pygments_lexer": "ipython3",
   "version": "3.10.6"
  }
 },
 "nbformat": 4,
 "nbformat_minor": 5
}
