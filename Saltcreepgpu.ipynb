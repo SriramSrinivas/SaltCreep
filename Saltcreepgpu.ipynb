{
 "cells": [
  {
   "cell_type": "code",
   "execution_count": 1,
   "id": "61629b44-f85b-4cc4-b107-f880a74fa05a",
   "metadata": {},
   "outputs": [
    {
     "name": "stderr",
     "output_type": "stream",
     "text": [
      "2023-10-22 18:33:38.559725: I tensorflow/core/util/util.cc:169] oneDNN custom operations are on. You may see slightly different numerical results due to floating-point round-off errors from different computation orders. To turn them off, set the environment variable `TF_ENABLE_ONEDNN_OPTS=0`.\n"
     ]
    },
    {
     "name": "stdout",
     "output_type": "stream",
     "text": [
      "Num GPUs Available:  1\n"
     ]
    },
    {
     "data": {
      "text/plain": [
       "[PhysicalDevice(name='/physical_device:GPU:0', device_type='GPU')]"
      ]
     },
     "execution_count": 1,
     "metadata": {},
     "output_type": "execute_result"
    }
   ],
   "source": [
    "import tensorflow as tf\n",
    "print(\"Num GPUs Available: \", len(tf.config.list_physical_devices('GPU')))\n",
    "tf.config.list_physical_devices('GPU') "
   ]
  },
  {
   "cell_type": "code",
   "execution_count": null,
   "id": "e6d97219-7e33-4356-8e85-798af3822101",
   "metadata": {},
   "outputs": [],
   "source": []
  },
  {
   "cell_type": "code",
   "execution_count": null,
   "id": "a7ebe0e9-34db-4369-8c05-834276118737",
   "metadata": {},
   "outputs": [],
   "source": []
  },
  {
   "cell_type": "code",
   "execution_count": 2,
   "id": "0da68e11-a609-4cb2-877f-1e0f978f2496",
   "metadata": {},
   "outputs": [
    {
     "name": "stdout",
     "output_type": "stream",
     "text": [
      "Defaulting to user installation because normal site-packages is not writeable\n",
      "Requirement already satisfied: pillow in ./.local/lib/python3.8/site-packages (10.0.1)\n",
      "Note: you may need to restart the kernel to use updated packages.\n",
      "Defaulting to user installation because normal site-packages is not writeable\n",
      "Requirement already satisfied: scipy in /util/opt/anaconda/deployed-conda-envs/packages/tensorflow-gpu/envs/tensorflow-gpu-2.9.1-py38/lib/python3.8/site-packages (1.9.1)\n",
      "Requirement already satisfied: numpy<1.25.0,>=1.18.5 in /util/opt/anaconda/deployed-conda-envs/packages/tensorflow-gpu/envs/tensorflow-gpu-2.9.1-py38/lib/python3.8/site-packages (from scipy) (1.23.3)\n",
      "Note: you may need to restart the kernel to use updated packages.\n",
      "Defaulting to user installation because normal site-packages is not writeable\n",
      "Requirement already satisfied: seaborn in /util/opt/anaconda/deployed-conda-envs/packages/tensorflow-gpu/envs/tensorflow-gpu-2.9.1-py38/lib/python3.8/site-packages (0.12.0)\n",
      "Requirement already satisfied: pandas>=0.25 in /util/opt/anaconda/deployed-conda-envs/packages/tensorflow-gpu/envs/tensorflow-gpu-2.9.1-py38/lib/python3.8/site-packages (from seaborn) (1.4.4)\n",
      "Requirement already satisfied: numpy>=1.17 in /util/opt/anaconda/deployed-conda-envs/packages/tensorflow-gpu/envs/tensorflow-gpu-2.9.1-py38/lib/python3.8/site-packages (from seaborn) (1.23.3)\n",
      "Requirement already satisfied: matplotlib>=3.1 in /util/opt/anaconda/deployed-conda-envs/packages/tensorflow-gpu/envs/tensorflow-gpu-2.9.1-py38/lib/python3.8/site-packages (from seaborn) (3.5.3)\n",
      "Requirement already satisfied: fonttools>=4.22.0 in /util/opt/anaconda/deployed-conda-envs/packages/tensorflow-gpu/envs/tensorflow-gpu-2.9.1-py38/lib/python3.8/site-packages (from matplotlib>=3.1->seaborn) (4.37.1)\n",
      "Requirement already satisfied: python-dateutil>=2.7 in /util/opt/anaconda/deployed-conda-envs/packages/tensorflow-gpu/envs/tensorflow-gpu-2.9.1-py38/lib/python3.8/site-packages (from matplotlib>=3.1->seaborn) (2.8.2)\n",
      "Requirement already satisfied: kiwisolver>=1.0.1 in /util/opt/anaconda/deployed-conda-envs/packages/tensorflow-gpu/envs/tensorflow-gpu-2.9.1-py38/lib/python3.8/site-packages (from matplotlib>=3.1->seaborn) (1.4.4)\n",
      "Requirement already satisfied: packaging>=20.0 in /util/opt/anaconda/deployed-conda-envs/packages/tensorflow-gpu/envs/tensorflow-gpu-2.9.1-py38/lib/python3.8/site-packages (from matplotlib>=3.1->seaborn) (21.3)\n",
      "Requirement already satisfied: pyparsing>=2.2.1 in /util/opt/anaconda/deployed-conda-envs/packages/tensorflow-gpu/envs/tensorflow-gpu-2.9.1-py38/lib/python3.8/site-packages (from matplotlib>=3.1->seaborn) (3.0.9)\n",
      "Requirement already satisfied: cycler>=0.10 in /util/opt/anaconda/deployed-conda-envs/packages/tensorflow-gpu/envs/tensorflow-gpu-2.9.1-py38/lib/python3.8/site-packages (from matplotlib>=3.1->seaborn) (0.11.0)\n",
      "Requirement already satisfied: pillow>=6.2.0 in ./.local/lib/python3.8/site-packages (from matplotlib>=3.1->seaborn) (10.0.1)\n",
      "Requirement already satisfied: pytz>=2020.1 in /util/opt/anaconda/deployed-conda-envs/packages/tensorflow-gpu/envs/tensorflow-gpu-2.9.1-py38/lib/python3.8/site-packages (from pandas>=0.25->seaborn) (2022.2.1)\n",
      "Requirement already satisfied: six>=1.5 in /util/opt/anaconda/deployed-conda-envs/packages/tensorflow-gpu/envs/tensorflow-gpu-2.9.1-py38/lib/python3.8/site-packages (from python-dateutil>=2.7->matplotlib>=3.1->seaborn) (1.16.0)\n",
      "Note: you may need to restart the kernel to use updated packages.\n"
     ]
    }
   ],
   "source": [
    "%pip install pillow\n",
    "import sys\n",
    "from PIL import Image\n",
    "sys.modules['Image'] = Image \n",
    "%pip install scipy\n",
    "%pip install seaborn"
   ]
  },
  {
   "cell_type": "code",
   "execution_count": 3,
   "id": "d67a3c13-2555-4c0a-a6df-9ead6289383e",
   "metadata": {},
   "outputs": [
    {
     "name": "stdout",
     "output_type": "stream",
     "text": [
      "Found 2580 images belonging to 2 classes.\n",
      "Found 644 images belonging to 2 classes.\n"
     ]
    }
   ],
   "source": [
    "from keras.preprocessing.image import ImageDataGenerator\n",
    "train_datagen = ImageDataGenerator(rescale=1./255,\n",
    "                                   shear_range=0.2,\n",
    "                                   zoom_range=0.2,\n",
    "                                   rotation_range=45,\n",
    "                                   horizontal_flip=True,\n",
    "                                   vertical_flip=True,\n",
    "                                   validation_split = .2)\n",
    "test_datagen = ImageDataGenerator(rescale=1./255,\n",
    "                                  validation_split = .2)\n",
    "\n",
    "training_set = train_datagen.flow_from_directory('/work/networks/sriram88/DATA',\n",
    "                                       target_size=(300, 300),\n",
    "                                                batch_size=32,\n",
    "                                     class_mode='categorical',\n",
    "                                            subset='training')\n",
    "\n",
    "validation_set = test_datagen.flow_from_directory('/work/networks/sriram88/DATA',\n",
    "                                        target_size=(300, 300),\n",
    "                                                 batch_size=32,\n",
    "                                      class_mode='categorical',\n",
    "                                               shuffle = False,\n",
    "                                           subset='validation')"
   ]
  },
  {
   "cell_type": "code",
   "execution_count": 4,
   "id": "e4e13db1-a095-429e-8e53-5342a81c4cb8",
   "metadata": {},
   "outputs": [
    {
     "name": "stderr",
     "output_type": "stream",
     "text": [
      "2023-10-22 18:33:44.764718: I tensorflow/core/platform/cpu_feature_guard.cc:193] This TensorFlow binary is optimized with oneAPI Deep Neural Network Library (oneDNN) to use the following CPU instructions in performance-critical operations:  SSE4.1 SSE4.2 AVX AVX2 AVX512F AVX512_VNNI FMA\n",
      "To enable them in other operations, rebuild TensorFlow with the appropriate compiler flags.\n",
      "2023-10-22 18:33:46.220561: I tensorflow/core/common_runtime/gpu/gpu_device.cc:1532] Created device /job:localhost/replica:0/task:0/device:GPU:0 with 30952 MB memory:  -> device: 0, name: Tesla V100-PCIE-32GB, pci bus id: 0000:5e:00.0, compute capability: 7.0\n"
     ]
    }
   ],
   "source": [
    "from tensorflow.keras.models import Sequential\n",
    "from tensorflow.keras.models import Sequential\n",
    "from tensorflow.keras.layers import Conv2D, MaxPooling2D, Dense, Flatten, Dropout\n",
    "from keras.callbacks import ModelCheckpoint, EarlyStopping\n",
    "import keras\n",
    "##model building\n",
    "model = Sequential()\n",
    "#convolutional layer with rectified linear unit activation\n",
    "model.add(Conv2D(32, kernel_size=(3, 3),\n",
    "                 activation='relu',\n",
    "                 input_shape=(300,300,3)))\n",
    "#32 convolution filters used each of size 3x3\n",
    "#again\n",
    "model.add(Conv2D(64, (3, 3), activation='relu'))\n",
    "#64 convolution filters used each of size 3x3\n",
    "#choose the best features via pooling\n",
    "model.add(MaxPooling2D(pool_size=(2, 2)))\n",
    "#randomly turn neurons on and off to improve convergence\n",
    "model.add(Dropout(0.25))\n",
    "#flatten since too many dimensions, we only want a classification output\n",
    "model.add(Flatten())\n",
    "#fully connected to get all relevant data\n",
    "model.add(Dense(128, activation='relu'))\n",
    "#one more dropout for convergence' sake :) \n",
    "model.add(Dropout(0.5))\n",
    "#output a softmax to squash the matrix into output probabilities\n",
    "model.add(Dense(2, activation='softmax'))\n",
    "#Adaptive learning rate (adaDelta) is a popular form of gradient descent rivaled only by adam and adagrad\n",
    "#categorical ce since we have multiple classes (10) \n",
    "model.compile(loss=keras.losses.categorical_crossentropy,\n",
    "              optimizer=keras.optimizers.Adadelta(),\n",
    "              metrics=['accuracy'])"
   ]
  },
  {
   "cell_type": "code",
   "execution_count": 5,
   "id": "6038ca68-6f00-4fde-96b0-bde9259219f0",
   "metadata": {},
   "outputs": [
    {
     "name": "stdout",
     "output_type": "stream",
     "text": [
      "Model: \"sequential\"\n",
      "_________________________________________________________________\n",
      " Layer (type)                Output Shape              Param #   \n",
      "=================================================================\n",
      " conv2d (Conv2D)             (None, 298, 298, 32)      896       \n",
      "                                                                 \n",
      " conv2d_1 (Conv2D)           (None, 296, 296, 64)      18496     \n",
      "                                                                 \n",
      " max_pooling2d (MaxPooling2D  (None, 148, 148, 64)     0         \n",
      " )                                                               \n",
      "                                                                 \n",
      " dropout (Dropout)           (None, 148, 148, 64)      0         \n",
      "                                                                 \n",
      " flatten (Flatten)           (None, 1401856)           0         \n",
      "                                                                 \n",
      " dense (Dense)               (None, 128)               179437696 \n",
      "                                                                 \n",
      " dropout_1 (Dropout)         (None, 128)               0         \n",
      "                                                                 \n",
      " dense_1 (Dense)             (None, 2)                 258       \n",
      "                                                                 \n",
      "=================================================================\n",
      "Total params: 179,457,346\n",
      "Trainable params: 179,457,346\n",
      "Non-trainable params: 0\n",
      "_________________________________________________________________\n"
     ]
    }
   ],
   "source": [
    "model.summary()"
   ]
  },
  {
   "cell_type": "code",
   "execution_count": 6,
   "id": "d5b0d8bc-27cc-4817-b138-276e563208a3",
   "metadata": {},
   "outputs": [
    {
     "name": "stdout",
     "output_type": "stream",
     "text": [
      "WARNING:tensorflow:`period` argument is deprecated. Please use `save_freq` to specify the frequency in number of batches seen.\n"
     ]
    },
    {
     "name": "stderr",
     "output_type": "stream",
     "text": [
      "WARNING:tensorflow:`period` argument is deprecated. Please use `save_freq` to specify the frequency in number of batches seen.\n"
     ]
    },
    {
     "name": "stdout",
     "output_type": "stream",
     "text": [
      "Epoch 1/50\n"
     ]
    },
    {
     "name": "stderr",
     "output_type": "stream",
     "text": [
      "2023-10-22 18:33:51.149500: I tensorflow/stream_executor/cuda/cuda_dnn.cc:384] Loaded cuDNN version 8401\n",
      "2023-10-22 18:33:52.626271: I tensorflow/core/platform/default/subprocess.cc:304] Start cannot spawn child process: No such file or directory\n",
      "2023-10-22 18:33:52.626601: I tensorflow/core/platform/default/subprocess.cc:304] Start cannot spawn child process: No such file or directory\n",
      "2023-10-22 18:33:52.626631: W tensorflow/stream_executor/gpu/asm_compiler.cc:80] Couldn't get ptxas version string: INTERNAL: Couldn't invoke ptxas --version\n",
      "2023-10-22 18:33:52.627082: I tensorflow/core/platform/default/subprocess.cc:304] Start cannot spawn child process: No such file or directory\n",
      "2023-10-22 18:33:52.627124: W tensorflow/stream_executor/gpu/redzone_allocator.cc:314] INTERNAL: Failed to launch ptxas\n",
      "Relying on driver to perform ptx compilation. \n",
      "Modify $PATH to customize ptxas location.\n",
      "This message will be only logged once.\n"
     ]
    },
    {
     "name": "stdout",
     "output_type": "stream",
     "text": [
      "81/81 [==============================] - ETA: 0s - loss: 0.6615 - accuracy: 0.5857\n",
      "Epoch 1: val_accuracy improved from -inf to 0.60559, saving model to cnn.h5\n",
      "81/81 [==============================] - 127s 2s/step - loss: 0.6615 - accuracy: 0.5857 - val_loss: 0.5897 - val_accuracy: 0.6056\n",
      "Epoch 2/50\n",
      "81/81 [==============================] - ETA: 0s - loss: 0.6122 - accuracy: 0.6787\n",
      "Epoch 2: val_accuracy improved from 0.60559 to 0.88199, saving model to cnn.h5\n",
      "81/81 [==============================] - 82s 1s/step - loss: 0.6122 - accuracy: 0.6787 - val_loss: 0.4821 - val_accuracy: 0.8820\n",
      "Epoch 3/50\n",
      "81/81 [==============================] - ETA: 0s - loss: 0.5746 - accuracy: 0.7171\n",
      "Epoch 3: val_accuracy did not improve from 0.88199\n",
      "81/81 [==============================] - 77s 954ms/step - loss: 0.5746 - accuracy: 0.7171 - val_loss: 0.4523 - val_accuracy: 0.7950\n",
      "Epoch 4/50\n",
      "81/81 [==============================] - ETA: 0s - loss: 0.5450 - accuracy: 0.7450\n",
      "Epoch 4: val_accuracy did not improve from 0.88199\n",
      "81/81 [==============================] - 77s 957ms/step - loss: 0.5450 - accuracy: 0.7450 - val_loss: 0.4109 - val_accuracy: 0.8307\n",
      "Epoch 5/50\n",
      "81/81 [==============================] - ETA: 0s - loss: 0.5178 - accuracy: 0.7690\n",
      "Epoch 5: val_accuracy did not improve from 0.88199\n",
      "81/81 [==============================] - 77s 950ms/step - loss: 0.5178 - accuracy: 0.7690 - val_loss: 0.3984 - val_accuracy: 0.8152\n",
      "Epoch 6/50\n",
      "81/81 [==============================] - ETA: 0s - loss: 0.5021 - accuracy: 0.7767\n",
      "Epoch 6: val_accuracy did not improve from 0.88199\n",
      "81/81 [==============================] - 77s 949ms/step - loss: 0.5021 - accuracy: 0.7767 - val_loss: 0.3485 - val_accuracy: 0.8804\n",
      "Epoch 7/50\n",
      "81/81 [==============================] - ETA: 0s - loss: 0.4792 - accuracy: 0.7860\n",
      "Epoch 7: val_accuracy did not improve from 0.88199\n",
      "81/81 [==============================] - 77s 954ms/step - loss: 0.4792 - accuracy: 0.7860 - val_loss: 0.3389 - val_accuracy: 0.8727\n",
      "Epoch 8/50\n",
      "81/81 [==============================] - ETA: 0s - loss: 0.4698 - accuracy: 0.8016\n",
      "Epoch 8: val_accuracy improved from 0.88199 to 0.92391, saving model to cnn.h5\n",
      "81/81 [==============================] - 82s 1s/step - loss: 0.4698 - accuracy: 0.8016 - val_loss: 0.3010 - val_accuracy: 0.9239\n",
      "Epoch 9/50\n",
      "81/81 [==============================] - ETA: 0s - loss: 0.4448 - accuracy: 0.8116\n",
      "Epoch 9: val_accuracy improved from 0.92391 to 0.94255, saving model to cnn.h5\n",
      "81/81 [==============================] - 82s 1s/step - loss: 0.4448 - accuracy: 0.8116 - val_loss: 0.2544 - val_accuracy: 0.9425\n",
      "Epoch 10/50\n",
      "81/81 [==============================] - ETA: 0s - loss: 0.4247 - accuracy: 0.8275\n",
      "Epoch 10: val_accuracy did not improve from 0.94255\n",
      "81/81 [==============================] - 77s 952ms/step - loss: 0.4247 - accuracy: 0.8275 - val_loss: 0.2454 - val_accuracy: 0.9410\n",
      "Epoch 11/50\n",
      "81/81 [==============================] - ETA: 0s - loss: 0.4027 - accuracy: 0.8484\n",
      "Epoch 11: val_accuracy did not improve from 0.94255\n",
      "81/81 [==============================] - 77s 956ms/step - loss: 0.4027 - accuracy: 0.8484 - val_loss: 0.2907 - val_accuracy: 0.9084\n",
      "Epoch 12/50\n",
      "81/81 [==============================] - ETA: 0s - loss: 0.3893 - accuracy: 0.8477\n",
      "Epoch 12: val_accuracy did not improve from 0.94255\n",
      "81/81 [==============================] - 77s 951ms/step - loss: 0.3893 - accuracy: 0.8477 - val_loss: 0.2426 - val_accuracy: 0.9332\n",
      "Epoch 13/50\n",
      "81/81 [==============================] - ETA: 0s - loss: 0.3626 - accuracy: 0.8628\n",
      "Epoch 13: val_accuracy improved from 0.94255 to 0.94720, saving model to cnn.h5\n",
      "81/81 [==============================] - 82s 1s/step - loss: 0.3626 - accuracy: 0.8628 - val_loss: 0.2155 - val_accuracy: 0.9472\n",
      "Epoch 14/50\n",
      "81/81 [==============================] - ETA: 0s - loss: 0.3542 - accuracy: 0.8705\n",
      "Epoch 14: val_accuracy did not improve from 0.94720\n",
      "81/81 [==============================] - 77s 956ms/step - loss: 0.3542 - accuracy: 0.8705 - val_loss: 0.2046 - val_accuracy: 0.9457\n",
      "Epoch 15/50\n",
      "81/81 [==============================] - ETA: 0s - loss: 0.3370 - accuracy: 0.8767\n",
      "Epoch 15: val_accuracy did not improve from 0.94720\n",
      "81/81 [==============================] - 77s 948ms/step - loss: 0.3370 - accuracy: 0.8767 - val_loss: 0.2179 - val_accuracy: 0.9394\n",
      "Epoch 16/50\n",
      "81/81 [==============================] - ETA: 0s - loss: 0.3223 - accuracy: 0.8833\n",
      "Epoch 16: val_accuracy improved from 0.94720 to 0.94876, saving model to cnn.h5\n",
      "81/81 [==============================] - 81s 1s/step - loss: 0.3223 - accuracy: 0.8833 - val_loss: 0.1945 - val_accuracy: 0.9488\n",
      "Epoch 17/50\n",
      "81/81 [==============================] - ETA: 0s - loss: 0.3209 - accuracy: 0.8783\n",
      "Epoch 17: val_accuracy improved from 0.94876 to 0.95497, saving model to cnn.h5\n",
      "81/81 [==============================] - 81s 1s/step - loss: 0.3209 - accuracy: 0.8783 - val_loss: 0.1762 - val_accuracy: 0.9550\n",
      "Epoch 18/50\n",
      "81/81 [==============================] - ETA: 0s - loss: 0.3035 - accuracy: 0.8891\n",
      "Epoch 18: val_accuracy improved from 0.95497 to 0.96894, saving model to cnn.h5\n",
      "81/81 [==============================] - 81s 1s/step - loss: 0.3035 - accuracy: 0.8891 - val_loss: 0.1542 - val_accuracy: 0.9689\n",
      "Epoch 19/50\n",
      "81/81 [==============================] - ETA: 0s - loss: 0.2861 - accuracy: 0.9035\n",
      "Epoch 19: val_accuracy did not improve from 0.96894\n",
      "81/81 [==============================] - 77s 949ms/step - loss: 0.2861 - accuracy: 0.9035 - val_loss: 0.1549 - val_accuracy: 0.9596\n",
      "Epoch 20/50\n",
      "81/81 [==============================] - ETA: 0s - loss: 0.2914 - accuracy: 0.9027\n",
      "Epoch 20: val_accuracy did not improve from 0.96894\n",
      "81/81 [==============================] - 77s 946ms/step - loss: 0.2914 - accuracy: 0.9027 - val_loss: 0.1822 - val_accuracy: 0.9472\n",
      "Epoch 21/50\n",
      "81/81 [==============================] - ETA: 0s - loss: 0.2747 - accuracy: 0.8992\n",
      "Epoch 21: val_accuracy did not improve from 0.96894\n",
      "81/81 [==============================] - 77s 948ms/step - loss: 0.2747 - accuracy: 0.8992 - val_loss: 0.1427 - val_accuracy: 0.9658\n",
      "Epoch 22/50\n",
      "81/81 [==============================] - ETA: 0s - loss: 0.2659 - accuracy: 0.9078\n",
      "Epoch 22: val_accuracy did not improve from 0.96894\n",
      "81/81 [==============================] - 77s 949ms/step - loss: 0.2659 - accuracy: 0.9078 - val_loss: 0.1615 - val_accuracy: 0.9550\n",
      "Epoch 23/50\n",
      "81/81 [==============================] - ETA: 0s - loss: 0.2562 - accuracy: 0.9136\n",
      "Epoch 23: val_accuracy did not improve from 0.96894\n",
      "81/81 [==============================] - 77s 952ms/step - loss: 0.2562 - accuracy: 0.9136 - val_loss: 0.1391 - val_accuracy: 0.9612\n",
      "Epoch 24/50\n",
      "81/81 [==============================] - ETA: 0s - loss: 0.2552 - accuracy: 0.9109\n",
      "Epoch 24: val_accuracy improved from 0.96894 to 0.97050, saving model to cnn.h5\n",
      "81/81 [==============================] - 81s 1s/step - loss: 0.2552 - accuracy: 0.9109 - val_loss: 0.1232 - val_accuracy: 0.9705\n",
      "Epoch 25/50\n",
      "81/81 [==============================] - ETA: 0s - loss: 0.2492 - accuracy: 0.9132\n",
      "Epoch 25: val_accuracy improved from 0.97050 to 0.97360, saving model to cnn.h5\n",
      "81/81 [==============================] - 82s 1s/step - loss: 0.2492 - accuracy: 0.9132 - val_loss: 0.1148 - val_accuracy: 0.9736\n",
      "Epoch 26/50\n",
      "81/81 [==============================] - ETA: 0s - loss: 0.2364 - accuracy: 0.9174\n",
      "Epoch 26: val_accuracy did not improve from 0.97360\n",
      "81/81 [==============================] - 77s 955ms/step - loss: 0.2364 - accuracy: 0.9174 - val_loss: 0.1152 - val_accuracy: 0.9736\n",
      "Epoch 27/50\n",
      "81/81 [==============================] - ETA: 0s - loss: 0.2340 - accuracy: 0.9229\n",
      "Epoch 27: val_accuracy did not improve from 0.97360\n",
      "81/81 [==============================] - 77s 953ms/step - loss: 0.2340 - accuracy: 0.9229 - val_loss: 0.1172 - val_accuracy: 0.9736\n",
      "Epoch 28/50\n",
      "81/81 [==============================] - ETA: 0s - loss: 0.2358 - accuracy: 0.9221\n",
      "Epoch 28: val_accuracy did not improve from 0.97360\n",
      "81/81 [==============================] - 77s 953ms/step - loss: 0.2358 - accuracy: 0.9221 - val_loss: 0.1184 - val_accuracy: 0.9736\n",
      "Epoch 29/50\n",
      "81/81 [==============================] - ETA: 0s - loss: 0.2260 - accuracy: 0.9256\n",
      "Epoch 29: val_accuracy improved from 0.97360 to 0.98447, saving model to cnn.h5\n",
      "81/81 [==============================] - 81s 1s/step - loss: 0.2260 - accuracy: 0.9256 - val_loss: 0.0962 - val_accuracy: 0.9845\n",
      "Epoch 30/50\n",
      "81/81 [==============================] - ETA: 0s - loss: 0.2189 - accuracy: 0.9318\n",
      "Epoch 30: val_accuracy did not improve from 0.98447\n",
      "81/81 [==============================] - 77s 952ms/step - loss: 0.2189 - accuracy: 0.9318 - val_loss: 0.1152 - val_accuracy: 0.9736\n",
      "Epoch 31/50\n",
      "81/81 [==============================] - ETA: 0s - loss: 0.2144 - accuracy: 0.9287\n",
      "Epoch 31: val_accuracy did not improve from 0.98447\n",
      "81/81 [==============================] - 77s 949ms/step - loss: 0.2144 - accuracy: 0.9287 - val_loss: 0.1152 - val_accuracy: 0.9705\n",
      "Epoch 32/50\n",
      "81/81 [==============================] - ETA: 0s - loss: 0.2139 - accuracy: 0.9295\n",
      "Epoch 32: val_accuracy did not improve from 0.98447\n",
      "81/81 [==============================] - 77s 953ms/step - loss: 0.2139 - accuracy: 0.9295 - val_loss: 0.1185 - val_accuracy: 0.9705\n",
      "Epoch 33/50\n",
      "81/81 [==============================] - ETA: 0s - loss: 0.2047 - accuracy: 0.9372\n",
      "Epoch 33: val_accuracy did not improve from 0.98447\n",
      "81/81 [==============================] - 77s 947ms/step - loss: 0.2047 - accuracy: 0.9372 - val_loss: 0.0902 - val_accuracy: 0.9829\n",
      "Epoch 34/50\n",
      "81/81 [==============================] - ETA: 0s - loss: 0.2046 - accuracy: 0.9333\n",
      "Epoch 34: val_accuracy did not improve from 0.98447\n",
      "81/81 [==============================] - 77s 951ms/step - loss: 0.2046 - accuracy: 0.9333 - val_loss: 0.1070 - val_accuracy: 0.9720\n",
      "Epoch 35/50\n",
      "81/81 [==============================] - ETA: 0s - loss: 0.2098 - accuracy: 0.9271\n",
      "Epoch 35: val_accuracy did not improve from 0.98447\n",
      "81/81 [==============================] - 77s 947ms/step - loss: 0.2098 - accuracy: 0.9271 - val_loss: 0.0954 - val_accuracy: 0.9829\n",
      "Epoch 36/50\n",
      "81/81 [==============================] - ETA: 0s - loss: 0.2017 - accuracy: 0.9395\n",
      "Epoch 36: val_accuracy did not improve from 0.98447\n",
      "81/81 [==============================] - 77s 954ms/step - loss: 0.2017 - accuracy: 0.9395 - val_loss: 0.1036 - val_accuracy: 0.9752\n",
      "Epoch 37/50\n",
      "81/81 [==============================] - ETA: 0s - loss: 0.1965 - accuracy: 0.9380\n",
      "Epoch 37: val_accuracy did not improve from 0.98447\n",
      "81/81 [==============================] - 77s 950ms/step - loss: 0.1965 - accuracy: 0.9380 - val_loss: 0.0957 - val_accuracy: 0.9814\n",
      "Epoch 38/50\n",
      "81/81 [==============================] - ETA: 0s - loss: 0.1949 - accuracy: 0.9329\n",
      "Epoch 38: val_accuracy did not improve from 0.98447\n",
      "81/81 [==============================] - 77s 954ms/step - loss: 0.1949 - accuracy: 0.9329 - val_loss: 0.0924 - val_accuracy: 0.9845\n",
      "Epoch 39/50\n",
      "81/81 [==============================] - ETA: 0s - loss: 0.1925 - accuracy: 0.9376\n",
      "Epoch 39: val_accuracy did not improve from 0.98447\n",
      "81/81 [==============================] - 77s 954ms/step - loss: 0.1925 - accuracy: 0.9376 - val_loss: 0.0821 - val_accuracy: 0.9845\n",
      "Epoch 40/50\n",
      "81/81 [==============================] - ETA: 0s - loss: 0.1850 - accuracy: 0.9419\n",
      "Epoch 40: val_accuracy did not improve from 0.98447\n",
      "81/81 [==============================] - 77s 951ms/step - loss: 0.1850 - accuracy: 0.9419 - val_loss: 0.0814 - val_accuracy: 0.9829\n",
      "Epoch 41/50\n",
      "81/81 [==============================] - ETA: 0s - loss: 0.1791 - accuracy: 0.9430\n",
      "Epoch 41: val_accuracy did not improve from 0.98447\n",
      "81/81 [==============================] - 77s 948ms/step - loss: 0.1791 - accuracy: 0.9430 - val_loss: 0.0722 - val_accuracy: 0.9845\n",
      "Epoch 42/50\n",
      "81/81 [==============================] - ETA: 0s - loss: 0.1797 - accuracy: 0.9438\n",
      "Epoch 42: val_accuracy did not improve from 0.98447\n",
      "81/81 [==============================] - 77s 953ms/step - loss: 0.1797 - accuracy: 0.9438 - val_loss: 0.0746 - val_accuracy: 0.9845\n",
      "Epoch 43/50\n",
      "81/81 [==============================] - ETA: 0s - loss: 0.1809 - accuracy: 0.9442\n",
      "Epoch 43: val_accuracy did not improve from 0.98447\n",
      "81/81 [==============================] - 76s 944ms/step - loss: 0.1809 - accuracy: 0.9442 - val_loss: 0.0912 - val_accuracy: 0.9798\n",
      "Epoch 44/50\n",
      "81/81 [==============================] - ETA: 0s - loss: 0.1760 - accuracy: 0.9469\n",
      "Epoch 44: val_accuracy did not improve from 0.98447\n",
      "81/81 [==============================] - 77s 947ms/step - loss: 0.1760 - accuracy: 0.9469 - val_loss: 0.0756 - val_accuracy: 0.9845\n",
      "Epoch 45/50\n",
      "81/81 [==============================] - ETA: 0s - loss: 0.1711 - accuracy: 0.9500\n",
      "Epoch 45: val_accuracy did not improve from 0.98447\n",
      "81/81 [==============================] - 77s 948ms/step - loss: 0.1711 - accuracy: 0.9500 - val_loss: 0.1085 - val_accuracy: 0.9689\n",
      "Epoch 46/50\n",
      "81/81 [==============================] - ETA: 0s - loss: 0.1695 - accuracy: 0.9477\n",
      "Epoch 46: val_accuracy did not improve from 0.98447\n",
      "81/81 [==============================] - 77s 945ms/step - loss: 0.1695 - accuracy: 0.9477 - val_loss: 0.0661 - val_accuracy: 0.9814\n",
      "Epoch 47/50\n",
      "81/81 [==============================] - ETA: 0s - loss: 0.1618 - accuracy: 0.9508\n",
      "Epoch 47: val_accuracy did not improve from 0.98447\n",
      "81/81 [==============================] - 77s 946ms/step - loss: 0.1618 - accuracy: 0.9508 - val_loss: 0.0768 - val_accuracy: 0.9829\n",
      "Epoch 48/50\n",
      "81/81 [==============================] - ETA: 0s - loss: 0.1626 - accuracy: 0.9539\n",
      "Epoch 48: val_accuracy did not improve from 0.98447\n",
      "81/81 [==============================] - 77s 947ms/step - loss: 0.1626 - accuracy: 0.9539 - val_loss: 0.0641 - val_accuracy: 0.9845\n",
      "Epoch 49/50\n",
      "81/81 [==============================] - ETA: 0s - loss: 0.1653 - accuracy: 0.9469\n",
      "Epoch 49: val_accuracy did not improve from 0.98447\n",
      "81/81 [==============================] - 77s 946ms/step - loss: 0.1653 - accuracy: 0.9469 - val_loss: 0.0762 - val_accuracy: 0.9814\n",
      "Epoch 49: early stopping\n"
     ]
    },
    {
     "data": {
      "text/plain": [
       "<keras.callbacks.History at 0x14d5d4596700>"
      ]
     },
     "execution_count": 6,
     "metadata": {},
     "output_type": "execute_result"
    }
   ],
   "source": [
    "checkpoint = ModelCheckpoint(\"cnn.h5\", monitor='val_accuracy', verbose=1, save_best_only=True, save_weights_only=False, mode='auto', period=1)\n",
    "early = EarlyStopping(monitor='val_accuracy', min_delta=0, patience=20, verbose=1, mode='auto')\n",
    "#model training\n",
    "model.fit(training_set,\n",
    "                    steps_per_epoch=len(training_set),\n",
    "                    epochs=50,\n",
    "                    batch_size =128,\n",
    "                    validation_data=validation_set,\n",
    "                    callbacks=[checkpoint,early],\n",
    "                    validation_steps = len(validation_set))"
   ]
  },
  {
   "cell_type": "code",
   "execution_count": 7,
   "id": "6c66f7a7-b7b1-4c35-a7f6-bf8a7c12a42b",
   "metadata": {},
   "outputs": [
    {
     "name": "stdout",
     "output_type": "stream",
     "text": [
      "Defaulting to user installation because normal site-packages is not writeable\n",
      "Requirement already satisfied: scikit-learn in /util/opt/anaconda/deployed-conda-envs/packages/tensorflow-gpu/envs/tensorflow-gpu-2.9.1-py38/lib/python3.8/site-packages (1.1.2)\n",
      "Requirement already satisfied: numpy>=1.17.3 in /util/opt/anaconda/deployed-conda-envs/packages/tensorflow-gpu/envs/tensorflow-gpu-2.9.1-py38/lib/python3.8/site-packages (from scikit-learn) (1.23.3)\n",
      "Requirement already satisfied: scipy>=1.3.2 in /util/opt/anaconda/deployed-conda-envs/packages/tensorflow-gpu/envs/tensorflow-gpu-2.9.1-py38/lib/python3.8/site-packages (from scikit-learn) (1.9.1)\n",
      "Requirement already satisfied: threadpoolctl>=2.0.0 in /util/opt/anaconda/deployed-conda-envs/packages/tensorflow-gpu/envs/tensorflow-gpu-2.9.1-py38/lib/python3.8/site-packages (from scikit-learn) (3.1.0)\n",
      "Requirement already satisfied: joblib>=1.0.0 in /util/opt/anaconda/deployed-conda-envs/packages/tensorflow-gpu/envs/tensorflow-gpu-2.9.1-py38/lib/python3.8/site-packages (from scikit-learn) (1.1.0)\n",
      "Note: you may need to restart the kernel to use updated packages.\n",
      "Confusion Matrix for CNN\n",
      "Classification Report\n",
      "              precision    recall  f1-score   support\n",
      "\n",
      "       NH4CL       0.97      1.00      0.98       313\n",
      "      Others       1.00      0.97      0.98       331\n",
      "\n",
      "    accuracy                           0.98       644\n",
      "   macro avg       0.98      0.98      0.98       644\n",
      "weighted avg       0.98      0.98      0.98       644\n",
      "\n"
     ]
    }
   ],
   "source": [
    "%pip install scikit-learn\n",
    "import numpy as np\n",
    "from sklearn.metrics import classification_report, confusion_matrix\n",
    "Y_pred = model.predict_generator(validation_set)\n",
    "y_pred = np.argmax(Y_pred, axis=1)\n",
    "print('Confusion Matrix for CNN')\n",
    "cm=confusion_matrix(validation_set.classes, y_pred)\n",
    "print('Classification Report')\n",
    "target_names = ['NH4CL', 'Others']\n",
    "print(classification_report(validation_set.classes, y_pred, target_names=target_names))"
   ]
  },
  {
   "cell_type": "code",
   "execution_count": 8,
   "id": "b9116074-635f-4661-9e98-9cb57748118a",
   "metadata": {},
   "outputs": [
    {
     "name": "stdout",
     "output_type": "stream",
     "text": [
      "Defaulting to user installation because normal site-packages is not writeable\n",
      "Requirement already satisfied: seaborn in /util/opt/anaconda/deployed-conda-envs/packages/tensorflow-gpu/envs/tensorflow-gpu-2.9.1-py38/lib/python3.8/site-packages (0.12.0)\n",
      "Requirement already satisfied: numpy>=1.17 in /util/opt/anaconda/deployed-conda-envs/packages/tensorflow-gpu/envs/tensorflow-gpu-2.9.1-py38/lib/python3.8/site-packages (from seaborn) (1.23.3)\n",
      "Requirement already satisfied: matplotlib>=3.1 in /util/opt/anaconda/deployed-conda-envs/packages/tensorflow-gpu/envs/tensorflow-gpu-2.9.1-py38/lib/python3.8/site-packages (from seaborn) (3.5.3)\n",
      "Requirement already satisfied: pandas>=0.25 in /util/opt/anaconda/deployed-conda-envs/packages/tensorflow-gpu/envs/tensorflow-gpu-2.9.1-py38/lib/python3.8/site-packages (from seaborn) (1.4.4)\n",
      "Requirement already satisfied: kiwisolver>=1.0.1 in /util/opt/anaconda/deployed-conda-envs/packages/tensorflow-gpu/envs/tensorflow-gpu-2.9.1-py38/lib/python3.8/site-packages (from matplotlib>=3.1->seaborn) (1.4.4)\n",
      "Requirement already satisfied: fonttools>=4.22.0 in /util/opt/anaconda/deployed-conda-envs/packages/tensorflow-gpu/envs/tensorflow-gpu-2.9.1-py38/lib/python3.8/site-packages (from matplotlib>=3.1->seaborn) (4.37.1)\n",
      "Requirement already satisfied: pillow>=6.2.0 in ./.local/lib/python3.8/site-packages (from matplotlib>=3.1->seaborn) (10.0.1)\n",
      "Requirement already satisfied: python-dateutil>=2.7 in /util/opt/anaconda/deployed-conda-envs/packages/tensorflow-gpu/envs/tensorflow-gpu-2.9.1-py38/lib/python3.8/site-packages (from matplotlib>=3.1->seaborn) (2.8.2)\n",
      "Requirement already satisfied: packaging>=20.0 in /util/opt/anaconda/deployed-conda-envs/packages/tensorflow-gpu/envs/tensorflow-gpu-2.9.1-py38/lib/python3.8/site-packages (from matplotlib>=3.1->seaborn) (21.3)\n",
      "Requirement already satisfied: pyparsing>=2.2.1 in /util/opt/anaconda/deployed-conda-envs/packages/tensorflow-gpu/envs/tensorflow-gpu-2.9.1-py38/lib/python3.8/site-packages (from matplotlib>=3.1->seaborn) (3.0.9)\n",
      "Requirement already satisfied: cycler>=0.10 in /util/opt/anaconda/deployed-conda-envs/packages/tensorflow-gpu/envs/tensorflow-gpu-2.9.1-py38/lib/python3.8/site-packages (from matplotlib>=3.1->seaborn) (0.11.0)\n",
      "Requirement already satisfied: pytz>=2020.1 in /util/opt/anaconda/deployed-conda-envs/packages/tensorflow-gpu/envs/tensorflow-gpu-2.9.1-py38/lib/python3.8/site-packages (from pandas>=0.25->seaborn) (2022.2.1)\n",
      "Requirement already satisfied: six>=1.5 in /util/opt/anaconda/deployed-conda-envs/packages/tensorflow-gpu/envs/tensorflow-gpu-2.9.1-py38/lib/python3.8/site-packages (from python-dateutil>=2.7->matplotlib>=3.1->seaborn) (1.16.0)\n",
      "Note: you may need to restart the kernel to use updated packages.\n"
     ]
    },
    {
     "data": {
      "image/png": "[encoded data removed]",
      "text/plain": [
       "<Figure size 640x480 with 2 Axes>"
      ]
     },
     "metadata": {},
     "output_type": "display_data"
    }
   ],
   "source": [
    "from sklearn.metrics import ConfusionMatrixDisplay\n",
    "from sklearn.metrics import confusion_matrix\n",
    "import matplotlib.pyplot as plt\n",
    "import numpy as np\n",
    "%pip install seaborn\n",
    "import seaborn as sns\n",
    "labels = ['NH\\u2084CL', \"Others\",]\n",
    "disp = ConfusionMatrixDisplay(confusion_matrix=cm, display_labels=labels)\n",
    "# sns.heatmap(cm, annot=True)\n",
    "# disp.plot(cmap=plt.cm.Blues)\n",
    "# plt.rcParams[\"font.weight\"] = \"bold\"\n",
    "# plt.rcParams[\"axes.labelweight\"] = \"bold\"\n",
    "# plt.title('CNN Confusion Matrix')\n",
    "\n",
    "# plt.savefig('cnn.png')\n",
    "\n",
    "group_names = ['True Negative','False Positive','False Negative','True Positive']\n",
    "group_counts = ['{0:0.0f}'.format(value) for value in\n",
    "                cm.flatten()]\n",
    "group_percentages = ['{0:.2%}'.format(value) for value in\n",
    "                     cm.flatten()/np.sum(cm)]\n",
    "labels = [f'{v1}\\n{v2}\\n{v3}' for v1, v2, v3 in\n",
    "          zip(group_names,group_counts,group_percentages)]\n",
    "labels = np.asarray(labels).reshape(2,2)\n",
    "label = ['NH\\u2084CL', \"Others\",]\n",
    "sns.heatmap(cm, annot=labels, fmt='',xticklabels=label, yticklabels=label)\n",
    "plt.title('CNN Confusion Matrix',fontweight='bold')\n",
    "plt.xlabel('Predicted')\n",
    "plt.ylabel('True')\n",
    "plt.savefig('cnn.png')\n",
    "plt.show()"
   ]
  },
  {
   "cell_type": "code",
   "execution_count": 9,
   "id": "a611c766-3868-4408-a2b4-8a2adb9a83da",
   "metadata": {},
   "outputs": [
    {
     "name": "stdout",
     "output_type": "stream",
     "text": [
      "21/21 [==============================] - 11s 502ms/step - loss: 0.0762 - accuracy: 0.9814\n",
      "21/21 [==============================] - 11s 497ms/step\n"
     ]
    },
    {
     "data": {
      "image/png": "[encoded data removed]",
      "text/plain": [
       "<Figure size 640x480 with 1 Axes>"
      ]
     },
     "metadata": {},
     "output_type": "display_data"
    }
   ],
   "source": [
    "from sklearn.metrics import roc_curve\n",
    "from sklearn.metrics import auc\n",
    "from sklearn.metrics import roc_auc_score\n",
    "model.evaluate(validation_set)\n",
    "\n",
    "\n",
    "\n",
    "STEP_SIZE_TEST=validation_set.n//validation_set.batch_size\n",
    "validation_set.reset()\n",
    "preds=model.predict(validation_set)\n",
    "preds\n",
    "\n",
    "fpr, tpr, _ = roc_curve(validation_set.classes,  preds[:,1])\n",
    "roc_auc = auc(fpr, tpr)\n",
    "plt.figure()\n",
    "lw = 2\n",
    "plt.rcParams[\"font.weight\"] = \"bold\"\n",
    "plt.rcParams[\"axes.labelweight\"] = \"bold\"\n",
    "plt.plot(fpr, tpr, color='darkorange',\n",
    "lw=lw, label='ROC curve (area = %0.2f)' % roc_auc)\n",
    "plt.plot([0, 1], [0, 1], color='navy', lw=lw, linestyle='--')\n",
    "plt.xlim([0.0, 1.0])\n",
    "plt.ylim([0.0, 1.05])\n",
    "plt.xlabel('False Positive Rate')\n",
    "plt.ylabel('True Positive Rate')\n",
    "plt.title('Receiver operating characteristic for CNN',fontweight='bold')\n",
    "plt.legend(loc=\"lower right\")\n",
    "plt.savefig('RocCNN.png')\n",
    "plt.show()\n"
   ]
  },
  {
   "cell_type": "code",
   "execution_count": 10,
   "id": "05c32e04-650f-41e2-a57a-dd6b24c94824",
   "metadata": {},
   "outputs": [
    {
     "name": "stdout",
     "output_type": "stream",
     "text": [
      "WARNING:tensorflow:`period` argument is deprecated. Please use `save_freq` to specify the frequency in number of batches seen.\n"
     ]
    },
    {
     "name": "stderr",
     "output_type": "stream",
     "text": [
      "WARNING:tensorflow:`period` argument is deprecated. Please use `save_freq` to specify the frequency in number of batches seen.\n"
     ]
    },
    {
     "name": "stdout",
     "output_type": "stream",
     "text": [
      "Epoch 1/50\n",
      "81/81 [==============================] - ETA: 0s - loss: 0.3883 - accuracy: 0.8539\n",
      "Epoch 1: val_accuracy improved from -inf to 0.51398, saving model to resnet50.h5\n",
      "81/81 [==============================] - 86s 980ms/step - loss: 0.3883 - accuracy: 0.8539 - val_loss: 1.1056 - val_accuracy: 0.5140\n",
      "Epoch 2/50\n",
      "81/81 [==============================] - ETA: 0s - loss: 0.1098 - accuracy: 0.9872\n",
      "Epoch 2: val_accuracy did not improve from 0.51398\n",
      "81/81 [==============================] - 77s 953ms/step - loss: 0.1098 - accuracy: 0.9872 - val_loss: 2.4639 - val_accuracy: 0.5140\n",
      "Epoch 3/50\n",
      "81/81 [==============================] - ETA: 0s - loss: 0.0633 - accuracy: 0.9911\n",
      "Epoch 3: val_accuracy did not improve from 0.51398\n",
      "81/81 [==============================] - 78s 958ms/step - loss: 0.0633 - accuracy: 0.9911 - val_loss: 3.2933 - val_accuracy: 0.5140\n",
      "Epoch 4/50\n",
      "81/81 [==============================] - ETA: 0s - loss: 0.0505 - accuracy: 0.9915\n",
      "Epoch 4: val_accuracy did not improve from 0.51398\n",
      "81/81 [==============================] - 77s 953ms/step - loss: 0.0505 - accuracy: 0.9915 - val_loss: 3.3321 - val_accuracy: 0.5140\n",
      "Epoch 5/50\n",
      "81/81 [==============================] - ETA: 0s - loss: 0.0408 - accuracy: 0.9926\n",
      "Epoch 5: val_accuracy did not improve from 0.51398\n",
      "81/81 [==============================] - 77s 953ms/step - loss: 0.0408 - accuracy: 0.9926 - val_loss: 2.6605 - val_accuracy: 0.5140\n",
      "Epoch 6/50\n",
      "81/81 [==============================] - ETA: 0s - loss: 0.0338 - accuracy: 0.9930\n",
      "Epoch 6: val_accuracy did not improve from 0.51398\n",
      "81/81 [==============================] - 77s 953ms/step - loss: 0.0338 - accuracy: 0.9930 - val_loss: 2.0092 - val_accuracy: 0.5140\n",
      "Epoch 7/50\n",
      "81/81 [==============================] - ETA: 0s - loss: 0.0275 - accuracy: 0.9957\n",
      "Epoch 7: val_accuracy did not improve from 0.51398\n",
      "81/81 [==============================] - 77s 951ms/step - loss: 0.0275 - accuracy: 0.9957 - val_loss: 1.3329 - val_accuracy: 0.5140\n",
      "Epoch 8/50\n",
      "81/81 [==============================] - ETA: 0s - loss: 0.0241 - accuracy: 0.9961\n",
      "Epoch 8: val_accuracy did not improve from 0.51398\n",
      "81/81 [==============================] - 78s 958ms/step - loss: 0.0241 - accuracy: 0.9961 - val_loss: 1.2897 - val_accuracy: 0.5140\n",
      "Epoch 9/50\n",
      "81/81 [==============================] - ETA: 0s - loss: 0.0240 - accuracy: 0.9946\n",
      "Epoch 9: val_accuracy did not improve from 0.51398\n",
      "81/81 [==============================] - 77s 953ms/step - loss: 0.0240 - accuracy: 0.9946 - val_loss: 1.5661 - val_accuracy: 0.5140\n",
      "Epoch 10/50\n",
      "81/81 [==============================] - ETA: 0s - loss: 0.0178 - accuracy: 0.9977\n",
      "Epoch 10: val_accuracy improved from 0.51398 to 0.51553, saving model to resnet50.h5\n",
      "81/81 [==============================] - 78s 963ms/step - loss: 0.0178 - accuracy: 0.9977 - val_loss: 1.5535 - val_accuracy: 0.5155\n",
      "Epoch 11/50\n",
      "81/81 [==============================] - ETA: 0s - loss: 0.0191 - accuracy: 0.9957\n",
      "Epoch 11: val_accuracy improved from 0.51553 to 0.52795, saving model to resnet50.h5\n",
      "81/81 [==============================] - 78s 959ms/step - loss: 0.0191 - accuracy: 0.9957 - val_loss: 1.3141 - val_accuracy: 0.5280\n",
      "Epoch 12/50\n",
      "81/81 [==============================] - ETA: 0s - loss: 0.0169 - accuracy: 0.9961\n",
      "Epoch 12: val_accuracy improved from 0.52795 to 0.55901, saving model to resnet50.h5\n",
      "81/81 [==============================] - 78s 958ms/step - loss: 0.0169 - accuracy: 0.9961 - val_loss: 0.9495 - val_accuracy: 0.5590\n",
      "Epoch 13/50\n",
      "81/81 [==============================] - ETA: 0s - loss: 0.0154 - accuracy: 0.9965\n",
      "Epoch 13: val_accuracy improved from 0.55901 to 0.71739, saving model to resnet50.h5\n",
      "81/81 [==============================] - 78s 960ms/step - loss: 0.0154 - accuracy: 0.9965 - val_loss: 0.4728 - val_accuracy: 0.7174\n",
      "Epoch 14/50\n",
      "81/81 [==============================] - ETA: 0s - loss: 0.0134 - accuracy: 0.9988\n",
      "Epoch 14: val_accuracy improved from 0.71739 to 0.92547, saving model to resnet50.h5\n",
      "81/81 [==============================] - 78s 960ms/step - loss: 0.0134 - accuracy: 0.9988 - val_loss: 0.1963 - val_accuracy: 0.9255\n",
      "Epoch 15/50\n",
      "81/81 [==============================] - ETA: 0s - loss: 0.0150 - accuracy: 0.9969\n",
      "Epoch 15: val_accuracy improved from 0.92547 to 0.97981, saving model to resnet50.h5\n",
      "81/81 [==============================] - 78s 957ms/step - loss: 0.0150 - accuracy: 0.9969 - val_loss: 0.1135 - val_accuracy: 0.9798\n",
      "Epoch 16/50\n",
      "81/81 [==============================] - ETA: 0s - loss: 0.0107 - accuracy: 0.9981\n",
      "Epoch 16: val_accuracy improved from 0.97981 to 0.98292, saving model to resnet50.h5\n",
      "81/81 [==============================] - 78s 963ms/step - loss: 0.0107 - accuracy: 0.9981 - val_loss: 0.0908 - val_accuracy: 0.9829\n",
      "Epoch 17/50\n",
      "81/81 [==============================] - ETA: 0s - loss: 0.0107 - accuracy: 0.9992\n",
      "Epoch 17: val_accuracy improved from 0.98292 to 0.99068, saving model to resnet50.h5\n",
      "81/81 [==============================] - 78s 965ms/step - loss: 0.0107 - accuracy: 0.9992 - val_loss: 0.0689 - val_accuracy: 0.9907\n",
      "Epoch 18/50\n",
      "81/81 [==============================] - ETA: 0s - loss: 0.0103 - accuracy: 0.9984\n",
      "Epoch 18: val_accuracy did not improve from 0.99068\n",
      "81/81 [==============================] - 78s 959ms/step - loss: 0.0103 - accuracy: 0.9984 - val_loss: 0.0614 - val_accuracy: 0.9876\n",
      "Epoch 19/50\n",
      "81/81 [==============================] - ETA: 0s - loss: 0.0105 - accuracy: 0.9992\n",
      "Epoch 19: val_accuracy improved from 0.99068 to 0.99689, saving model to resnet50.h5\n",
      "81/81 [==============================] - 78s 963ms/step - loss: 0.0105 - accuracy: 0.9992 - val_loss: 0.0293 - val_accuracy: 0.9969\n",
      "Epoch 20/50\n",
      "81/81 [==============================] - ETA: 0s - loss: 0.0094 - accuracy: 0.9977\n",
      "Epoch 20: val_accuracy improved from 0.99689 to 0.99845, saving model to resnet50.h5\n",
      "81/81 [==============================] - 78s 961ms/step - loss: 0.0094 - accuracy: 0.9977 - val_loss: 0.0151 - val_accuracy: 0.9984\n",
      "Epoch 21/50\n",
      "81/81 [==============================] - ETA: 0s - loss: 0.0085 - accuracy: 0.9988\n",
      "Epoch 21: val_accuracy did not improve from 0.99845\n",
      "81/81 [==============================] - 77s 949ms/step - loss: 0.0085 - accuracy: 0.9988 - val_loss: 0.0116 - val_accuracy: 0.9984\n",
      "Epoch 22/50\n",
      "81/81 [==============================] - ETA: 0s - loss: 0.0122 - accuracy: 0.9973\n",
      "Epoch 22: val_accuracy did not improve from 0.99845\n",
      "81/81 [==============================] - 77s 948ms/step - loss: 0.0122 - accuracy: 0.9973 - val_loss: 0.0060 - val_accuracy: 0.9984\n",
      "Epoch 23/50\n",
      "81/81 [==============================] - ETA: 0s - loss: 0.0099 - accuracy: 0.9981\n",
      "Epoch 23: val_accuracy did not improve from 0.99845\n",
      "81/81 [==============================] - 77s 954ms/step - loss: 0.0099 - accuracy: 0.9981 - val_loss: 0.0058 - val_accuracy: 0.9969\n",
      "Epoch 24/50\n",
      "81/81 [==============================] - ETA: 0s - loss: 0.0089 - accuracy: 0.9984\n",
      "Epoch 24: val_accuracy did not improve from 0.99845\n",
      "81/81 [==============================] - 77s 948ms/step - loss: 0.0089 - accuracy: 0.9984 - val_loss: 0.0076 - val_accuracy: 0.9984\n",
      "Epoch 25/50\n",
      "81/81 [==============================] - ETA: 0s - loss: 0.0097 - accuracy: 0.9981\n",
      "Epoch 25: val_accuracy improved from 0.99845 to 1.00000, saving model to resnet50.h5\n",
      "81/81 [==============================] - 78s 965ms/step - loss: 0.0097 - accuracy: 0.9981 - val_loss: 0.0037 - val_accuracy: 1.0000\n",
      "Epoch 26/50\n",
      "81/81 [==============================] - ETA: 0s - loss: 0.0088 - accuracy: 0.9981\n",
      "Epoch 26: val_accuracy did not improve from 1.00000\n",
      "81/81 [==============================] - 78s 962ms/step - loss: 0.0088 - accuracy: 0.9981 - val_loss: 0.0052 - val_accuracy: 1.0000\n",
      "Epoch 27/50\n",
      "81/81 [==============================] - ETA: 0s - loss: 0.0078 - accuracy: 0.9981\n",
      "Epoch 27: val_accuracy did not improve from 1.00000\n",
      "81/81 [==============================] - 78s 958ms/step - loss: 0.0078 - accuracy: 0.9981 - val_loss: 0.0027 - val_accuracy: 1.0000\n",
      "Epoch 28/50\n",
      "81/81 [==============================] - ETA: 0s - loss: 0.0055 - accuracy: 0.9992\n",
      "Epoch 28: val_accuracy did not improve from 1.00000\n",
      "81/81 [==============================] - 78s 959ms/step - loss: 0.0055 - accuracy: 0.9992 - val_loss: 0.0029 - val_accuracy: 1.0000\n",
      "Epoch 29/50\n",
      "81/81 [==============================] - ETA: 0s - loss: 0.0078 - accuracy: 0.9988\n",
      "Epoch 29: val_accuracy did not improve from 1.00000\n",
      "81/81 [==============================] - 77s 951ms/step - loss: 0.0078 - accuracy: 0.9988 - val_loss: 0.0052 - val_accuracy: 1.0000\n",
      "Epoch 30/50\n",
      "81/81 [==============================] - ETA: 0s - loss: 0.0076 - accuracy: 0.9984\n",
      "Epoch 30: val_accuracy did not improve from 1.00000\n",
      "81/81 [==============================] - 77s 950ms/step - loss: 0.0076 - accuracy: 0.9984 - val_loss: 0.0166 - val_accuracy: 1.0000\n",
      "Epoch 31/50\n",
      "81/81 [==============================] - ETA: 0s - loss: 0.0082 - accuracy: 0.9973\n",
      "Epoch 31: val_accuracy did not improve from 1.00000\n",
      "81/81 [==============================] - 77s 951ms/step - loss: 0.0082 - accuracy: 0.9973 - val_loss: 0.0057 - val_accuracy: 1.0000\n",
      "Epoch 32/50\n",
      "81/81 [==============================] - ETA: 0s - loss: 0.0049 - accuracy: 0.9996\n",
      "Epoch 32: val_accuracy did not improve from 1.00000\n",
      "81/81 [==============================] - 78s 958ms/step - loss: 0.0049 - accuracy: 0.9996 - val_loss: 0.0034 - val_accuracy: 1.0000\n",
      "Epoch 33/50\n",
      "81/81 [==============================] - ETA: 0s - loss: 0.0052 - accuracy: 0.9988\n",
      "Epoch 33: val_accuracy did not improve from 1.00000\n",
      "81/81 [==============================] - 77s 950ms/step - loss: 0.0052 - accuracy: 0.9988 - val_loss: 0.0078 - val_accuracy: 1.0000\n",
      "Epoch 34/50\n",
      "81/81 [==============================] - ETA: 0s - loss: 0.0060 - accuracy: 0.9992\n",
      "Epoch 34: val_accuracy did not improve from 1.00000\n",
      "81/81 [==============================] - 77s 949ms/step - loss: 0.0060 - accuracy: 0.9992 - val_loss: 0.0062 - val_accuracy: 0.9969\n",
      "Epoch 35/50\n",
      "81/81 [==============================] - ETA: 0s - loss: 0.0058 - accuracy: 0.9992\n",
      "Epoch 35: val_accuracy did not improve from 1.00000\n",
      "81/81 [==============================] - 77s 952ms/step - loss: 0.0058 - accuracy: 0.9992 - val_loss: 0.0025 - val_accuracy: 1.0000\n",
      "Epoch 36/50\n",
      "81/81 [==============================] - ETA: 0s - loss: 0.0054 - accuracy: 0.9988\n",
      "Epoch 36: val_accuracy did not improve from 1.00000\n",
      "81/81 [==============================] - 77s 954ms/step - loss: 0.0054 - accuracy: 0.9988 - val_loss: 0.0080 - val_accuracy: 0.9969\n",
      "Epoch 37/50\n",
      "81/81 [==============================] - ETA: 0s - loss: 0.0047 - accuracy: 0.9996\n",
      "Epoch 37: val_accuracy did not improve from 1.00000\n",
      "81/81 [==============================] - 77s 952ms/step - loss: 0.0047 - accuracy: 0.9996 - val_loss: 0.0036 - val_accuracy: 1.0000\n",
      "Epoch 38/50\n",
      "81/81 [==============================] - ETA: 0s - loss: 0.0069 - accuracy: 0.9984\n",
      "Epoch 38: val_accuracy did not improve from 1.00000\n",
      "81/81 [==============================] - 78s 956ms/step - loss: 0.0069 - accuracy: 0.9984 - val_loss: 0.0037 - val_accuracy: 1.0000\n",
      "Epoch 39/50\n",
      "81/81 [==============================] - ETA: 0s - loss: 0.0032 - accuracy: 0.9996\n",
      "Epoch 39: val_accuracy did not improve from 1.00000\n",
      "81/81 [==============================] - 78s 958ms/step - loss: 0.0032 - accuracy: 0.9996 - val_loss: 0.0028 - val_accuracy: 1.0000\n",
      "Epoch 40/50\n",
      "81/81 [==============================] - ETA: 0s - loss: 0.0036 - accuracy: 0.9996\n",
      "Epoch 40: val_accuracy did not improve from 1.00000\n",
      "81/81 [==============================] - 77s 950ms/step - loss: 0.0036 - accuracy: 0.9996 - val_loss: 0.0029 - val_accuracy: 1.0000\n",
      "Epoch 41/50\n",
      "81/81 [==============================] - ETA: 0s - loss: 0.0041 - accuracy: 0.9992\n",
      "Epoch 41: val_accuracy did not improve from 1.00000\n",
      "81/81 [==============================] - 78s 958ms/step - loss: 0.0041 - accuracy: 0.9992 - val_loss: 0.0044 - val_accuracy: 1.0000\n",
      "Epoch 42/50\n",
      "81/81 [==============================] - ETA: 0s - loss: 0.0036 - accuracy: 0.9996\n",
      "Epoch 42: val_accuracy did not improve from 1.00000\n",
      "81/81 [==============================] - 77s 946ms/step - loss: 0.0036 - accuracy: 0.9996 - val_loss: 0.0019 - val_accuracy: 1.0000\n",
      "Epoch 43/50\n",
      "81/81 [==============================] - ETA: 0s - loss: 0.0044 - accuracy: 0.9992\n",
      "Epoch 43: val_accuracy did not improve from 1.00000\n",
      "81/81 [==============================] - 77s 952ms/step - loss: 0.0044 - accuracy: 0.9992 - val_loss: 0.0030 - val_accuracy: 1.0000\n",
      "Epoch 44/50\n",
      "81/81 [==============================] - ETA: 0s - loss: 0.0042 - accuracy: 0.9992\n",
      "Epoch 44: val_accuracy did not improve from 1.00000\n",
      "81/81 [==============================] - 78s 956ms/step - loss: 0.0042 - accuracy: 0.9992 - val_loss: 0.0034 - val_accuracy: 1.0000\n",
      "Epoch 45/50\n",
      "81/81 [==============================] - ETA: 0s - loss: 0.0047 - accuracy: 0.9992\n",
      "Epoch 45: val_accuracy did not improve from 1.00000\n",
      "81/81 [==============================] - 77s 947ms/step - loss: 0.0047 - accuracy: 0.9992 - val_loss: 0.0021 - val_accuracy: 1.0000\n",
      "Epoch 45: early stopping\n"
     ]
    }
   ],
   "source": [
    "import tensorflow as tf\n",
    "resnet_model = tf.keras.applications.ResNet50(\n",
    "    weights='imagenet',\n",
    "    include_top=False\n",
    ")\n",
    "\n",
    "x = resnet_model.output\n",
    "x = tf.keras.layers.GlobalAveragePooling2D()(x)\n",
    "x = tf.keras.layers.Dense(512,activation='relu')(x)\n",
    "predictions = tf.keras.layers.Dense(\n",
    "    int(len(training_set.class_indices.keys())),\n",
    "    activation='softmax'\n",
    ")(x)\n",
    "\n",
    "resnet50_model = tf.keras.models.Model(\n",
    "    inputs= resnet_model.input, \n",
    "    outputs=predictions\n",
    ")\n",
    "\n",
    "checkpoint = ModelCheckpoint(\"resnet50.h5\", monitor='val_accuracy', verbose=1, save_best_only=True, save_weights_only=False, mode='auto', period=1)\n",
    "early = EarlyStopping(monitor='val_accuracy', min_delta=0, patience=20, verbose=1, mode='auto')\n",
    "resnet50_model.compile(\n",
    "    loss='categorical_crossentropy', \n",
    "    optimizer=tf.keras.optimizers.SGD(learning_rate=1e-4, momentum=0.9),\n",
    "    metrics=['accuracy']\n",
    ")\n",
    "\n",
    "resnet_history = resnet50_model.fit_generator(\n",
    "    training_set, \n",
    "    epochs=50, \n",
    "    shuffle=True, \n",
    "    verbose=1,\n",
    "    validation_data=validation_set,\n",
    "    callbacks=[checkpoint,early]\n",
    ")"
   ]
  },
  {
   "cell_type": "code",
   "execution_count": 11,
   "id": "801428eb-3c34-422f-85bc-95743a1216e6",
   "metadata": {},
   "outputs": [
    {
     "name": "stdout",
     "output_type": "stream",
     "text": [
      "Confusion Matrix\n",
      "Classification Report\n",
      "              precision    recall  f1-score   support\n",
      "\n",
      "       NH4CL       1.00      1.00      1.00       313\n",
      "      Others       1.00      1.00      1.00       331\n",
      "\n",
      "    accuracy                           1.00       644\n",
      "   macro avg       1.00      1.00      1.00       644\n",
      "weighted avg       1.00      1.00      1.00       644\n",
      "\n"
     ]
    }
   ],
   "source": [
    "import numpy as np\n",
    "from sklearn.metrics import classification_report, confusion_matrix\n",
    "Y_pred = resnet50_model.predict_generator(validation_set)\n",
    "y_pred = np.argmax(Y_pred, axis=1)\n",
    "print('Confusion Matrix')\n",
    "cm=confusion_matrix(validation_set.classes, y_pred)\n",
    "print('Classification Report')\n",
    "target_names = ['NH4CL', 'Others']\n",
    "print(classification_report(validation_set.classes, y_pred, target_names=target_names))"
   ]
  },
  {
   "cell_type": "code",
   "execution_count": null,
   "id": "00e98af2-3b74-4150-8199-eccd5ffc0070",
   "metadata": {},
   "outputs": [],
   "source": []
  },
  {
   "cell_type": "code",
   "execution_count": 12,
   "id": "606f91c0-995d-40c7-8c98-4f00014bc126",
   "metadata": {},
   "outputs": [
    {
     "data": {
      "image/png": "[encoded data removed]",
      "text/plain": [
       "<Figure size 640x480 with 2 Axes>"
      ]
     },
     "metadata": {},
     "output_type": "display_data"
    }
   ],
   "source": [
    "from sklearn.metrics import ConfusionMatrixDisplay\n",
    "from sklearn.metrics import confusion_matrix\n",
    "import matplotlib.pyplot as plt\n",
    "import numpy as np\n",
    "import seaborn as sns\n",
    "\n",
    "plt.rcParams[\"font.weight\"] = \"bold\"\n",
    "plt.rcParams[\"axes.labelweight\"] = \"bold\"\n",
    "labels = ['NH\\u2084CL', \"Others\",]\n",
    "disp = ConfusionMatrixDisplay(confusion_matrix=cm, display_labels=labels)\n",
    "\n",
    "\n",
    "# sns.heatmap(cm, annot=True)\n",
    "# disp.plot(cmap=plt.cm.Blues)\n",
    "# plt.rcParams[\"font.weight\"] = \"bold\"\n",
    "# plt.rcParams[\"axes.labelweight\"] = \"bold\"\n",
    "# plt.title('CNN Confusion Matrix')\n",
    "\n",
    "# plt.savefig('cnn.png')\n",
    "\n",
    "group_names = ['True Negative','False Positive','False Negative','True Positive']\n",
    "group_counts = ['{0:0.0f}'.format(value) for value in\n",
    "                cm.flatten()]\n",
    "group_percentages = ['{0:.2%}'.format(value) for value in\n",
    "                     cm.flatten()/np.sum(cm)]\n",
    "labels = [f'{v1}\\n{v2}\\n{v3}' for v1, v2, v3 in\n",
    "          zip(group_names,group_counts,group_percentages)]\n",
    "labels = np.asarray(labels).reshape(2,2)\n",
    "label=['NH\\u2084CL', \"Others\",]\n",
    "sns.heatmap(cm, annot=labels, fmt='',xticklabels=label, yticklabels=label)\n",
    "plt.title('ResNet-50 Confusion Matrix',fontweight='bold')\n",
    "plt.xlabel('Predicted')\n",
    "plt.ylabel('True')\n",
    "plt.savefig('resnet50.png')\n",
    "plt.show()"
   ]
  },
  {
   "cell_type": "code",
   "execution_count": 13,
   "id": "b03a3284-58cd-4b54-87f0-9c21592e571a",
   "metadata": {},
   "outputs": [
    {
     "name": "stdout",
     "output_type": "stream",
     "text": [
      "21/21 [==============================] - 11s 505ms/step - loss: 0.0021 - accuracy: 1.0000\n",
      "21/21 [==============================] - 11s 514ms/step\n"
     ]
    },
    {
     "data": {
      "image/png": "[encoded data removed]",
      "text/plain": [
       "<Figure size 640x480 with 1 Axes>"
      ]
     },
     "metadata": {},
     "output_type": "display_data"
    }
   ],
   "source": [
    "from sklearn.metrics import roc_curve\n",
    "from sklearn.metrics import auc\n",
    "from sklearn.metrics import roc_auc_score\n",
    "resnet50_model.evaluate(validation_set)\n",
    "\n",
    "\n",
    "\n",
    "STEP_SIZE_TEST=validation_set.n//validation_set.batch_size\n",
    "validation_set.reset()\n",
    "preds=resnet50_model.predict(validation_set)\n",
    "preds\n",
    "plt.rcParams[\"font.weight\"] = \"bold\"\n",
    "plt.rcParams[\"axes.labelweight\"] = \"bold\"\n",
    "fpr, tpr, _ = roc_curve(validation_set.classes,  preds[:,1])\n",
    "roc_auc = auc(fpr, tpr)\n",
    "plt.figure()\n",
    "lw = 2\n",
    "plt.plot(fpr, tpr, color='darkorange',\n",
    "lw=lw, label='ROC curve (area = %0.2f)' % roc_auc)\n",
    "plt.plot([0, 1], [0, 1], color='navy', lw=lw, linestyle='--')\n",
    "plt.xlim([0.0, 1.0])\n",
    "plt.ylim([0.0, 1.05])\n",
    "plt.xlabel('False Positive Rate')\n",
    "plt.ylabel('True Positive Rate')\n",
    "plt.title('Receiver operating characteristic for ResNet-50',fontweight='bold')\n",
    "plt.legend(loc=\"lower right\")\n",
    "plt.savefig('Rocresnet50.png')\n",
    "plt.show()"
   ]
  },
  {
   "cell_type": "code",
   "execution_count": 14,
   "id": "7decb154-af53-42a7-8c21-29ef010b2642",
   "metadata": {},
   "outputs": [],
   "source": [
    "\n",
    "import keras,os\n",
    "from keras.models import Sequential\n",
    "from keras.layers import Dense, Conv2D, MaxPool2D , Flatten\n",
    "from keras.preprocessing.image import ImageDataGenerator\n",
    "import numpy as np\n",
    "\n",
    "model = Sequential()\n",
    "model.add(Conv2D(input_shape=(300,300,3),filters=64,kernel_size=(3,3),padding=\"same\", activation=\"relu\"))\n",
    "model.add(Conv2D(filters=64,kernel_size=(3,3),padding=\"same\", activation=\"relu\"))\n",
    "model.add(MaxPool2D(pool_size=(2,2),strides=(2,2)))\n",
    "model.add(Conv2D(filters=128, kernel_size=(3,3), padding=\"same\", activation=\"relu\"))\n",
    "model.add(Conv2D(filters=128, kernel_size=(3,3), padding=\"same\", activation=\"relu\"))\n",
    "model.add(MaxPool2D(pool_size=(2,2),strides=(2,2)))\n",
    "model.add(Conv2D(filters=256, kernel_size=(3,3), padding=\"same\", activation=\"relu\"))\n",
    "model.add(Conv2D(filters=256, kernel_size=(3,3), padding=\"same\", activation=\"relu\"))\n",
    "model.add(Conv2D(filters=256, kernel_size=(3,3), padding=\"same\", activation=\"relu\"))\n",
    "model.add(MaxPool2D(pool_size=(2,2),strides=(2,2)))\n",
    "model.add(Conv2D(filters=512, kernel_size=(3,3), padding=\"same\", activation=\"relu\"))\n",
    "model.add(Conv2D(filters=512, kernel_size=(3,3), padding=\"same\", activation=\"relu\"))\n",
    "model.add(Conv2D(filters=512, kernel_size=(3,3), padding=\"same\", activation=\"relu\"))\n",
    "model.add(MaxPool2D(pool_size=(2,2),strides=(2,2)))\n",
    "model.add(Conv2D(filters=512, kernel_size=(3,3), padding=\"same\", activation=\"relu\"))\n",
    "model.add(Conv2D(filters=512, kernel_size=(3,3), padding=\"same\", activation=\"relu\"))\n",
    "model.add(Conv2D(filters=512, kernel_size=(3,3), padding=\"same\", activation=\"relu\"))\n",
    "model.add(MaxPool2D(pool_size=(2,2),strides=(2,2)))"
   ]
  },
  {
   "cell_type": "code",
   "execution_count": 15,
   "id": "f52be2c2-983a-4463-a036-fd7589ce8a18",
   "metadata": {},
   "outputs": [],
   "source": [
    "model.add(Flatten())\n",
    "model.add(Dense(units=4096,activation=\"relu\"))\n",
    "model.add(Dense(units=4096,activation=\"relu\"))\n",
    "model.add(Dense(units=2, activation=\"softmax\"))"
   ]
  },
  {
   "cell_type": "code",
   "execution_count": 16,
   "id": "c5e95dd9-efbc-4720-adf4-5667848137d1",
   "metadata": {},
   "outputs": [
    {
     "name": "stdout",
     "output_type": "stream",
     "text": [
      "Model: \"sequential_1\"\n",
      "_________________________________________________________________\n",
      " Layer (type)                Output Shape              Param #   \n",
      "=================================================================\n",
      " conv2d_2 (Conv2D)           (None, 300, 300, 64)      1792      \n",
      "                                                                 \n",
      " conv2d_3 (Conv2D)           (None, 300, 300, 64)      36928     \n",
      "                                                                 \n",
      " max_pooling2d_1 (MaxPooling  (None, 150, 150, 64)     0         \n",
      " 2D)                                                             \n",
      "                                                                 \n",
      " conv2d_4 (Conv2D)           (None, 150, 150, 128)     73856     \n",
      "                                                                 \n",
      " conv2d_5 (Conv2D)           (None, 150, 150, 128)     147584    \n",
      "                                                                 \n",
      " max_pooling2d_2 (MaxPooling  (None, 75, 75, 128)      0         \n",
      " 2D)                                                             \n",
      "                                                                 \n",
      " conv2d_6 (Conv2D)           (None, 75, 75, 256)       295168    \n",
      "                                                                 \n",
      " conv2d_7 (Conv2D)           (None, 75, 75, 256)       590080    \n",
      "                                                                 \n",
      " conv2d_8 (Conv2D)           (None, 75, 75, 256)       590080    \n",
      "                                                                 \n",
      " max_pooling2d_3 (MaxPooling  (None, 37, 37, 256)      0         \n",
      " 2D)                                                             \n",
      "                                                                 \n",
      " conv2d_9 (Conv2D)           (None, 37, 37, 512)       1180160   \n",
      "                                                                 \n",
      " conv2d_10 (Conv2D)          (None, 37, 37, 512)       2359808   \n",
      "                                                                 \n",
      " conv2d_11 (Conv2D)          (None, 37, 37, 512)       2359808   \n",
      "                                                                 \n",
      " max_pooling2d_4 (MaxPooling  (None, 18, 18, 512)      0         \n",
      " 2D)                                                             \n",
      "                                                                 \n",
      " conv2d_12 (Conv2D)          (None, 18, 18, 512)       2359808   \n",
      "                                                                 \n",
      " conv2d_13 (Conv2D)          (None, 18, 18, 512)       2359808   \n",
      "                                                                 \n",
      " conv2d_14 (Conv2D)          (None, 18, 18, 512)       2359808   \n",
      "                                                                 \n",
      " max_pooling2d_5 (MaxPooling  (None, 9, 9, 512)        0         \n",
      " 2D)                                                             \n",
      "                                                                 \n",
      " flatten_1 (Flatten)         (None, 41472)             0         \n",
      "                                                                 \n",
      " dense_4 (Dense)             (None, 4096)              169873408 \n",
      "                                                                 \n",
      " dense_5 (Dense)             (None, 4096)              16781312  \n",
      "                                                                 \n",
      " dense_6 (Dense)             (None, 2)                 8194      \n",
      "                                                                 \n",
      "=================================================================\n",
      "Total params: 201,377,602\n",
      "Trainable params: 201,377,602\n",
      "Non-trainable params: 0\n",
      "_________________________________________________________________\n"
     ]
    }
   ],
   "source": [
    "from keras.optimizers import Adam\n",
    "opt = Adam(lr=0.001)\n",
    "model.compile(optimizer=opt, loss=keras.losses.categorical_crossentropy, metrics=['accuracy'])\n",
    "model.summary()"
   ]
  },
  {
   "cell_type": "code",
   "execution_count": 17,
   "id": "d18168d6-34fe-4f10-b6f8-c410fc392e98",
   "metadata": {},
   "outputs": [
    {
     "name": "stdout",
     "output_type": "stream",
     "text": [
      "WARNING:tensorflow:`period` argument is deprecated. Please use `save_freq` to specify the frequency in number of batches seen.\n"
     ]
    },
    {
     "name": "stderr",
     "output_type": "stream",
     "text": [
      "WARNING:tensorflow:`period` argument is deprecated. Please use `save_freq` to specify the frequency in number of batches seen.\n"
     ]
    },
    {
     "name": "stdout",
     "output_type": "stream",
     "text": [
      "Epoch 1/100\n",
      "81/81 [==============================] - ETA: 0s - loss: 0.8258 - accuracy: 0.5000\n",
      "Epoch 1: val_accuracy improved from -inf to 0.48602, saving model to vgg16_1.h5\n",
      "81/81 [==============================] - 99s 1s/step - loss: 0.8258 - accuracy: 0.5000 - val_loss: 0.6932 - val_accuracy: 0.4860\n",
      "Epoch 2/100\n",
      "81/81 [==============================] - ETA: 0s - loss: 0.7155 - accuracy: 0.5194\n",
      "Epoch 2: val_accuracy improved from 0.48602 to 0.51398, saving model to vgg16_1.h5\n",
      "81/81 [==============================] - 83s 1s/step - loss: 0.7155 - accuracy: 0.5194 - val_loss: 0.6928 - val_accuracy: 0.5140\n",
      "Epoch 3/100\n",
      "81/81 [==============================] - ETA: 0s - loss: 1.0579 - accuracy: 0.5093\n",
      "Epoch 3: val_accuracy did not improve from 0.51398\n",
      "81/81 [==============================] - 78s 954ms/step - loss: 1.0579 - accuracy: 0.5093 - val_loss: 0.6929 - val_accuracy: 0.5140\n",
      "Epoch 4/100\n",
      "81/81 [==============================] - ETA: 0s - loss: 0.6929 - accuracy: 0.5140\n",
      "Epoch 4: val_accuracy did not improve from 0.51398\n",
      "81/81 [==============================] - 78s 958ms/step - loss: 0.6929 - accuracy: 0.5140 - val_loss: 0.6928 - val_accuracy: 0.5140\n",
      "Epoch 5/100\n",
      "81/81 [==============================] - ETA: 0s - loss: 0.6928 - accuracy: 0.5140\n",
      "Epoch 5: val_accuracy did not improve from 0.51398\n",
      "81/81 [==============================] - 79s 968ms/step - loss: 0.6928 - accuracy: 0.5140 - val_loss: 0.6928 - val_accuracy: 0.5140\n",
      "Epoch 6/100\n",
      "81/81 [==============================] - ETA: 0s - loss: 0.6930 - accuracy: 0.5140\n",
      "Epoch 6: val_accuracy did not improve from 0.51398\n",
      "81/81 [==============================] - 77s 953ms/step - loss: 0.6930 - accuracy: 0.5140 - val_loss: 0.6928 - val_accuracy: 0.5140\n",
      "Epoch 7/100\n",
      "81/81 [==============================] - ETA: 0s - loss: 0.6930 - accuracy: 0.5140\n",
      "Epoch 7: val_accuracy did not improve from 0.51398\n",
      "81/81 [==============================] - 77s 953ms/step - loss: 0.6930 - accuracy: 0.5140 - val_loss: 0.6928 - val_accuracy: 0.5140\n",
      "Epoch 8/100\n",
      "81/81 [==============================] - ETA: 0s - loss: 0.6929 - accuracy: 0.5140\n",
      "Epoch 8: val_accuracy did not improve from 0.51398\n",
      "81/81 [==============================] - 78s 958ms/step - loss: 0.6929 - accuracy: 0.5140 - val_loss: 0.6928 - val_accuracy: 0.5140\n",
      "Epoch 9/100\n",
      "81/81 [==============================] - ETA: 0s - loss: 0.6929 - accuracy: 0.5140\n",
      "Epoch 9: val_accuracy did not improve from 0.51398\n",
      "81/81 [==============================] - 77s 953ms/step - loss: 0.6929 - accuracy: 0.5140 - val_loss: 0.6928 - val_accuracy: 0.5140\n",
      "Epoch 10/100\n",
      "81/81 [==============================] - ETA: 0s - loss: 0.6928 - accuracy: 0.5140\n",
      "Epoch 10: val_accuracy did not improve from 0.51398\n",
      "81/81 [==============================] - 77s 954ms/step - loss: 0.6928 - accuracy: 0.5140 - val_loss: 0.6928 - val_accuracy: 0.5140\n",
      "Epoch 11/100\n",
      "81/81 [==============================] - ETA: 0s - loss: 0.6929 - accuracy: 0.5140\n",
      "Epoch 11: val_accuracy did not improve from 0.51398\n",
      "81/81 [==============================] - 77s 952ms/step - loss: 0.6929 - accuracy: 0.5140 - val_loss: 0.6928 - val_accuracy: 0.5140\n",
      "Epoch 12/100\n",
      "81/81 [==============================] - ETA: 0s - loss: 0.6929 - accuracy: 0.5140\n",
      "Epoch 12: val_accuracy did not improve from 0.51398\n",
      "81/81 [==============================] - 77s 952ms/step - loss: 0.6929 - accuracy: 0.5140 - val_loss: 0.6928 - val_accuracy: 0.5140\n",
      "Epoch 13/100\n",
      "81/81 [==============================] - ETA: 0s - loss: 0.6929 - accuracy: 0.5140\n",
      "Epoch 13: val_accuracy did not improve from 0.51398\n",
      "81/81 [==============================] - 78s 958ms/step - loss: 0.6929 - accuracy: 0.5140 - val_loss: 0.6928 - val_accuracy: 0.5140\n",
      "Epoch 14/100\n",
      "81/81 [==============================] - ETA: 0s - loss: 0.6928 - accuracy: 0.5140\n",
      "Epoch 14: val_accuracy did not improve from 0.51398\n",
      "81/81 [==============================] - 77s 951ms/step - loss: 0.6928 - accuracy: 0.5140 - val_loss: 0.6928 - val_accuracy: 0.5140\n",
      "Epoch 15/100\n",
      "81/81 [==============================] - ETA: 0s - loss: 0.6928 - accuracy: 0.5140\n",
      "Epoch 15: val_accuracy did not improve from 0.51398\n",
      "81/81 [==============================] - 78s 955ms/step - loss: 0.6928 - accuracy: 0.5140 - val_loss: 0.6928 - val_accuracy: 0.5140\n",
      "Epoch 16/100\n",
      "81/81 [==============================] - ETA: 0s - loss: 0.6929 - accuracy: 0.5140\n",
      "Epoch 16: val_accuracy did not improve from 0.51398\n",
      "81/81 [==============================] - 78s 955ms/step - loss: 0.6929 - accuracy: 0.5140 - val_loss: 0.6928 - val_accuracy: 0.5140\n",
      "Epoch 17/100\n",
      "81/81 [==============================] - ETA: 0s - loss: 0.6928 - accuracy: 0.5140\n",
      "Epoch 17: val_accuracy did not improve from 0.51398\n",
      "81/81 [==============================] - 77s 953ms/step - loss: 0.6928 - accuracy: 0.5140 - val_loss: 0.6928 - val_accuracy: 0.5140\n",
      "Epoch 18/100\n",
      "81/81 [==============================] - ETA: 0s - loss: 0.6929 - accuracy: 0.5140\n",
      "Epoch 18: val_accuracy did not improve from 0.51398\n",
      "81/81 [==============================] - 77s 954ms/step - loss: 0.6929 - accuracy: 0.5140 - val_loss: 0.6928 - val_accuracy: 0.5140\n",
      "Epoch 19/100\n",
      "81/81 [==============================] - ETA: 0s - loss: 0.6928 - accuracy: 0.5140\n",
      "Epoch 19: val_accuracy did not improve from 0.51398\n",
      "81/81 [==============================] - 77s 949ms/step - loss: 0.6928 - accuracy: 0.5140 - val_loss: 0.6928 - val_accuracy: 0.5140\n",
      "Epoch 20/100\n",
      "81/81 [==============================] - ETA: 0s - loss: 0.6929 - accuracy: 0.5140\n",
      "Epoch 20: val_accuracy did not improve from 0.51398\n",
      "81/81 [==============================] - 77s 954ms/step - loss: 0.6929 - accuracy: 0.5140 - val_loss: 0.6928 - val_accuracy: 0.5140\n",
      "Epoch 21/100\n",
      "81/81 [==============================] - ETA: 0s - loss: 0.6929 - accuracy: 0.5140\n",
      "Epoch 21: val_accuracy did not improve from 0.51398\n",
      "81/81 [==============================] - 77s 953ms/step - loss: 0.6929 - accuracy: 0.5140 - val_loss: 0.6928 - val_accuracy: 0.5140\n",
      "Epoch 22/100\n",
      "81/81 [==============================] - ETA: 0s - loss: 0.6929 - accuracy: 0.5140\n",
      "Epoch 22: val_accuracy did not improve from 0.51398\n",
      "81/81 [==============================] - 77s 954ms/step - loss: 0.6929 - accuracy: 0.5140 - val_loss: 0.6928 - val_accuracy: 0.5140\n",
      "Epoch 22: early stopping\n"
     ]
    }
   ],
   "source": [
    "from keras.callbacks import ModelCheckpoint, EarlyStopping\n",
    "batch_size=32\n",
    "steps_per_epoch = len(training_set)//batch_size\n",
    "\n",
    "validation_steps = len(validation_set)//batch_size # if you have validation data \n",
    "checkpoint = ModelCheckpoint(\"vgg16_1.h5\", monitor='val_accuracy', verbose=1, save_best_only=True, save_weights_only=False, mode='auto', period=1)\n",
    "early = EarlyStopping(monitor='val_accuracy', min_delta=0, patience=20, verbose=1, mode='auto')\n",
    "hist = model.fit_generator(steps_per_epoch=len(training_set),generator=training_set, validation_data= validation_set,epochs=100,callbacks=[checkpoint,early])"
   ]
  },
  {
   "cell_type": "code",
   "execution_count": null,
   "id": "b95973e2-f511-4037-b977-168a2e16c933",
   "metadata": {},
   "outputs": [],
   "source": []
  },
  {
   "cell_type": "code",
   "execution_count": 18,
   "id": "1db89acf-1a4e-48d9-8998-a69b432fcab1",
   "metadata": {},
   "outputs": [
    {
     "name": "stdout",
     "output_type": "stream",
     "text": [
      "Found 3224 images belonging to 2 classes.\n",
      "WARNING:tensorflow:`period` argument is deprecated. Please use `save_freq` to specify the frequency in number of batches seen.\n"
     ]
    },
    {
     "name": "stderr",
     "output_type": "stream",
     "text": [
      "WARNING:tensorflow:`period` argument is deprecated. Please use `save_freq` to specify the frequency in number of batches seen.\n"
     ]
    },
    {
     "name": "stdout",
     "output_type": "stream",
     "text": [
      "Using optimizer: Adam, Epoch: 20\n",
      "Epoch 1/20\n",
      "81/81 [==============================] - ETA: 0s - loss: 1.3827 - main_loss: 1.1545 - aux1_loss: 0.4153 - aux2_loss: 0.3453 - main_accuracy: 0.8143 - aux1_accuracy: 0.8593 - aux2_accuracy: 0.8357WARNING:tensorflow:Can save best model only with val_accuracy available, skipping.\n"
     ]
    },
    {
     "name": "stderr",
     "output_type": "stream",
     "text": [
      "WARNING:tensorflow:Can save best model only with val_accuracy available, skipping.\n"
     ]
    },
    {
     "name": "stdout",
     "output_type": "stream",
     "text": [
      "WARNING:tensorflow:Early stopping conditioned on metric `val_accuracy` which is not available. Available metrics are: loss,main_loss,aux1_loss,aux2_loss,main_accuracy,aux1_accuracy,aux2_accuracy\n"
     ]
    },
    {
     "name": "stderr",
     "output_type": "stream",
     "text": [
      "WARNING:tensorflow:Early stopping conditioned on metric `val_accuracy` which is not available. Available metrics are: loss,main_loss,aux1_loss,aux2_loss,main_accuracy,aux1_accuracy,aux2_accuracy\n"
     ]
    },
    {
     "name": "stdout",
     "output_type": "stream",
     "text": [
      "81/81 [==============================] - 75s 844ms/step - loss: 1.3827 - main_loss: 1.1545 - aux1_loss: 0.4153 - aux2_loss: 0.3453 - main_accuracy: 0.8143 - aux1_accuracy: 0.8593 - aux2_accuracy: 0.8357\n",
      "Epoch 2/20\n",
      "81/81 [==============================] - ETA: 0s - loss: 0.1459 - main_loss: 0.1008 - aux1_loss: 0.0686 - aux2_loss: 0.0819 - main_accuracy: 0.9605 - aux1_accuracy: 0.9748 - aux2_accuracy: 0.9709WARNING:tensorflow:Can save best model only with val_accuracy available, skipping.\n"
     ]
    },
    {
     "name": "stderr",
     "output_type": "stream",
     "text": [
      "WARNING:tensorflow:Can save best model only with val_accuracy available, skipping.\n"
     ]
    },
    {
     "name": "stdout",
     "output_type": "stream",
     "text": [
      "WARNING:tensorflow:Early stopping conditioned on metric `val_accuracy` which is not available. Available metrics are: loss,main_loss,aux1_loss,aux2_loss,main_accuracy,aux1_accuracy,aux2_accuracy\n"
     ]
    },
    {
     "name": "stderr",
     "output_type": "stream",
     "text": [
      "WARNING:tensorflow:Early stopping conditioned on metric `val_accuracy` which is not available. Available metrics are: loss,main_loss,aux1_loss,aux2_loss,main_accuracy,aux1_accuracy,aux2_accuracy\n"
     ]
    },
    {
     "name": "stdout",
     "output_type": "stream",
     "text": [
      "81/81 [==============================] - 66s 818ms/step - loss: 0.1459 - main_loss: 0.1008 - aux1_loss: 0.0686 - aux2_loss: 0.0819 - main_accuracy: 0.9605 - aux1_accuracy: 0.9748 - aux2_accuracy: 0.9709\n",
      "Epoch 3/20\n",
      "81/81 [==============================] - ETA: 0s - loss: 0.1353 - main_loss: 0.0944 - aux1_loss: 0.0633 - aux2_loss: 0.0731 - main_accuracy: 0.9636 - aux1_accuracy: 0.9771 - aux2_accuracy: 0.9698WARNING:tensorflow:Can save best model only with val_accuracy available, skipping.\n"
     ]
    },
    {
     "name": "stderr",
     "output_type": "stream",
     "text": [
      "WARNING:tensorflow:Can save best model only with val_accuracy available, skipping.\n"
     ]
    },
    {
     "name": "stdout",
     "output_type": "stream",
     "text": [
      "WARNING:tensorflow:Early stopping conditioned on metric `val_accuracy` which is not available. Available metrics are: loss,main_loss,aux1_loss,aux2_loss,main_accuracy,aux1_accuracy,aux2_accuracy\n"
     ]
    },
    {
     "name": "stderr",
     "output_type": "stream",
     "text": [
      "WARNING:tensorflow:Early stopping conditioned on metric `val_accuracy` which is not available. Available metrics are: loss,main_loss,aux1_loss,aux2_loss,main_accuracy,aux1_accuracy,aux2_accuracy\n"
     ]
    },
    {
     "name": "stdout",
     "output_type": "stream",
     "text": [
      "81/81 [==============================] - 66s 815ms/step - loss: 0.1353 - main_loss: 0.0944 - aux1_loss: 0.0633 - aux2_loss: 0.0731 - main_accuracy: 0.9636 - aux1_accuracy: 0.9771 - aux2_accuracy: 0.9698\n",
      "Epoch 4/20\n",
      "81/81 [==============================] - ETA: 0s - loss: 0.1193 - main_loss: 0.0843 - aux1_loss: 0.0486 - aux2_loss: 0.0680 - main_accuracy: 0.9694 - aux1_accuracy: 0.9837 - aux2_accuracy: 0.9752WARNING:tensorflow:Can save best model only with val_accuracy available, skipping.\n"
     ]
    },
    {
     "name": "stderr",
     "output_type": "stream",
     "text": [
      "WARNING:tensorflow:Can save best model only with val_accuracy available, skipping.\n"
     ]
    },
    {
     "name": "stdout",
     "output_type": "stream",
     "text": [
      "WARNING:tensorflow:Early stopping conditioned on metric `val_accuracy` which is not available. Available metrics are: loss,main_loss,aux1_loss,aux2_loss,main_accuracy,aux1_accuracy,aux2_accuracy\n"
     ]
    },
    {
     "name": "stderr",
     "output_type": "stream",
     "text": [
      "WARNING:tensorflow:Early stopping conditioned on metric `val_accuracy` which is not available. Available metrics are: loss,main_loss,aux1_loss,aux2_loss,main_accuracy,aux1_accuracy,aux2_accuracy\n"
     ]
    },
    {
     "name": "stdout",
     "output_type": "stream",
     "text": [
      "81/81 [==============================] - 66s 816ms/step - loss: 0.1193 - main_loss: 0.0843 - aux1_loss: 0.0486 - aux2_loss: 0.0680 - main_accuracy: 0.9694 - aux1_accuracy: 0.9837 - aux2_accuracy: 0.9752\n",
      "Epoch 5/20\n",
      "81/81 [==============================] - ETA: 0s - loss: 0.0746 - main_loss: 0.0513 - aux1_loss: 0.0312 - aux2_loss: 0.0463 - main_accuracy: 0.9837 - aux1_accuracy: 0.9899 - aux2_accuracy: 0.9857WARNING:tensorflow:Can save best model only with val_accuracy available, skipping.\n"
     ]
    },
    {
     "name": "stderr",
     "output_type": "stream",
     "text": [
      "WARNING:tensorflow:Can save best model only with val_accuracy available, skipping.\n"
     ]
    },
    {
     "name": "stdout",
     "output_type": "stream",
     "text": [
      "WARNING:tensorflow:Early stopping conditioned on metric `val_accuracy` which is not available. Available metrics are: loss,main_loss,aux1_loss,aux2_loss,main_accuracy,aux1_accuracy,aux2_accuracy\n"
     ]
    },
    {
     "name": "stderr",
     "output_type": "stream",
     "text": [
      "WARNING:tensorflow:Early stopping conditioned on metric `val_accuracy` which is not available. Available metrics are: loss,main_loss,aux1_loss,aux2_loss,main_accuracy,aux1_accuracy,aux2_accuracy\n"
     ]
    },
    {
     "name": "stdout",
     "output_type": "stream",
     "text": [
      "81/81 [==============================] - 66s 813ms/step - loss: 0.0746 - main_loss: 0.0513 - aux1_loss: 0.0312 - aux2_loss: 0.0463 - main_accuracy: 0.9837 - aux1_accuracy: 0.9899 - aux2_accuracy: 0.9857\n",
      "Epoch 6/20\n",
      "81/81 [==============================] - ETA: 0s - loss: 0.0694 - main_loss: 0.0468 - aux1_loss: 0.0360 - aux2_loss: 0.0392 - main_accuracy: 0.9826 - aux1_accuracy: 0.9880 - aux2_accuracy: 0.9853WARNING:tensorflow:Can save best model only with val_accuracy available, skipping.\n"
     ]
    },
    {
     "name": "stderr",
     "output_type": "stream",
     "text": [
      "WARNING:tensorflow:Can save best model only with val_accuracy available, skipping.\n"
     ]
    },
    {
     "name": "stdout",
     "output_type": "stream",
     "text": [
      "WARNING:tensorflow:Early stopping conditioned on metric `val_accuracy` which is not available. Available metrics are: loss,main_loss,aux1_loss,aux2_loss,main_accuracy,aux1_accuracy,aux2_accuracy\n"
     ]
    },
    {
     "name": "stderr",
     "output_type": "stream",
     "text": [
      "WARNING:tensorflow:Early stopping conditioned on metric `val_accuracy` which is not available. Available metrics are: loss,main_loss,aux1_loss,aux2_loss,main_accuracy,aux1_accuracy,aux2_accuracy\n"
     ]
    },
    {
     "name": "stdout",
     "output_type": "stream",
     "text": [
      "81/81 [==============================] - 66s 813ms/step - loss: 0.0694 - main_loss: 0.0468 - aux1_loss: 0.0360 - aux2_loss: 0.0392 - main_accuracy: 0.9826 - aux1_accuracy: 0.9880 - aux2_accuracy: 0.9853\n",
      "Epoch 7/20\n",
      "81/81 [==============================] - ETA: 0s - loss: 0.0724 - main_loss: 0.0520 - aux1_loss: 0.0273 - aux2_loss: 0.0407 - main_accuracy: 0.9837 - aux1_accuracy: 0.9922 - aux2_accuracy: 0.9864WARNING:tensorflow:Can save best model only with val_accuracy available, skipping.\n"
     ]
    },
    {
     "name": "stderr",
     "output_type": "stream",
     "text": [
      "WARNING:tensorflow:Can save best model only with val_accuracy available, skipping.\n"
     ]
    },
    {
     "name": "stdout",
     "output_type": "stream",
     "text": [
      "WARNING:tensorflow:Early stopping conditioned on metric `val_accuracy` which is not available. Available metrics are: loss,main_loss,aux1_loss,aux2_loss,main_accuracy,aux1_accuracy,aux2_accuracy\n"
     ]
    },
    {
     "name": "stderr",
     "output_type": "stream",
     "text": [
      "WARNING:tensorflow:Early stopping conditioned on metric `val_accuracy` which is not available. Available metrics are: loss,main_loss,aux1_loss,aux2_loss,main_accuracy,aux1_accuracy,aux2_accuracy\n"
     ]
    },
    {
     "name": "stdout",
     "output_type": "stream",
     "text": [
      "81/81 [==============================] - 66s 816ms/step - loss: 0.0724 - main_loss: 0.0520 - aux1_loss: 0.0273 - aux2_loss: 0.0407 - main_accuracy: 0.9837 - aux1_accuracy: 0.9922 - aux2_accuracy: 0.9864\n",
      "Epoch 8/20\n",
      "81/81 [==============================] - ETA: 0s - loss: 0.0524 - main_loss: 0.0349 - aux1_loss: 0.0277 - aux2_loss: 0.0305 - main_accuracy: 0.9868 - aux1_accuracy: 0.9911 - aux2_accuracy: 0.9888WARNING:tensorflow:Can save best model only with val_accuracy available, skipping.\n"
     ]
    },
    {
     "name": "stderr",
     "output_type": "stream",
     "text": [
      "WARNING:tensorflow:Can save best model only with val_accuracy available, skipping.\n"
     ]
    },
    {
     "name": "stdout",
     "output_type": "stream",
     "text": [
      "WARNING:tensorflow:Early stopping conditioned on metric `val_accuracy` which is not available. Available metrics are: loss,main_loss,aux1_loss,aux2_loss,main_accuracy,aux1_accuracy,aux2_accuracy\n"
     ]
    },
    {
     "name": "stderr",
     "output_type": "stream",
     "text": [
      "WARNING:tensorflow:Early stopping conditioned on metric `val_accuracy` which is not available. Available metrics are: loss,main_loss,aux1_loss,aux2_loss,main_accuracy,aux1_accuracy,aux2_accuracy\n"
     ]
    },
    {
     "name": "stdout",
     "output_type": "stream",
     "text": [
      "81/81 [==============================] - 66s 814ms/step - loss: 0.0524 - main_loss: 0.0349 - aux1_loss: 0.0277 - aux2_loss: 0.0305 - main_accuracy: 0.9868 - aux1_accuracy: 0.9911 - aux2_accuracy: 0.9888\n",
      "Epoch 9/20\n",
      "81/81 [==============================] - ETA: 0s - loss: 0.1397 - main_loss: 0.1042 - aux1_loss: 0.0447 - aux2_loss: 0.0737 - main_accuracy: 0.9620 - aux1_accuracy: 0.9806 - aux2_accuracy: 0.9729WARNING:tensorflow:Can save best model only with val_accuracy available, skipping.\n"
     ]
    },
    {
     "name": "stderr",
     "output_type": "stream",
     "text": [
      "WARNING:tensorflow:Can save best model only with val_accuracy available, skipping.\n"
     ]
    },
    {
     "name": "stdout",
     "output_type": "stream",
     "text": [
      "WARNING:tensorflow:Early stopping conditioned on metric `val_accuracy` which is not available. Available metrics are: loss,main_loss,aux1_loss,aux2_loss,main_accuracy,aux1_accuracy,aux2_accuracy\n"
     ]
    },
    {
     "name": "stderr",
     "output_type": "stream",
     "text": [
      "WARNING:tensorflow:Early stopping conditioned on metric `val_accuracy` which is not available. Available metrics are: loss,main_loss,aux1_loss,aux2_loss,main_accuracy,aux1_accuracy,aux2_accuracy\n"
     ]
    },
    {
     "name": "stdout",
     "output_type": "stream",
     "text": [
      "81/81 [==============================] - 66s 819ms/step - loss: 0.1397 - main_loss: 0.1042 - aux1_loss: 0.0447 - aux2_loss: 0.0737 - main_accuracy: 0.9620 - aux1_accuracy: 0.9806 - aux2_accuracy: 0.9729\n",
      "Epoch 10/20\n",
      "81/81 [==============================] - ETA: 0s - loss: 0.0577 - main_loss: 0.0386 - aux1_loss: 0.0308 - aux2_loss: 0.0330 - main_accuracy: 0.9845 - aux1_accuracy: 0.9888 - aux2_accuracy: 0.9872WARNING:tensorflow:Can save best model only with val_accuracy available, skipping.\n"
     ]
    },
    {
     "name": "stderr",
     "output_type": "stream",
     "text": [
      "WARNING:tensorflow:Can save best model only with val_accuracy available, skipping.\n"
     ]
    },
    {
     "name": "stdout",
     "output_type": "stream",
     "text": [
      "WARNING:tensorflow:Early stopping conditioned on metric `val_accuracy` which is not available. Available metrics are: loss,main_loss,aux1_loss,aux2_loss,main_accuracy,aux1_accuracy,aux2_accuracy\n"
     ]
    },
    {
     "name": "stderr",
     "output_type": "stream",
     "text": [
      "WARNING:tensorflow:Early stopping conditioned on metric `val_accuracy` which is not available. Available metrics are: loss,main_loss,aux1_loss,aux2_loss,main_accuracy,aux1_accuracy,aux2_accuracy\n"
     ]
    },
    {
     "name": "stdout",
     "output_type": "stream",
     "text": [
      "81/81 [==============================] - 66s 814ms/step - loss: 0.0577 - main_loss: 0.0386 - aux1_loss: 0.0308 - aux2_loss: 0.0330 - main_accuracy: 0.9845 - aux1_accuracy: 0.9888 - aux2_accuracy: 0.9872\n",
      "Epoch 11/20\n",
      "81/81 [==============================] - ETA: 0s - loss: 0.0649 - main_loss: 0.0464 - aux1_loss: 0.0259 - aux2_loss: 0.0358 - main_accuracy: 0.9814 - aux1_accuracy: 0.9926 - aux2_accuracy: 0.9853WARNING:tensorflow:Can save best model only with val_accuracy available, skipping.\n"
     ]
    },
    {
     "name": "stderr",
     "output_type": "stream",
     "text": [
      "WARNING:tensorflow:Can save best model only with val_accuracy available, skipping.\n"
     ]
    },
    {
     "name": "stdout",
     "output_type": "stream",
     "text": [
      "WARNING:tensorflow:Early stopping conditioned on metric `val_accuracy` which is not available. Available metrics are: loss,main_loss,aux1_loss,aux2_loss,main_accuracy,aux1_accuracy,aux2_accuracy\n"
     ]
    },
    {
     "name": "stderr",
     "output_type": "stream",
     "text": [
      "WARNING:tensorflow:Early stopping conditioned on metric `val_accuracy` which is not available. Available metrics are: loss,main_loss,aux1_loss,aux2_loss,main_accuracy,aux1_accuracy,aux2_accuracy\n"
     ]
    },
    {
     "name": "stdout",
     "output_type": "stream",
     "text": [
      "81/81 [==============================] - 67s 822ms/step - loss: 0.0649 - main_loss: 0.0464 - aux1_loss: 0.0259 - aux2_loss: 0.0358 - main_accuracy: 0.9814 - aux1_accuracy: 0.9926 - aux2_accuracy: 0.9853\n",
      "Epoch 12/20\n",
      "81/81 [==============================] - ETA: 0s - loss: 0.0478 - main_loss: 0.0334 - aux1_loss: 0.0227 - aux2_loss: 0.0256 - main_accuracy: 0.9860 - aux1_accuracy: 0.9891 - aux2_accuracy: 0.9911WARNING:tensorflow:Can save best model only with val_accuracy available, skipping.\n"
     ]
    },
    {
     "name": "stderr",
     "output_type": "stream",
     "text": [
      "WARNING:tensorflow:Can save best model only with val_accuracy available, skipping.\n"
     ]
    },
    {
     "name": "stdout",
     "output_type": "stream",
     "text": [
      "WARNING:tensorflow:Early stopping conditioned on metric `val_accuracy` which is not available. Available metrics are: loss,main_loss,aux1_loss,aux2_loss,main_accuracy,aux1_accuracy,aux2_accuracy\n"
     ]
    },
    {
     "name": "stderr",
     "output_type": "stream",
     "text": [
      "WARNING:tensorflow:Early stopping conditioned on metric `val_accuracy` which is not available. Available metrics are: loss,main_loss,aux1_loss,aux2_loss,main_accuracy,aux1_accuracy,aux2_accuracy\n"
     ]
    },
    {
     "name": "stdout",
     "output_type": "stream",
     "text": [
      "81/81 [==============================] - 66s 812ms/step - loss: 0.0478 - main_loss: 0.0334 - aux1_loss: 0.0227 - aux2_loss: 0.0256 - main_accuracy: 0.9860 - aux1_accuracy: 0.9891 - aux2_accuracy: 0.9911\n",
      "Epoch 13/20\n",
      "81/81 [==============================] - ETA: 0s - loss: 0.0670 - main_loss: 0.0463 - aux1_loss: 0.0302 - aux2_loss: 0.0389 - main_accuracy: 0.9833 - aux1_accuracy: 0.9876 - aux2_accuracy: 0.9833WARNING:tensorflow:Can save best model only with val_accuracy available, skipping.\n"
     ]
    },
    {
     "name": "stderr",
     "output_type": "stream",
     "text": [
      "WARNING:tensorflow:Can save best model only with val_accuracy available, skipping.\n"
     ]
    },
    {
     "name": "stdout",
     "output_type": "stream",
     "text": [
      "WARNING:tensorflow:Early stopping conditioned on metric `val_accuracy` which is not available. Available metrics are: loss,main_loss,aux1_loss,aux2_loss,main_accuracy,aux1_accuracy,aux2_accuracy\n"
     ]
    },
    {
     "name": "stderr",
     "output_type": "stream",
     "text": [
      "WARNING:tensorflow:Early stopping conditioned on metric `val_accuracy` which is not available. Available metrics are: loss,main_loss,aux1_loss,aux2_loss,main_accuracy,aux1_accuracy,aux2_accuracy\n"
     ]
    },
    {
     "name": "stdout",
     "output_type": "stream",
     "text": [
      "81/81 [==============================] - 66s 818ms/step - loss: 0.0670 - main_loss: 0.0463 - aux1_loss: 0.0302 - aux2_loss: 0.0389 - main_accuracy: 0.9833 - aux1_accuracy: 0.9876 - aux2_accuracy: 0.9833\n",
      "Epoch 14/20\n",
      "81/81 [==============================] - ETA: 0s - loss: 0.0964 - main_loss: 0.0694 - aux1_loss: 0.0430 - aux2_loss: 0.0469 - main_accuracy: 0.9767 - aux1_accuracy: 0.9868 - aux2_accuracy: 0.9857WARNING:tensorflow:Can save best model only with val_accuracy available, skipping.\n"
     ]
    },
    {
     "name": "stderr",
     "output_type": "stream",
     "text": [
      "WARNING:tensorflow:Can save best model only with val_accuracy available, skipping.\n"
     ]
    },
    {
     "name": "stdout",
     "output_type": "stream",
     "text": [
      "WARNING:tensorflow:Early stopping conditioned on metric `val_accuracy` which is not available. Available metrics are: loss,main_loss,aux1_loss,aux2_loss,main_accuracy,aux1_accuracy,aux2_accuracy\n"
     ]
    },
    {
     "name": "stderr",
     "output_type": "stream",
     "text": [
      "WARNING:tensorflow:Early stopping conditioned on metric `val_accuracy` which is not available. Available metrics are: loss,main_loss,aux1_loss,aux2_loss,main_accuracy,aux1_accuracy,aux2_accuracy\n"
     ]
    },
    {
     "name": "stdout",
     "output_type": "stream",
     "text": [
      "81/81 [==============================] - 66s 809ms/step - loss: 0.0964 - main_loss: 0.0694 - aux1_loss: 0.0430 - aux2_loss: 0.0469 - main_accuracy: 0.9767 - aux1_accuracy: 0.9868 - aux2_accuracy: 0.9857\n",
      "Epoch 15/20\n",
      "81/81 [==============================] - ETA: 0s - loss: 0.0666 - main_loss: 0.0474 - aux1_loss: 0.0277 - aux2_loss: 0.0364 - main_accuracy: 0.9833 - aux1_accuracy: 0.9891 - aux2_accuracy: 0.9872WARNING:tensorflow:Can save best model only with val_accuracy available, skipping.\n"
     ]
    },
    {
     "name": "stderr",
     "output_type": "stream",
     "text": [
      "WARNING:tensorflow:Can save best model only with val_accuracy available, skipping.\n"
     ]
    },
    {
     "name": "stdout",
     "output_type": "stream",
     "text": [
      "WARNING:tensorflow:Early stopping conditioned on metric `val_accuracy` which is not available. Available metrics are: loss,main_loss,aux1_loss,aux2_loss,main_accuracy,aux1_accuracy,aux2_accuracy\n"
     ]
    },
    {
     "name": "stderr",
     "output_type": "stream",
     "text": [
      "WARNING:tensorflow:Early stopping conditioned on metric `val_accuracy` which is not available. Available metrics are: loss,main_loss,aux1_loss,aux2_loss,main_accuracy,aux1_accuracy,aux2_accuracy\n"
     ]
    },
    {
     "name": "stdout",
     "output_type": "stream",
     "text": [
      "81/81 [==============================] - 66s 813ms/step - loss: 0.0666 - main_loss: 0.0474 - aux1_loss: 0.0277 - aux2_loss: 0.0364 - main_accuracy: 0.9833 - aux1_accuracy: 0.9891 - aux2_accuracy: 0.9872\n",
      "Epoch 16/20\n",
      "81/81 [==============================] - ETA: 0s - loss: 0.1649 - main_loss: 0.1208 - aux1_loss: 0.0544 - aux2_loss: 0.0925 - main_accuracy: 0.9624 - aux1_accuracy: 0.9810 - aux2_accuracy: 0.9717WARNING:tensorflow:Can save best model only with val_accuracy available, skipping.\n"
     ]
    },
    {
     "name": "stderr",
     "output_type": "stream",
     "text": [
      "WARNING:tensorflow:Can save best model only with val_accuracy available, skipping.\n"
     ]
    },
    {
     "name": "stdout",
     "output_type": "stream",
     "text": [
      "WARNING:tensorflow:Early stopping conditioned on metric `val_accuracy` which is not available. Available metrics are: loss,main_loss,aux1_loss,aux2_loss,main_accuracy,aux1_accuracy,aux2_accuracy\n"
     ]
    },
    {
     "name": "stderr",
     "output_type": "stream",
     "text": [
      "WARNING:tensorflow:Early stopping conditioned on metric `val_accuracy` which is not available. Available metrics are: loss,main_loss,aux1_loss,aux2_loss,main_accuracy,aux1_accuracy,aux2_accuracy\n"
     ]
    },
    {
     "name": "stdout",
     "output_type": "stream",
     "text": [
      "81/81 [==============================] - 66s 811ms/step - loss: 0.1649 - main_loss: 0.1208 - aux1_loss: 0.0544 - aux2_loss: 0.0925 - main_accuracy: 0.9624 - aux1_accuracy: 0.9810 - aux2_accuracy: 0.9717\n",
      "Epoch 17/20\n",
      "81/81 [==============================] - ETA: 0s - loss: 0.0584 - main_loss: 0.0393 - aux1_loss: 0.0302 - aux2_loss: 0.0337 - main_accuracy: 0.9849 - aux1_accuracy: 0.9907 - aux2_accuracy: 0.9907WARNING:tensorflow:Can save best model only with val_accuracy available, skipping.\n"
     ]
    },
    {
     "name": "stderr",
     "output_type": "stream",
     "text": [
      "WARNING:tensorflow:Can save best model only with val_accuracy available, skipping.\n"
     ]
    },
    {
     "name": "stdout",
     "output_type": "stream",
     "text": [
      "WARNING:tensorflow:Early stopping conditioned on metric `val_accuracy` which is not available. Available metrics are: loss,main_loss,aux1_loss,aux2_loss,main_accuracy,aux1_accuracy,aux2_accuracy\n"
     ]
    },
    {
     "name": "stderr",
     "output_type": "stream",
     "text": [
      "WARNING:tensorflow:Early stopping conditioned on metric `val_accuracy` which is not available. Available metrics are: loss,main_loss,aux1_loss,aux2_loss,main_accuracy,aux1_accuracy,aux2_accuracy\n"
     ]
    },
    {
     "name": "stdout",
     "output_type": "stream",
     "text": [
      "81/81 [==============================] - 66s 809ms/step - loss: 0.0584 - main_loss: 0.0393 - aux1_loss: 0.0302 - aux2_loss: 0.0337 - main_accuracy: 0.9849 - aux1_accuracy: 0.9907 - aux2_accuracy: 0.9907\n",
      "Epoch 18/20\n",
      "81/81 [==============================] - ETA: 0s - loss: 0.1216 - main_loss: 0.0886 - aux1_loss: 0.0458 - aux2_loss: 0.0642 - main_accuracy: 0.9663 - aux1_accuracy: 0.9841 - aux2_accuracy: 0.9798WARNING:tensorflow:Can save best model only with val_accuracy available, skipping.\n"
     ]
    },
    {
     "name": "stderr",
     "output_type": "stream",
     "text": [
      "WARNING:tensorflow:Can save best model only with val_accuracy available, skipping.\n"
     ]
    },
    {
     "name": "stdout",
     "output_type": "stream",
     "text": [
      "WARNING:tensorflow:Early stopping conditioned on metric `val_accuracy` which is not available. Available metrics are: loss,main_loss,aux1_loss,aux2_loss,main_accuracy,aux1_accuracy,aux2_accuracy\n"
     ]
    },
    {
     "name": "stderr",
     "output_type": "stream",
     "text": [
      "WARNING:tensorflow:Early stopping conditioned on metric `val_accuracy` which is not available. Available metrics are: loss,main_loss,aux1_loss,aux2_loss,main_accuracy,aux1_accuracy,aux2_accuracy\n"
     ]
    },
    {
     "name": "stdout",
     "output_type": "stream",
     "text": [
      "81/81 [==============================] - 66s 812ms/step - loss: 0.1216 - main_loss: 0.0886 - aux1_loss: 0.0458 - aux2_loss: 0.0642 - main_accuracy: 0.9663 - aux1_accuracy: 0.9841 - aux2_accuracy: 0.9798\n",
      "Epoch 19/20\n",
      "81/81 [==============================] - ETA: 0s - loss: 0.0910 - main_loss: 0.0620 - aux1_loss: 0.0520 - aux2_loss: 0.0447 - main_accuracy: 0.9787 - aux1_accuracy: 0.9826 - aux2_accuracy: 0.9806WARNING:tensorflow:Can save best model only with val_accuracy available, skipping.\n"
     ]
    },
    {
     "name": "stderr",
     "output_type": "stream",
     "text": [
      "WARNING:tensorflow:Can save best model only with val_accuracy available, skipping.\n"
     ]
    },
    {
     "name": "stdout",
     "output_type": "stream",
     "text": [
      "WARNING:tensorflow:Early stopping conditioned on metric `val_accuracy` which is not available. Available metrics are: loss,main_loss,aux1_loss,aux2_loss,main_accuracy,aux1_accuracy,aux2_accuracy\n"
     ]
    },
    {
     "name": "stderr",
     "output_type": "stream",
     "text": [
      "WARNING:tensorflow:Early stopping conditioned on metric `val_accuracy` which is not available. Available metrics are: loss,main_loss,aux1_loss,aux2_loss,main_accuracy,aux1_accuracy,aux2_accuracy\n"
     ]
    },
    {
     "name": "stdout",
     "output_type": "stream",
     "text": [
      "81/81 [==============================] - 66s 809ms/step - loss: 0.0910 - main_loss: 0.0620 - aux1_loss: 0.0520 - aux2_loss: 0.0447 - main_accuracy: 0.9787 - aux1_accuracy: 0.9826 - aux2_accuracy: 0.9806\n",
      "Epoch 20/20\n",
      "81/81 [==============================] - ETA: 0s - loss: 0.0434 - main_loss: 0.0270 - aux1_loss: 0.0298 - aux2_loss: 0.0249 - main_accuracy: 0.9888 - aux1_accuracy: 0.9919 - aux2_accuracy: 0.9915WARNING:tensorflow:Can save best model only with val_accuracy available, skipping.\n"
     ]
    },
    {
     "name": "stderr",
     "output_type": "stream",
     "text": [
      "WARNING:tensorflow:Can save best model only with val_accuracy available, skipping.\n"
     ]
    },
    {
     "name": "stdout",
     "output_type": "stream",
     "text": [
      "WARNING:tensorflow:Early stopping conditioned on metric `val_accuracy` which is not available. Available metrics are: loss,main_loss,aux1_loss,aux2_loss,main_accuracy,aux1_accuracy,aux2_accuracy\n"
     ]
    },
    {
     "name": "stderr",
     "output_type": "stream",
     "text": [
      "WARNING:tensorflow:Early stopping conditioned on metric `val_accuracy` which is not available. Available metrics are: loss,main_loss,aux1_loss,aux2_loss,main_accuracy,aux1_accuracy,aux2_accuracy\n"
     ]
    },
    {
     "name": "stdout",
     "output_type": "stream",
     "text": [
      "81/81 [==============================] - 66s 811ms/step - loss: 0.0434 - main_loss: 0.0270 - aux1_loss: 0.0298 - aux2_loss: 0.0249 - main_accuracy: 0.9888 - aux1_accuracy: 0.9919 - aux2_accuracy: 0.9915\n",
      "Using optimizer: SGD, Epoch: 30\n",
      "Epoch 1/30\n",
      "81/81 [==============================] - ETA: 0s - loss: 0.0226 - main_loss: 0.0132 - aux1_loss: 0.0151 - aux2_loss: 0.0163 - main_accuracy: 0.9961 - aux1_accuracy: 0.9953 - aux2_accuracy: 0.9961WARNING:tensorflow:Can save best model only with val_accuracy available, skipping.\n"
     ]
    },
    {
     "name": "stderr",
     "output_type": "stream",
     "text": [
      "WARNING:tensorflow:Can save best model only with val_accuracy available, skipping.\n"
     ]
    },
    {
     "name": "stdout",
     "output_type": "stream",
     "text": [
      "WARNING:tensorflow:Early stopping conditioned on metric `val_accuracy` which is not available. Available metrics are: loss,main_loss,aux1_loss,aux2_loss,main_accuracy,aux1_accuracy,aux2_accuracy\n"
     ]
    },
    {
     "name": "stderr",
     "output_type": "stream",
     "text": [
      "WARNING:tensorflow:Early stopping conditioned on metric `val_accuracy` which is not available. Available metrics are: loss,main_loss,aux1_loss,aux2_loss,main_accuracy,aux1_accuracy,aux2_accuracy\n"
     ]
    },
    {
     "name": "stdout",
     "output_type": "stream",
     "text": [
      "81/81 [==============================] - 68s 812ms/step - loss: 0.0226 - main_loss: 0.0132 - aux1_loss: 0.0151 - aux2_loss: 0.0163 - main_accuracy: 0.9961 - aux1_accuracy: 0.9953 - aux2_accuracy: 0.9961\n",
      "Epoch 2/30\n",
      "81/81 [==============================] - ETA: 0s - loss: 0.0182 - main_loss: 0.0110 - aux1_loss: 0.0116 - aux2_loss: 0.0125 - main_accuracy: 0.9973 - aux1_accuracy: 0.9953 - aux2_accuracy: 0.9953WARNING:tensorflow:Can save best model only with val_accuracy available, skipping.\n"
     ]
    },
    {
     "name": "stderr",
     "output_type": "stream",
     "text": [
      "WARNING:tensorflow:Can save best model only with val_accuracy available, skipping.\n"
     ]
    },
    {
     "name": "stdout",
     "output_type": "stream",
     "text": [
      "WARNING:tensorflow:Early stopping conditioned on metric `val_accuracy` which is not available. Available metrics are: loss,main_loss,aux1_loss,aux2_loss,main_accuracy,aux1_accuracy,aux2_accuracy\n"
     ]
    },
    {
     "name": "stderr",
     "output_type": "stream",
     "text": [
      "WARNING:tensorflow:Early stopping conditioned on metric `val_accuracy` which is not available. Available metrics are: loss,main_loss,aux1_loss,aux2_loss,main_accuracy,aux1_accuracy,aux2_accuracy\n"
     ]
    },
    {
     "name": "stdout",
     "output_type": "stream",
     "text": [
      "81/81 [==============================] - 66s 811ms/step - loss: 0.0182 - main_loss: 0.0110 - aux1_loss: 0.0116 - aux2_loss: 0.0125 - main_accuracy: 0.9973 - aux1_accuracy: 0.9953 - aux2_accuracy: 0.9953\n",
      "Epoch 3/30\n",
      "81/81 [==============================] - ETA: 0s - loss: 0.0204 - main_loss: 0.0126 - aux1_loss: 0.0129 - aux2_loss: 0.0130 - main_accuracy: 0.9946 - aux1_accuracy: 0.9938 - aux2_accuracy: 0.9953WARNING:tensorflow:Can save best model only with val_accuracy available, skipping.\n"
     ]
    },
    {
     "name": "stderr",
     "output_type": "stream",
     "text": [
      "WARNING:tensorflow:Can save best model only with val_accuracy available, skipping.\n"
     ]
    },
    {
     "name": "stdout",
     "output_type": "stream",
     "text": [
      "WARNING:tensorflow:Early stopping conditioned on metric `val_accuracy` which is not available. Available metrics are: loss,main_loss,aux1_loss,aux2_loss,main_accuracy,aux1_accuracy,aux2_accuracy\n"
     ]
    },
    {
     "name": "stderr",
     "output_type": "stream",
     "text": [
      "WARNING:tensorflow:Early stopping conditioned on metric `val_accuracy` which is not available. Available metrics are: loss,main_loss,aux1_loss,aux2_loss,main_accuracy,aux1_accuracy,aux2_accuracy\n"
     ]
    },
    {
     "name": "stdout",
     "output_type": "stream",
     "text": [
      "81/81 [==============================] - 66s 811ms/step - loss: 0.0204 - main_loss: 0.0126 - aux1_loss: 0.0129 - aux2_loss: 0.0130 - main_accuracy: 0.9946 - aux1_accuracy: 0.9938 - aux2_accuracy: 0.9953\n",
      "Epoch 4/30\n",
      "81/81 [==============================] - ETA: 0s - loss: 0.0292 - main_loss: 0.0175 - aux1_loss: 0.0187 - aux2_loss: 0.0203 - main_accuracy: 0.9938 - aux1_accuracy: 0.9946 - aux2_accuracy: 0.9934WARNING:tensorflow:Can save best model only with val_accuracy available, skipping.\n"
     ]
    },
    {
     "name": "stderr",
     "output_type": "stream",
     "text": [
      "WARNING:tensorflow:Can save best model only with val_accuracy available, skipping.\n"
     ]
    },
    {
     "name": "stdout",
     "output_type": "stream",
     "text": [
      "WARNING:tensorflow:Early stopping conditioned on metric `val_accuracy` which is not available. Available metrics are: loss,main_loss,aux1_loss,aux2_loss,main_accuracy,aux1_accuracy,aux2_accuracy\n"
     ]
    },
    {
     "name": "stderr",
     "output_type": "stream",
     "text": [
      "WARNING:tensorflow:Early stopping conditioned on metric `val_accuracy` which is not available. Available metrics are: loss,main_loss,aux1_loss,aux2_loss,main_accuracy,aux1_accuracy,aux2_accuracy\n"
     ]
    },
    {
     "name": "stdout",
     "output_type": "stream",
     "text": [
      "81/81 [==============================] - 67s 823ms/step - loss: 0.0292 - main_loss: 0.0175 - aux1_loss: 0.0187 - aux2_loss: 0.0203 - main_accuracy: 0.9938 - aux1_accuracy: 0.9946 - aux2_accuracy: 0.9934\n",
      "Epoch 5/30\n",
      "81/81 [==============================] - ETA: 0s - loss: 0.0179 - main_loss: 0.0105 - aux1_loss: 0.0121 - aux2_loss: 0.0126 - main_accuracy: 0.9957 - aux1_accuracy: 0.9961 - aux2_accuracy: 0.9965WARNING:tensorflow:Can save best model only with val_accuracy available, skipping.\n"
     ]
    },
    {
     "name": "stderr",
     "output_type": "stream",
     "text": [
      "WARNING:tensorflow:Can save best model only with val_accuracy available, skipping.\n"
     ]
    },
    {
     "name": "stdout",
     "output_type": "stream",
     "text": [
      "WARNING:tensorflow:Early stopping conditioned on metric `val_accuracy` which is not available. Available metrics are: loss,main_loss,aux1_loss,aux2_loss,main_accuracy,aux1_accuracy,aux2_accuracy\n"
     ]
    },
    {
     "name": "stderr",
     "output_type": "stream",
     "text": [
      "WARNING:tensorflow:Early stopping conditioned on metric `val_accuracy` which is not available. Available metrics are: loss,main_loss,aux1_loss,aux2_loss,main_accuracy,aux1_accuracy,aux2_accuracy\n"
     ]
    },
    {
     "name": "stdout",
     "output_type": "stream",
     "text": [
      "81/81 [==============================] - 66s 811ms/step - loss: 0.0179 - main_loss: 0.0105 - aux1_loss: 0.0121 - aux2_loss: 0.0126 - main_accuracy: 0.9957 - aux1_accuracy: 0.9961 - aux2_accuracy: 0.9965\n",
      "Epoch 6/30\n",
      "81/81 [==============================] - ETA: 0s - loss: 0.0189 - main_loss: 0.0115 - aux1_loss: 0.0126 - aux2_loss: 0.0119 - main_accuracy: 0.9953 - aux1_accuracy: 0.9969 - aux2_accuracy: 0.9961WARNING:tensorflow:Can save best model only with val_accuracy available, skipping.\n"
     ]
    },
    {
     "name": "stderr",
     "output_type": "stream",
     "text": [
      "WARNING:tensorflow:Can save best model only with val_accuracy available, skipping.\n"
     ]
    },
    {
     "name": "stdout",
     "output_type": "stream",
     "text": [
      "WARNING:tensorflow:Early stopping conditioned on metric `val_accuracy` which is not available. Available metrics are: loss,main_loss,aux1_loss,aux2_loss,main_accuracy,aux1_accuracy,aux2_accuracy\n"
     ]
    },
    {
     "name": "stderr",
     "output_type": "stream",
     "text": [
      "WARNING:tensorflow:Early stopping conditioned on metric `val_accuracy` which is not available. Available metrics are: loss,main_loss,aux1_loss,aux2_loss,main_accuracy,aux1_accuracy,aux2_accuracy\n"
     ]
    },
    {
     "name": "stdout",
     "output_type": "stream",
     "text": [
      "81/81 [==============================] - 66s 812ms/step - loss: 0.0189 - main_loss: 0.0115 - aux1_loss: 0.0126 - aux2_loss: 0.0119 - main_accuracy: 0.9953 - aux1_accuracy: 0.9969 - aux2_accuracy: 0.9961\n",
      "Epoch 7/30\n",
      "81/81 [==============================] - ETA: 0s - loss: 0.0131 - main_loss: 0.0075 - aux1_loss: 0.0096 - aux2_loss: 0.0092 - main_accuracy: 0.9973 - aux1_accuracy: 0.9973 - aux2_accuracy: 0.9969WARNING:tensorflow:Can save best model only with val_accuracy available, skipping.\n"
     ]
    },
    {
     "name": "stderr",
     "output_type": "stream",
     "text": [
      "WARNING:tensorflow:Can save best model only with val_accuracy available, skipping.\n"
     ]
    },
    {
     "name": "stdout",
     "output_type": "stream",
     "text": [
      "WARNING:tensorflow:Early stopping conditioned on metric `val_accuracy` which is not available. Available metrics are: loss,main_loss,aux1_loss,aux2_loss,main_accuracy,aux1_accuracy,aux2_accuracy\n"
     ]
    },
    {
     "name": "stderr",
     "output_type": "stream",
     "text": [
      "WARNING:tensorflow:Early stopping conditioned on metric `val_accuracy` which is not available. Available metrics are: loss,main_loss,aux1_loss,aux2_loss,main_accuracy,aux1_accuracy,aux2_accuracy\n"
     ]
    },
    {
     "name": "stdout",
     "output_type": "stream",
     "text": [
      "81/81 [==============================] - 66s 813ms/step - loss: 0.0131 - main_loss: 0.0075 - aux1_loss: 0.0096 - aux2_loss: 0.0092 - main_accuracy: 0.9973 - aux1_accuracy: 0.9973 - aux2_accuracy: 0.9969\n",
      "Epoch 8/30\n",
      "81/81 [==============================] - ETA: 0s - loss: 0.0149 - main_loss: 0.0083 - aux1_loss: 0.0118 - aux2_loss: 0.0102 - main_accuracy: 0.9965 - aux1_accuracy: 0.9969 - aux2_accuracy: 0.9969WARNING:tensorflow:Can save best model only with val_accuracy available, skipping.\n"
     ]
    },
    {
     "name": "stderr",
     "output_type": "stream",
     "text": [
      "WARNING:tensorflow:Can save best model only with val_accuracy available, skipping.\n"
     ]
    },
    {
     "name": "stdout",
     "output_type": "stream",
     "text": [
      "WARNING:tensorflow:Early stopping conditioned on metric `val_accuracy` which is not available. Available metrics are: loss,main_loss,aux1_loss,aux2_loss,main_accuracy,aux1_accuracy,aux2_accuracy\n"
     ]
    },
    {
     "name": "stderr",
     "output_type": "stream",
     "text": [
      "WARNING:tensorflow:Early stopping conditioned on metric `val_accuracy` which is not available. Available metrics are: loss,main_loss,aux1_loss,aux2_loss,main_accuracy,aux1_accuracy,aux2_accuracy\n"
     ]
    },
    {
     "name": "stdout",
     "output_type": "stream",
     "text": [
      "81/81 [==============================] - 66s 813ms/step - loss: 0.0149 - main_loss: 0.0083 - aux1_loss: 0.0118 - aux2_loss: 0.0102 - main_accuracy: 0.9965 - aux1_accuracy: 0.9969 - aux2_accuracy: 0.9969\n",
      "Epoch 9/30\n",
      "81/81 [==============================] - ETA: 0s - loss: 0.0124 - main_loss: 0.0074 - aux1_loss: 0.0087 - aux2_loss: 0.0080 - main_accuracy: 0.9977 - aux1_accuracy: 0.9969 - aux2_accuracy: 0.9969WARNING:tensorflow:Can save best model only with val_accuracy available, skipping.\n"
     ]
    },
    {
     "name": "stderr",
     "output_type": "stream",
     "text": [
      "WARNING:tensorflow:Can save best model only with val_accuracy available, skipping.\n"
     ]
    },
    {
     "name": "stdout",
     "output_type": "stream",
     "text": [
      "WARNING:tensorflow:Early stopping conditioned on metric `val_accuracy` which is not available. Available metrics are: loss,main_loss,aux1_loss,aux2_loss,main_accuracy,aux1_accuracy,aux2_accuracy\n"
     ]
    },
    {
     "name": "stderr",
     "output_type": "stream",
     "text": [
      "WARNING:tensorflow:Early stopping conditioned on metric `val_accuracy` which is not available. Available metrics are: loss,main_loss,aux1_loss,aux2_loss,main_accuracy,aux1_accuracy,aux2_accuracy\n"
     ]
    },
    {
     "name": "stdout",
     "output_type": "stream",
     "text": [
      "81/81 [==============================] - 66s 814ms/step - loss: 0.0124 - main_loss: 0.0074 - aux1_loss: 0.0087 - aux2_loss: 0.0080 - main_accuracy: 0.9977 - aux1_accuracy: 0.9969 - aux2_accuracy: 0.9969\n",
      "Epoch 10/30\n",
      "81/81 [==============================] - ETA: 0s - loss: 0.0138 - main_loss: 0.0078 - aux1_loss: 0.0111 - aux2_loss: 0.0087 - main_accuracy: 0.9977 - aux1_accuracy: 0.9953 - aux2_accuracy: 0.9977WARNING:tensorflow:Can save best model only with val_accuracy available, skipping.\n"
     ]
    },
    {
     "name": "stderr",
     "output_type": "stream",
     "text": [
      "WARNING:tensorflow:Can save best model only with val_accuracy available, skipping.\n"
     ]
    },
    {
     "name": "stdout",
     "output_type": "stream",
     "text": [
      "WARNING:tensorflow:Early stopping conditioned on metric `val_accuracy` which is not available. Available metrics are: loss,main_loss,aux1_loss,aux2_loss,main_accuracy,aux1_accuracy,aux2_accuracy\n"
     ]
    },
    {
     "name": "stderr",
     "output_type": "stream",
     "text": [
      "WARNING:tensorflow:Early stopping conditioned on metric `val_accuracy` which is not available. Available metrics are: loss,main_loss,aux1_loss,aux2_loss,main_accuracy,aux1_accuracy,aux2_accuracy\n"
     ]
    },
    {
     "name": "stdout",
     "output_type": "stream",
     "text": [
      "81/81 [==============================] - 66s 811ms/step - loss: 0.0138 - main_loss: 0.0078 - aux1_loss: 0.0111 - aux2_loss: 0.0087 - main_accuracy: 0.9977 - aux1_accuracy: 0.9953 - aux2_accuracy: 0.9977\n",
      "Epoch 11/30\n",
      "81/81 [==============================] - ETA: 0s - loss: 0.0086 - main_loss: 0.0049 - aux1_loss: 0.0060 - aux2_loss: 0.0065 - main_accuracy: 0.9988 - aux1_accuracy: 0.9984 - aux2_accuracy: 0.9973WARNING:tensorflow:Can save best model only with val_accuracy available, skipping.\n"
     ]
    },
    {
     "name": "stderr",
     "output_type": "stream",
     "text": [
      "WARNING:tensorflow:Can save best model only with val_accuracy available, skipping.\n"
     ]
    },
    {
     "name": "stdout",
     "output_type": "stream",
     "text": [
      "WARNING:tensorflow:Early stopping conditioned on metric `val_accuracy` which is not available. Available metrics are: loss,main_loss,aux1_loss,aux2_loss,main_accuracy,aux1_accuracy,aux2_accuracy\n"
     ]
    },
    {
     "name": "stderr",
     "output_type": "stream",
     "text": [
      "WARNING:tensorflow:Early stopping conditioned on metric `val_accuracy` which is not available. Available metrics are: loss,main_loss,aux1_loss,aux2_loss,main_accuracy,aux1_accuracy,aux2_accuracy\n"
     ]
    },
    {
     "name": "stdout",
     "output_type": "stream",
     "text": [
      "81/81 [==============================] - 66s 811ms/step - loss: 0.0086 - main_loss: 0.0049 - aux1_loss: 0.0060 - aux2_loss: 0.0065 - main_accuracy: 0.9988 - aux1_accuracy: 0.9984 - aux2_accuracy: 0.9973\n",
      "Epoch 12/30\n",
      "81/81 [==============================] - ETA: 0s - loss: 0.0119 - main_loss: 0.0066 - aux1_loss: 0.0094 - aux2_loss: 0.0082 - main_accuracy: 0.9969 - aux1_accuracy: 0.9965 - aux2_accuracy: 0.9969WARNING:tensorflow:Can save best model only with val_accuracy available, skipping.\n"
     ]
    },
    {
     "name": "stderr",
     "output_type": "stream",
     "text": [
      "WARNING:tensorflow:Can save best model only with val_accuracy available, skipping.\n"
     ]
    },
    {
     "name": "stdout",
     "output_type": "stream",
     "text": [
      "WARNING:tensorflow:Early stopping conditioned on metric `val_accuracy` which is not available. Available metrics are: loss,main_loss,aux1_loss,aux2_loss,main_accuracy,aux1_accuracy,aux2_accuracy\n"
     ]
    },
    {
     "name": "stderr",
     "output_type": "stream",
     "text": [
      "WARNING:tensorflow:Early stopping conditioned on metric `val_accuracy` which is not available. Available metrics are: loss,main_loss,aux1_loss,aux2_loss,main_accuracy,aux1_accuracy,aux2_accuracy\n"
     ]
    },
    {
     "name": "stdout",
     "output_type": "stream",
     "text": [
      "81/81 [==============================] - 66s 820ms/step - loss: 0.0119 - main_loss: 0.0066 - aux1_loss: 0.0094 - aux2_loss: 0.0082 - main_accuracy: 0.9969 - aux1_accuracy: 0.9965 - aux2_accuracy: 0.9969\n",
      "Epoch 13/30\n",
      "81/81 [==============================] - ETA: 0s - loss: 0.0159 - main_loss: 0.0101 - aux1_loss: 0.0099 - aux2_loss: 0.0096 - main_accuracy: 0.9953 - aux1_accuracy: 0.9965 - aux2_accuracy: 0.9965WARNING:tensorflow:Can save best model only with val_accuracy available, skipping.\n"
     ]
    },
    {
     "name": "stderr",
     "output_type": "stream",
     "text": [
      "WARNING:tensorflow:Can save best model only with val_accuracy available, skipping.\n"
     ]
    },
    {
     "name": "stdout",
     "output_type": "stream",
     "text": [
      "WARNING:tensorflow:Early stopping conditioned on metric `val_accuracy` which is not available. Available metrics are: loss,main_loss,aux1_loss,aux2_loss,main_accuracy,aux1_accuracy,aux2_accuracy\n"
     ]
    },
    {
     "name": "stderr",
     "output_type": "stream",
     "text": [
      "WARNING:tensorflow:Early stopping conditioned on metric `val_accuracy` which is not available. Available metrics are: loss,main_loss,aux1_loss,aux2_loss,main_accuracy,aux1_accuracy,aux2_accuracy\n"
     ]
    },
    {
     "name": "stdout",
     "output_type": "stream",
     "text": [
      "81/81 [==============================] - 66s 816ms/step - loss: 0.0159 - main_loss: 0.0101 - aux1_loss: 0.0099 - aux2_loss: 0.0096 - main_accuracy: 0.9953 - aux1_accuracy: 0.9965 - aux2_accuracy: 0.9965\n",
      "Epoch 14/30\n",
      "81/81 [==============================] - ETA: 0s - loss: 0.0238 - main_loss: 0.0162 - aux1_loss: 0.0120 - aux2_loss: 0.0136 - main_accuracy: 0.9950 - aux1_accuracy: 0.9950 - aux2_accuracy: 0.9946WARNING:tensorflow:Can save best model only with val_accuracy available, skipping.\n"
     ]
    },
    {
     "name": "stderr",
     "output_type": "stream",
     "text": [
      "WARNING:tensorflow:Can save best model only with val_accuracy available, skipping.\n"
     ]
    },
    {
     "name": "stdout",
     "output_type": "stream",
     "text": [
      "WARNING:tensorflow:Early stopping conditioned on metric `val_accuracy` which is not available. Available metrics are: loss,main_loss,aux1_loss,aux2_loss,main_accuracy,aux1_accuracy,aux2_accuracy\n"
     ]
    },
    {
     "name": "stderr",
     "output_type": "stream",
     "text": [
      "WARNING:tensorflow:Early stopping conditioned on metric `val_accuracy` which is not available. Available metrics are: loss,main_loss,aux1_loss,aux2_loss,main_accuracy,aux1_accuracy,aux2_accuracy\n"
     ]
    },
    {
     "name": "stdout",
     "output_type": "stream",
     "text": [
      "81/81 [==============================] - 66s 819ms/step - loss: 0.0238 - main_loss: 0.0162 - aux1_loss: 0.0120 - aux2_loss: 0.0136 - main_accuracy: 0.9950 - aux1_accuracy: 0.9950 - aux2_accuracy: 0.9946\n",
      "Epoch 15/30\n",
      "81/81 [==============================] - ETA: 0s - loss: 0.0164 - main_loss: 0.0093 - aux1_loss: 0.0105 - aux2_loss: 0.0133 - main_accuracy: 0.9965 - aux1_accuracy: 0.9969 - aux2_accuracy: 0.9942WARNING:tensorflow:Can save best model only with val_accuracy available, skipping.\n"
     ]
    },
    {
     "name": "stderr",
     "output_type": "stream",
     "text": [
      "WARNING:tensorflow:Can save best model only with val_accuracy available, skipping.\n"
     ]
    },
    {
     "name": "stdout",
     "output_type": "stream",
     "text": [
      "WARNING:tensorflow:Early stopping conditioned on metric `val_accuracy` which is not available. Available metrics are: loss,main_loss,aux1_loss,aux2_loss,main_accuracy,aux1_accuracy,aux2_accuracy\n"
     ]
    },
    {
     "name": "stderr",
     "output_type": "stream",
     "text": [
      "WARNING:tensorflow:Early stopping conditioned on metric `val_accuracy` which is not available. Available metrics are: loss,main_loss,aux1_loss,aux2_loss,main_accuracy,aux1_accuracy,aux2_accuracy\n"
     ]
    },
    {
     "name": "stdout",
     "output_type": "stream",
     "text": [
      "81/81 [==============================] - 66s 809ms/step - loss: 0.0164 - main_loss: 0.0093 - aux1_loss: 0.0105 - aux2_loss: 0.0133 - main_accuracy: 0.9965 - aux1_accuracy: 0.9969 - aux2_accuracy: 0.9942\n",
      "Epoch 16/30\n",
      "81/81 [==============================] - ETA: 0s - loss: 0.0115 - main_loss: 0.0066 - aux1_loss: 0.0090 - aux2_loss: 0.0075 - main_accuracy: 0.9977 - aux1_accuracy: 0.9973 - aux2_accuracy: 0.9977WARNING:tensorflow:Can save best model only with val_accuracy available, skipping.\n"
     ]
    },
    {
     "name": "stderr",
     "output_type": "stream",
     "text": [
      "WARNING:tensorflow:Can save best model only with val_accuracy available, skipping.\n"
     ]
    },
    {
     "name": "stdout",
     "output_type": "stream",
     "text": [
      "WARNING:tensorflow:Early stopping conditioned on metric `val_accuracy` which is not available. Available metrics are: loss,main_loss,aux1_loss,aux2_loss,main_accuracy,aux1_accuracy,aux2_accuracy\n"
     ]
    },
    {
     "name": "stderr",
     "output_type": "stream",
     "text": [
      "WARNING:tensorflow:Early stopping conditioned on metric `val_accuracy` which is not available. Available metrics are: loss,main_loss,aux1_loss,aux2_loss,main_accuracy,aux1_accuracy,aux2_accuracy\n"
     ]
    },
    {
     "name": "stdout",
     "output_type": "stream",
     "text": [
      "81/81 [==============================] - 66s 813ms/step - loss: 0.0115 - main_loss: 0.0066 - aux1_loss: 0.0090 - aux2_loss: 0.0075 - main_accuracy: 0.9977 - aux1_accuracy: 0.9973 - aux2_accuracy: 0.9977\n",
      "Epoch 17/30\n",
      "81/81 [==============================] - ETA: 0s - loss: 0.0142 - main_loss: 0.0082 - aux1_loss: 0.0109 - aux2_loss: 0.0092 - main_accuracy: 0.9969 - aux1_accuracy: 0.9965 - aux2_accuracy: 0.9969WARNING:tensorflow:Can save best model only with val_accuracy available, skipping.\n"
     ]
    },
    {
     "name": "stderr",
     "output_type": "stream",
     "text": [
      "WARNING:tensorflow:Can save best model only with val_accuracy available, skipping.\n"
     ]
    },
    {
     "name": "stdout",
     "output_type": "stream",
     "text": [
      "WARNING:tensorflow:Early stopping conditioned on metric `val_accuracy` which is not available. Available metrics are: loss,main_loss,aux1_loss,aux2_loss,main_accuracy,aux1_accuracy,aux2_accuracy\n"
     ]
    },
    {
     "name": "stderr",
     "output_type": "stream",
     "text": [
      "WARNING:tensorflow:Early stopping conditioned on metric `val_accuracy` which is not available. Available metrics are: loss,main_loss,aux1_loss,aux2_loss,main_accuracy,aux1_accuracy,aux2_accuracy\n"
     ]
    },
    {
     "name": "stdout",
     "output_type": "stream",
     "text": [
      "81/81 [==============================] - 66s 820ms/step - loss: 0.0142 - main_loss: 0.0082 - aux1_loss: 0.0109 - aux2_loss: 0.0092 - main_accuracy: 0.9969 - aux1_accuracy: 0.9965 - aux2_accuracy: 0.9969\n",
      "Epoch 18/30\n",
      "81/81 [==============================] - ETA: 0s - loss: 0.0147 - main_loss: 0.0089 - aux1_loss: 0.0104 - aux2_loss: 0.0091 - main_accuracy: 0.9961 - aux1_accuracy: 0.9961 - aux2_accuracy: 0.9969WARNING:tensorflow:Can save best model only with val_accuracy available, skipping.\n"
     ]
    },
    {
     "name": "stderr",
     "output_type": "stream",
     "text": [
      "WARNING:tensorflow:Can save best model only with val_accuracy available, skipping.\n"
     ]
    },
    {
     "name": "stdout",
     "output_type": "stream",
     "text": [
      "WARNING:tensorflow:Early stopping conditioned on metric `val_accuracy` which is not available. Available metrics are: loss,main_loss,aux1_loss,aux2_loss,main_accuracy,aux1_accuracy,aux2_accuracy\n"
     ]
    },
    {
     "name": "stderr",
     "output_type": "stream",
     "text": [
      "WARNING:tensorflow:Early stopping conditioned on metric `val_accuracy` which is not available. Available metrics are: loss,main_loss,aux1_loss,aux2_loss,main_accuracy,aux1_accuracy,aux2_accuracy\n"
     ]
    },
    {
     "name": "stdout",
     "output_type": "stream",
     "text": [
      "81/81 [==============================] - 66s 810ms/step - loss: 0.0147 - main_loss: 0.0089 - aux1_loss: 0.0104 - aux2_loss: 0.0091 - main_accuracy: 0.9961 - aux1_accuracy: 0.9961 - aux2_accuracy: 0.9969\n",
      "Epoch 19/30\n",
      "81/81 [==============================] - ETA: 0s - loss: 0.0081 - main_loss: 0.0047 - aux1_loss: 0.0059 - aux2_loss: 0.0054 - main_accuracy: 0.9981 - aux1_accuracy: 0.9984 - aux2_accuracy: 0.9988WARNING:tensorflow:Can save best model only with val_accuracy available, skipping.\n"
     ]
    },
    {
     "name": "stderr",
     "output_type": "stream",
     "text": [
      "WARNING:tensorflow:Can save best model only with val_accuracy available, skipping.\n"
     ]
    },
    {
     "name": "stdout",
     "output_type": "stream",
     "text": [
      "WARNING:tensorflow:Early stopping conditioned on metric `val_accuracy` which is not available. Available metrics are: loss,main_loss,aux1_loss,aux2_loss,main_accuracy,aux1_accuracy,aux2_accuracy\n"
     ]
    },
    {
     "name": "stderr",
     "output_type": "stream",
     "text": [
      "WARNING:tensorflow:Early stopping conditioned on metric `val_accuracy` which is not available. Available metrics are: loss,main_loss,aux1_loss,aux2_loss,main_accuracy,aux1_accuracy,aux2_accuracy\n"
     ]
    },
    {
     "name": "stdout",
     "output_type": "stream",
     "text": [
      "81/81 [==============================] - 66s 813ms/step - loss: 0.0081 - main_loss: 0.0047 - aux1_loss: 0.0059 - aux2_loss: 0.0054 - main_accuracy: 0.9981 - aux1_accuracy: 0.9984 - aux2_accuracy: 0.9988\n",
      "Epoch 20/30\n",
      "81/81 [==============================] - ETA: 0s - loss: 0.0101 - main_loss: 0.0054 - aux1_loss: 0.0093 - aux2_loss: 0.0065 - main_accuracy: 0.9984 - aux1_accuracy: 0.9965 - aux2_accuracy: 0.9973WARNING:tensorflow:Can save best model only with val_accuracy available, skipping.\n"
     ]
    },
    {
     "name": "stderr",
     "output_type": "stream",
     "text": [
      "WARNING:tensorflow:Can save best model only with val_accuracy available, skipping.\n"
     ]
    },
    {
     "name": "stdout",
     "output_type": "stream",
     "text": [
      "WARNING:tensorflow:Early stopping conditioned on metric `val_accuracy` which is not available. Available metrics are: loss,main_loss,aux1_loss,aux2_loss,main_accuracy,aux1_accuracy,aux2_accuracy\n"
     ]
    },
    {
     "name": "stderr",
     "output_type": "stream",
     "text": [
      "WARNING:tensorflow:Early stopping conditioned on metric `val_accuracy` which is not available. Available metrics are: loss,main_loss,aux1_loss,aux2_loss,main_accuracy,aux1_accuracy,aux2_accuracy\n"
     ]
    },
    {
     "name": "stdout",
     "output_type": "stream",
     "text": [
      "81/81 [==============================] - 67s 823ms/step - loss: 0.0101 - main_loss: 0.0054 - aux1_loss: 0.0093 - aux2_loss: 0.0065 - main_accuracy: 0.9984 - aux1_accuracy: 0.9965 - aux2_accuracy: 0.9973\n",
      "Epoch 21/30\n",
      "81/81 [==============================] - ETA: 0s - loss: 0.0107 - main_loss: 0.0064 - aux1_loss: 0.0066 - aux2_loss: 0.0076 - main_accuracy: 0.9969 - aux1_accuracy: 0.9977 - aux2_accuracy: 0.9965WARNING:tensorflow:Can save best model only with val_accuracy available, skipping.\n"
     ]
    },
    {
     "name": "stderr",
     "output_type": "stream",
     "text": [
      "WARNING:tensorflow:Can save best model only with val_accuracy available, skipping.\n"
     ]
    },
    {
     "name": "stdout",
     "output_type": "stream",
     "text": [
      "WARNING:tensorflow:Early stopping conditioned on metric `val_accuracy` which is not available. Available metrics are: loss,main_loss,aux1_loss,aux2_loss,main_accuracy,aux1_accuracy,aux2_accuracy\n"
     ]
    },
    {
     "name": "stderr",
     "output_type": "stream",
     "text": [
      "WARNING:tensorflow:Early stopping conditioned on metric `val_accuracy` which is not available. Available metrics are: loss,main_loss,aux1_loss,aux2_loss,main_accuracy,aux1_accuracy,aux2_accuracy\n"
     ]
    },
    {
     "name": "stdout",
     "output_type": "stream",
     "text": [
      "81/81 [==============================] - 66s 813ms/step - loss: 0.0107 - main_loss: 0.0064 - aux1_loss: 0.0066 - aux2_loss: 0.0076 - main_accuracy: 0.9969 - aux1_accuracy: 0.9977 - aux2_accuracy: 0.9965\n",
      "Epoch 22/30\n",
      "81/81 [==============================] - ETA: 0s - loss: 0.0105 - main_loss: 0.0062 - aux1_loss: 0.0069 - aux2_loss: 0.0075 - main_accuracy: 0.9973 - aux1_accuracy: 0.9961 - aux2_accuracy: 0.9969WARNING:tensorflow:Can save best model only with val_accuracy available, skipping.\n"
     ]
    },
    {
     "name": "stderr",
     "output_type": "stream",
     "text": [
      "WARNING:tensorflow:Can save best model only with val_accuracy available, skipping.\n"
     ]
    },
    {
     "name": "stdout",
     "output_type": "stream",
     "text": [
      "WARNING:tensorflow:Early stopping conditioned on metric `val_accuracy` which is not available. Available metrics are: loss,main_loss,aux1_loss,aux2_loss,main_accuracy,aux1_accuracy,aux2_accuracy\n"
     ]
    },
    {
     "name": "stderr",
     "output_type": "stream",
     "text": [
      "WARNING:tensorflow:Early stopping conditioned on metric `val_accuracy` which is not available. Available metrics are: loss,main_loss,aux1_loss,aux2_loss,main_accuracy,aux1_accuracy,aux2_accuracy\n"
     ]
    },
    {
     "name": "stdout",
     "output_type": "stream",
     "text": [
      "81/81 [==============================] - 66s 809ms/step - loss: 0.0105 - main_loss: 0.0062 - aux1_loss: 0.0069 - aux2_loss: 0.0075 - main_accuracy: 0.9973 - aux1_accuracy: 0.9961 - aux2_accuracy: 0.9969\n",
      "Epoch 23/30\n",
      "81/81 [==============================] - ETA: 0s - loss: 0.0069 - main_loss: 0.0040 - aux1_loss: 0.0055 - aux2_loss: 0.0042 - main_accuracy: 0.9988 - aux1_accuracy: 0.9988 - aux2_accuracy: 0.9992WARNING:tensorflow:Can save best model only with val_accuracy available, skipping.\n"
     ]
    },
    {
     "name": "stderr",
     "output_type": "stream",
     "text": [
      "WARNING:tensorflow:Can save best model only with val_accuracy available, skipping.\n"
     ]
    },
    {
     "name": "stdout",
     "output_type": "stream",
     "text": [
      "WARNING:tensorflow:Early stopping conditioned on metric `val_accuracy` which is not available. Available metrics are: loss,main_loss,aux1_loss,aux2_loss,main_accuracy,aux1_accuracy,aux2_accuracy\n"
     ]
    },
    {
     "name": "stderr",
     "output_type": "stream",
     "text": [
      "WARNING:tensorflow:Early stopping conditioned on metric `val_accuracy` which is not available. Available metrics are: loss,main_loss,aux1_loss,aux2_loss,main_accuracy,aux1_accuracy,aux2_accuracy\n"
     ]
    },
    {
     "name": "stdout",
     "output_type": "stream",
     "text": [
      "81/81 [==============================] - 65s 807ms/step - loss: 0.0069 - main_loss: 0.0040 - aux1_loss: 0.0055 - aux2_loss: 0.0042 - main_accuracy: 0.9988 - aux1_accuracy: 0.9988 - aux2_accuracy: 0.9992\n",
      "Epoch 24/30\n",
      "81/81 [==============================] - ETA: 0s - loss: 0.0065 - main_loss: 0.0032 - aux1_loss: 0.0063 - aux2_loss: 0.0048 - main_accuracy: 0.9984 - aux1_accuracy: 0.9981 - aux2_accuracy: 0.9984WARNING:tensorflow:Can save best model only with val_accuracy available, skipping.\n"
     ]
    },
    {
     "name": "stderr",
     "output_type": "stream",
     "text": [
      "WARNING:tensorflow:Can save best model only with val_accuracy available, skipping.\n"
     ]
    },
    {
     "name": "stdout",
     "output_type": "stream",
     "text": [
      "WARNING:tensorflow:Early stopping conditioned on metric `val_accuracy` which is not available. Available metrics are: loss,main_loss,aux1_loss,aux2_loss,main_accuracy,aux1_accuracy,aux2_accuracy\n"
     ]
    },
    {
     "name": "stderr",
     "output_type": "stream",
     "text": [
      "WARNING:tensorflow:Early stopping conditioned on metric `val_accuracy` which is not available. Available metrics are: loss,main_loss,aux1_loss,aux2_loss,main_accuracy,aux1_accuracy,aux2_accuracy\n"
     ]
    },
    {
     "name": "stdout",
     "output_type": "stream",
     "text": [
      "81/81 [==============================] - 66s 815ms/step - loss: 0.0065 - main_loss: 0.0032 - aux1_loss: 0.0063 - aux2_loss: 0.0048 - main_accuracy: 0.9984 - aux1_accuracy: 0.9981 - aux2_accuracy: 0.9984\n",
      "Epoch 25/30\n",
      "81/81 [==============================] - ETA: 0s - loss: 0.0057 - main_loss: 0.0031 - aux1_loss: 0.0044 - aux2_loss: 0.0042 - main_accuracy: 0.9996 - aux1_accuracy: 0.9992 - aux2_accuracy: 0.9996WARNING:tensorflow:Can save best model only with val_accuracy available, skipping.\n"
     ]
    },
    {
     "name": "stderr",
     "output_type": "stream",
     "text": [
      "WARNING:tensorflow:Can save best model only with val_accuracy available, skipping.\n"
     ]
    },
    {
     "name": "stdout",
     "output_type": "stream",
     "text": [
      "WARNING:tensorflow:Early stopping conditioned on metric `val_accuracy` which is not available. Available metrics are: loss,main_loss,aux1_loss,aux2_loss,main_accuracy,aux1_accuracy,aux2_accuracy\n"
     ]
    },
    {
     "name": "stderr",
     "output_type": "stream",
     "text": [
      "WARNING:tensorflow:Early stopping conditioned on metric `val_accuracy` which is not available. Available metrics are: loss,main_loss,aux1_loss,aux2_loss,main_accuracy,aux1_accuracy,aux2_accuracy\n"
     ]
    },
    {
     "name": "stdout",
     "output_type": "stream",
     "text": [
      "81/81 [==============================] - 66s 813ms/step - loss: 0.0057 - main_loss: 0.0031 - aux1_loss: 0.0044 - aux2_loss: 0.0042 - main_accuracy: 0.9996 - aux1_accuracy: 0.9992 - aux2_accuracy: 0.9996\n",
      "Epoch 26/30\n",
      "81/81 [==============================] - ETA: 0s - loss: 0.0109 - main_loss: 0.0061 - aux1_loss: 0.0094 - aux2_loss: 0.0069 - main_accuracy: 0.9977 - aux1_accuracy: 0.9969 - aux2_accuracy: 0.9965WARNING:tensorflow:Can save best model only with val_accuracy available, skipping.\n"
     ]
    },
    {
     "name": "stderr",
     "output_type": "stream",
     "text": [
      "WARNING:tensorflow:Can save best model only with val_accuracy available, skipping.\n"
     ]
    },
    {
     "name": "stdout",
     "output_type": "stream",
     "text": [
      "WARNING:tensorflow:Early stopping conditioned on metric `val_accuracy` which is not available. Available metrics are: loss,main_loss,aux1_loss,aux2_loss,main_accuracy,aux1_accuracy,aux2_accuracy\n"
     ]
    },
    {
     "name": "stderr",
     "output_type": "stream",
     "text": [
      "WARNING:tensorflow:Early stopping conditioned on metric `val_accuracy` which is not available. Available metrics are: loss,main_loss,aux1_loss,aux2_loss,main_accuracy,aux1_accuracy,aux2_accuracy\n"
     ]
    },
    {
     "name": "stdout",
     "output_type": "stream",
     "text": [
      "81/81 [==============================] - 66s 809ms/step - loss: 0.0109 - main_loss: 0.0061 - aux1_loss: 0.0094 - aux2_loss: 0.0069 - main_accuracy: 0.9977 - aux1_accuracy: 0.9969 - aux2_accuracy: 0.9965\n",
      "Epoch 27/30\n",
      "81/81 [==============================] - ETA: 0s - loss: 0.0045 - main_loss: 0.0020 - aux1_loss: 0.0034 - aux2_loss: 0.0051 - main_accuracy: 0.9996 - aux1_accuracy: 0.9992 - aux2_accuracy: 0.9984WARNING:tensorflow:Can save best model only with val_accuracy available, skipping.\n"
     ]
    },
    {
     "name": "stderr",
     "output_type": "stream",
     "text": [
      "WARNING:tensorflow:Can save best model only with val_accuracy available, skipping.\n"
     ]
    },
    {
     "name": "stdout",
     "output_type": "stream",
     "text": [
      "WARNING:tensorflow:Early stopping conditioned on metric `val_accuracy` which is not available. Available metrics are: loss,main_loss,aux1_loss,aux2_loss,main_accuracy,aux1_accuracy,aux2_accuracy\n"
     ]
    },
    {
     "name": "stderr",
     "output_type": "stream",
     "text": [
      "WARNING:tensorflow:Early stopping conditioned on metric `val_accuracy` which is not available. Available metrics are: loss,main_loss,aux1_loss,aux2_loss,main_accuracy,aux1_accuracy,aux2_accuracy\n"
     ]
    },
    {
     "name": "stdout",
     "output_type": "stream",
     "text": [
      "81/81 [==============================] - 66s 809ms/step - loss: 0.0045 - main_loss: 0.0020 - aux1_loss: 0.0034 - aux2_loss: 0.0051 - main_accuracy: 0.9996 - aux1_accuracy: 0.9992 - aux2_accuracy: 0.9984\n",
      "Epoch 28/30\n",
      "81/81 [==============================] - ETA: 0s - loss: 0.0103 - main_loss: 0.0064 - aux1_loss: 0.0069 - aux2_loss: 0.0064 - main_accuracy: 0.9981 - aux1_accuracy: 0.9973 - aux2_accuracy: 0.9973WARNING:tensorflow:Can save best model only with val_accuracy available, skipping.\n"
     ]
    },
    {
     "name": "stderr",
     "output_type": "stream",
     "text": [
      "WARNING:tensorflow:Can save best model only with val_accuracy available, skipping.\n"
     ]
    },
    {
     "name": "stdout",
     "output_type": "stream",
     "text": [
      "WARNING:tensorflow:Early stopping conditioned on metric `val_accuracy` which is not available. Available metrics are: loss,main_loss,aux1_loss,aux2_loss,main_accuracy,aux1_accuracy,aux2_accuracy\n"
     ]
    },
    {
     "name": "stderr",
     "output_type": "stream",
     "text": [
      "WARNING:tensorflow:Early stopping conditioned on metric `val_accuracy` which is not available. Available metrics are: loss,main_loss,aux1_loss,aux2_loss,main_accuracy,aux1_accuracy,aux2_accuracy\n"
     ]
    },
    {
     "name": "stdout",
     "output_type": "stream",
     "text": [
      "81/81 [==============================] - 66s 809ms/step - loss: 0.0103 - main_loss: 0.0064 - aux1_loss: 0.0069 - aux2_loss: 0.0064 - main_accuracy: 0.9981 - aux1_accuracy: 0.9973 - aux2_accuracy: 0.9973\n",
      "Epoch 29/30\n",
      "81/81 [==============================] - ETA: 0s - loss: 0.0061 - main_loss: 0.0034 - aux1_loss: 0.0047 - aux2_loss: 0.0046 - main_accuracy: 0.9992 - aux1_accuracy: 0.9988 - aux2_accuracy: 0.9977WARNING:tensorflow:Can save best model only with val_accuracy available, skipping.\n"
     ]
    },
    {
     "name": "stderr",
     "output_type": "stream",
     "text": [
      "WARNING:tensorflow:Can save best model only with val_accuracy available, skipping.\n"
     ]
    },
    {
     "name": "stdout",
     "output_type": "stream",
     "text": [
      "WARNING:tensorflow:Early stopping conditioned on metric `val_accuracy` which is not available. Available metrics are: loss,main_loss,aux1_loss,aux2_loss,main_accuracy,aux1_accuracy,aux2_accuracy\n"
     ]
    },
    {
     "name": "stderr",
     "output_type": "stream",
     "text": [
      "WARNING:tensorflow:Early stopping conditioned on metric `val_accuracy` which is not available. Available metrics are: loss,main_loss,aux1_loss,aux2_loss,main_accuracy,aux1_accuracy,aux2_accuracy\n"
     ]
    },
    {
     "name": "stdout",
     "output_type": "stream",
     "text": [
      "81/81 [==============================] - 66s 815ms/step - loss: 0.0061 - main_loss: 0.0034 - aux1_loss: 0.0047 - aux2_loss: 0.0046 - main_accuracy: 0.9992 - aux1_accuracy: 0.9988 - aux2_accuracy: 0.9977\n",
      "Epoch 30/30\n",
      "81/81 [==============================] - ETA: 0s - loss: 0.0058 - main_loss: 0.0029 - aux1_loss: 0.0050 - aux2_loss: 0.0046 - main_accuracy: 0.9996 - aux1_accuracy: 0.9977 - aux2_accuracy: 0.9984WARNING:tensorflow:Can save best model only with val_accuracy available, skipping.\n"
     ]
    },
    {
     "name": "stderr",
     "output_type": "stream",
     "text": [
      "WARNING:tensorflow:Can save best model only with val_accuracy available, skipping.\n"
     ]
    },
    {
     "name": "stdout",
     "output_type": "stream",
     "text": [
      "WARNING:tensorflow:Early stopping conditioned on metric `val_accuracy` which is not available. Available metrics are: loss,main_loss,aux1_loss,aux2_loss,main_accuracy,aux1_accuracy,aux2_accuracy\n"
     ]
    },
    {
     "name": "stderr",
     "output_type": "stream",
     "text": [
      "WARNING:tensorflow:Early stopping conditioned on metric `val_accuracy` which is not available. Available metrics are: loss,main_loss,aux1_loss,aux2_loss,main_accuracy,aux1_accuracy,aux2_accuracy\n"
     ]
    },
    {
     "name": "stdout",
     "output_type": "stream",
     "text": [
      "81/81 [==============================] - 66s 813ms/step - loss: 0.0058 - main_loss: 0.0029 - aux1_loss: 0.0050 - aux2_loss: 0.0046 - main_accuracy: 0.9996 - aux1_accuracy: 0.9977 - aux2_accuracy: 0.9984\n",
      "Using optimizer: Adam, Epoch: 20\n",
      "Epoch 1/20\n",
      "81/81 [==============================] - ETA: 0s - loss: 0.1354 - main_loss: 0.0990 - aux1_loss: 0.0577 - aux2_loss: 0.0636 - main_accuracy: 0.9744 - aux1_accuracy: 0.9829 - aux2_accuracy: 0.9814WARNING:tensorflow:Can save best model only with val_accuracy available, skipping.\n"
     ]
    },
    {
     "name": "stderr",
     "output_type": "stream",
     "text": [
      "WARNING:tensorflow:Can save best model only with val_accuracy available, skipping.\n"
     ]
    },
    {
     "name": "stdout",
     "output_type": "stream",
     "text": [
      "WARNING:tensorflow:Early stopping conditioned on metric `val_accuracy` which is not available. Available metrics are: loss,main_loss,aux1_loss,aux2_loss,main_accuracy,aux1_accuracy,aux2_accuracy\n"
     ]
    },
    {
     "name": "stderr",
     "output_type": "stream",
     "text": [
      "WARNING:tensorflow:Early stopping conditioned on metric `val_accuracy` which is not available. Available metrics are: loss,main_loss,aux1_loss,aux2_loss,main_accuracy,aux1_accuracy,aux2_accuracy\n"
     ]
    },
    {
     "name": "stdout",
     "output_type": "stream",
     "text": [
      "81/81 [==============================] - 68s 808ms/step - loss: 0.1354 - main_loss: 0.0990 - aux1_loss: 0.0577 - aux2_loss: 0.0636 - main_accuracy: 0.9744 - aux1_accuracy: 0.9829 - aux2_accuracy: 0.9814\n",
      "Epoch 2/20\n",
      "81/81 [==============================] - ETA: 0s - loss: 0.0349 - main_loss: 0.0217 - aux1_loss: 0.0210 - aux2_loss: 0.0228 - main_accuracy: 0.9922 - aux1_accuracy: 0.9919 - aux2_accuracy: 0.9934WARNING:tensorflow:Can save best model only with val_accuracy available, skipping.\n"
     ]
    },
    {
     "name": "stderr",
     "output_type": "stream",
     "text": [
      "WARNING:tensorflow:Can save best model only with val_accuracy available, skipping.\n"
     ]
    },
    {
     "name": "stdout",
     "output_type": "stream",
     "text": [
      "WARNING:tensorflow:Early stopping conditioned on metric `val_accuracy` which is not available. Available metrics are: loss,main_loss,aux1_loss,aux2_loss,main_accuracy,aux1_accuracy,aux2_accuracy\n"
     ]
    },
    {
     "name": "stderr",
     "output_type": "stream",
     "text": [
      "WARNING:tensorflow:Early stopping conditioned on metric `val_accuracy` which is not available. Available metrics are: loss,main_loss,aux1_loss,aux2_loss,main_accuracy,aux1_accuracy,aux2_accuracy\n"
     ]
    },
    {
     "name": "stdout",
     "output_type": "stream",
     "text": [
      "81/81 [==============================] - 66s 815ms/step - loss: 0.0349 - main_loss: 0.0217 - aux1_loss: 0.0210 - aux2_loss: 0.0228 - main_accuracy: 0.9922 - aux1_accuracy: 0.9919 - aux2_accuracy: 0.9934\n",
      "Epoch 3/20\n",
      "81/81 [==============================] - ETA: 0s - loss: 0.0227 - main_loss: 0.0142 - aux1_loss: 0.0173 - aux2_loss: 0.0108 - main_accuracy: 0.9934 - aux1_accuracy: 0.9934 - aux2_accuracy: 0.9957WARNING:tensorflow:Can save best model only with val_accuracy available, skipping.\n"
     ]
    },
    {
     "name": "stderr",
     "output_type": "stream",
     "text": [
      "WARNING:tensorflow:Can save best model only with val_accuracy available, skipping.\n"
     ]
    },
    {
     "name": "stdout",
     "output_type": "stream",
     "text": [
      "WARNING:tensorflow:Early stopping conditioned on metric `val_accuracy` which is not available. Available metrics are: loss,main_loss,aux1_loss,aux2_loss,main_accuracy,aux1_accuracy,aux2_accuracy\n"
     ]
    },
    {
     "name": "stderr",
     "output_type": "stream",
     "text": [
      "WARNING:tensorflow:Early stopping conditioned on metric `val_accuracy` which is not available. Available metrics are: loss,main_loss,aux1_loss,aux2_loss,main_accuracy,aux1_accuracy,aux2_accuracy\n"
     ]
    },
    {
     "name": "stdout",
     "output_type": "stream",
     "text": [
      "81/81 [==============================] - 66s 809ms/step - loss: 0.0227 - main_loss: 0.0142 - aux1_loss: 0.0173 - aux2_loss: 0.0108 - main_accuracy: 0.9934 - aux1_accuracy: 0.9934 - aux2_accuracy: 0.9957\n",
      "Epoch 4/20\n",
      "81/81 [==============================] - ETA: 0s - loss: 0.0405 - main_loss: 0.0281 - aux1_loss: 0.0210 - aux2_loss: 0.0201 - main_accuracy: 0.9930 - aux1_accuracy: 0.9946 - aux2_accuracy: 0.9938WARNING:tensorflow:Can save best model only with val_accuracy available, skipping.\n"
     ]
    },
    {
     "name": "stderr",
     "output_type": "stream",
     "text": [
      "WARNING:tensorflow:Can save best model only with val_accuracy available, skipping.\n"
     ]
    },
    {
     "name": "stdout",
     "output_type": "stream",
     "text": [
      "WARNING:tensorflow:Early stopping conditioned on metric `val_accuracy` which is not available. Available metrics are: loss,main_loss,aux1_loss,aux2_loss,main_accuracy,aux1_accuracy,aux2_accuracy\n"
     ]
    },
    {
     "name": "stderr",
     "output_type": "stream",
     "text": [
      "WARNING:tensorflow:Early stopping conditioned on metric `val_accuracy` which is not available. Available metrics are: loss,main_loss,aux1_loss,aux2_loss,main_accuracy,aux1_accuracy,aux2_accuracy\n"
     ]
    },
    {
     "name": "stdout",
     "output_type": "stream",
     "text": [
      "81/81 [==============================] - 66s 810ms/step - loss: 0.0405 - main_loss: 0.0281 - aux1_loss: 0.0210 - aux2_loss: 0.0201 - main_accuracy: 0.9930 - aux1_accuracy: 0.9946 - aux2_accuracy: 0.9938\n",
      "Epoch 5/20\n",
      "81/81 [==============================] - ETA: 0s - loss: 0.0345 - main_loss: 0.0252 - aux1_loss: 0.0155 - aux2_loss: 0.0155 - main_accuracy: 0.9899 - aux1_accuracy: 0.9946 - aux2_accuracy: 0.9938WARNING:tensorflow:Can save best model only with val_accuracy available, skipping.\n"
     ]
    },
    {
     "name": "stderr",
     "output_type": "stream",
     "text": [
      "WARNING:tensorflow:Can save best model only with val_accuracy available, skipping.\n"
     ]
    },
    {
     "name": "stdout",
     "output_type": "stream",
     "text": [
      "WARNING:tensorflow:Early stopping conditioned on metric `val_accuracy` which is not available. Available metrics are: loss,main_loss,aux1_loss,aux2_loss,main_accuracy,aux1_accuracy,aux2_accuracy\n"
     ]
    },
    {
     "name": "stderr",
     "output_type": "stream",
     "text": [
      "WARNING:tensorflow:Early stopping conditioned on metric `val_accuracy` which is not available. Available metrics are: loss,main_loss,aux1_loss,aux2_loss,main_accuracy,aux1_accuracy,aux2_accuracy\n"
     ]
    },
    {
     "name": "stdout",
     "output_type": "stream",
     "text": [
      "81/81 [==============================] - 66s 809ms/step - loss: 0.0345 - main_loss: 0.0252 - aux1_loss: 0.0155 - aux2_loss: 0.0155 - main_accuracy: 0.9899 - aux1_accuracy: 0.9946 - aux2_accuracy: 0.9938\n",
      "Epoch 6/20\n",
      "81/81 [==============================] - ETA: 0s - loss: 0.0225 - main_loss: 0.0147 - aux1_loss: 0.0156 - aux2_loss: 0.0106 - main_accuracy: 0.9950 - aux1_accuracy: 0.9961 - aux2_accuracy: 0.9961WARNING:tensorflow:Can save best model only with val_accuracy available, skipping.\n"
     ]
    },
    {
     "name": "stderr",
     "output_type": "stream",
     "text": [
      "WARNING:tensorflow:Can save best model only with val_accuracy available, skipping.\n"
     ]
    },
    {
     "name": "stdout",
     "output_type": "stream",
     "text": [
      "WARNING:tensorflow:Early stopping conditioned on metric `val_accuracy` which is not available. Available metrics are: loss,main_loss,aux1_loss,aux2_loss,main_accuracy,aux1_accuracy,aux2_accuracy\n"
     ]
    },
    {
     "name": "stderr",
     "output_type": "stream",
     "text": [
      "WARNING:tensorflow:Early stopping conditioned on metric `val_accuracy` which is not available. Available metrics are: loss,main_loss,aux1_loss,aux2_loss,main_accuracy,aux1_accuracy,aux2_accuracy\n"
     ]
    },
    {
     "name": "stdout",
     "output_type": "stream",
     "text": [
      "81/81 [==============================] - 66s 811ms/step - loss: 0.0225 - main_loss: 0.0147 - aux1_loss: 0.0156 - aux2_loss: 0.0106 - main_accuracy: 0.9950 - aux1_accuracy: 0.9961 - aux2_accuracy: 0.9961\n",
      "Epoch 7/20\n",
      "81/81 [==============================] - ETA: 0s - loss: 0.0445 - main_loss: 0.0310 - aux1_loss: 0.0273 - aux2_loss: 0.0176 - main_accuracy: 0.9864 - aux1_accuracy: 0.9915 - aux2_accuracy: 0.9926WARNING:tensorflow:Can save best model only with val_accuracy available, skipping.\n"
     ]
    },
    {
     "name": "stderr",
     "output_type": "stream",
     "text": [
      "WARNING:tensorflow:Can save best model only with val_accuracy available, skipping.\n"
     ]
    },
    {
     "name": "stdout",
     "output_type": "stream",
     "text": [
      "WARNING:tensorflow:Early stopping conditioned on metric `val_accuracy` which is not available. Available metrics are: loss,main_loss,aux1_loss,aux2_loss,main_accuracy,aux1_accuracy,aux2_accuracy\n"
     ]
    },
    {
     "name": "stderr",
     "output_type": "stream",
     "text": [
      "WARNING:tensorflow:Early stopping conditioned on metric `val_accuracy` which is not available. Available metrics are: loss,main_loss,aux1_loss,aux2_loss,main_accuracy,aux1_accuracy,aux2_accuracy\n"
     ]
    },
    {
     "name": "stdout",
     "output_type": "stream",
     "text": [
      "81/81 [==============================] - 65s 807ms/step - loss: 0.0445 - main_loss: 0.0310 - aux1_loss: 0.0273 - aux2_loss: 0.0176 - main_accuracy: 0.9864 - aux1_accuracy: 0.9915 - aux2_accuracy: 0.9926\n",
      "Epoch 8/20\n",
      "81/81 [==============================] - ETA: 0s - loss: 0.4814 - main_loss: 0.3876 - aux1_loss: 0.1274 - aux2_loss: 0.1853 - main_accuracy: 0.9248 - aux1_accuracy: 0.9713 - aux2_accuracy: 0.9570WARNING:tensorflow:Can save best model only with val_accuracy available, skipping.\n"
     ]
    },
    {
     "name": "stderr",
     "output_type": "stream",
     "text": [
      "WARNING:tensorflow:Can save best model only with val_accuracy available, skipping.\n"
     ]
    },
    {
     "name": "stdout",
     "output_type": "stream",
     "text": [
      "WARNING:tensorflow:Early stopping conditioned on metric `val_accuracy` which is not available. Available metrics are: loss,main_loss,aux1_loss,aux2_loss,main_accuracy,aux1_accuracy,aux2_accuracy\n"
     ]
    },
    {
     "name": "stderr",
     "output_type": "stream",
     "text": [
      "WARNING:tensorflow:Early stopping conditioned on metric `val_accuracy` which is not available. Available metrics are: loss,main_loss,aux1_loss,aux2_loss,main_accuracy,aux1_accuracy,aux2_accuracy\n"
     ]
    },
    {
     "name": "stdout",
     "output_type": "stream",
     "text": [
      "81/81 [==============================] - 65s 807ms/step - loss: 0.4814 - main_loss: 0.3876 - aux1_loss: 0.1274 - aux2_loss: 0.1853 - main_accuracy: 0.9248 - aux1_accuracy: 0.9713 - aux2_accuracy: 0.9570\n",
      "Epoch 9/20\n",
      "81/81 [==============================] - ETA: 0s - loss: 0.0621 - main_loss: 0.0426 - aux1_loss: 0.0354 - aux2_loss: 0.0296 - main_accuracy: 0.9818 - aux1_accuracy: 0.9864 - aux2_accuracy: 0.9872WARNING:tensorflow:Can save best model only with val_accuracy available, skipping.\n"
     ]
    },
    {
     "name": "stderr",
     "output_type": "stream",
     "text": [
      "WARNING:tensorflow:Can save best model only with val_accuracy available, skipping.\n"
     ]
    },
    {
     "name": "stdout",
     "output_type": "stream",
     "text": [
      "WARNING:tensorflow:Early stopping conditioned on metric `val_accuracy` which is not available. Available metrics are: loss,main_loss,aux1_loss,aux2_loss,main_accuracy,aux1_accuracy,aux2_accuracy\n"
     ]
    },
    {
     "name": "stderr",
     "output_type": "stream",
     "text": [
      "WARNING:tensorflow:Early stopping conditioned on metric `val_accuracy` which is not available. Available metrics are: loss,main_loss,aux1_loss,aux2_loss,main_accuracy,aux1_accuracy,aux2_accuracy\n"
     ]
    },
    {
     "name": "stdout",
     "output_type": "stream",
     "text": [
      "81/81 [==============================] - 67s 830ms/step - loss: 0.0621 - main_loss: 0.0426 - aux1_loss: 0.0354 - aux2_loss: 0.0296 - main_accuracy: 0.9818 - aux1_accuracy: 0.9864 - aux2_accuracy: 0.9872\n",
      "Epoch 10/20\n",
      "81/81 [==============================] - ETA: 0s - loss: 0.0384 - main_loss: 0.0240 - aux1_loss: 0.0278 - aux2_loss: 0.0202 - main_accuracy: 0.9895 - aux1_accuracy: 0.9907 - aux2_accuracy: 0.9919WARNING:tensorflow:Can save best model only with val_accuracy available, skipping.\n"
     ]
    },
    {
     "name": "stderr",
     "output_type": "stream",
     "text": [
      "WARNING:tensorflow:Can save best model only with val_accuracy available, skipping.\n"
     ]
    },
    {
     "name": "stdout",
     "output_type": "stream",
     "text": [
      "WARNING:tensorflow:Early stopping conditioned on metric `val_accuracy` which is not available. Available metrics are: loss,main_loss,aux1_loss,aux2_loss,main_accuracy,aux1_accuracy,aux2_accuracy\n"
     ]
    },
    {
     "name": "stderr",
     "output_type": "stream",
     "text": [
      "WARNING:tensorflow:Early stopping conditioned on metric `val_accuracy` which is not available. Available metrics are: loss,main_loss,aux1_loss,aux2_loss,main_accuracy,aux1_accuracy,aux2_accuracy\n"
     ]
    },
    {
     "name": "stdout",
     "output_type": "stream",
     "text": [
      "81/81 [==============================] - 71s 873ms/step - loss: 0.0384 - main_loss: 0.0240 - aux1_loss: 0.0278 - aux2_loss: 0.0202 - main_accuracy: 0.9895 - aux1_accuracy: 0.9907 - aux2_accuracy: 0.9919\n",
      "Epoch 11/20\n",
      "81/81 [==============================] - ETA: 0s - loss: 0.0364 - main_loss: 0.0204 - aux1_loss: 0.0368 - aux2_loss: 0.0163 - main_accuracy: 0.9919 - aux1_accuracy: 0.9907 - aux2_accuracy: 0.9946WARNING:tensorflow:Can save best model only with val_accuracy available, skipping.\n"
     ]
    },
    {
     "name": "stderr",
     "output_type": "stream",
     "text": [
      "WARNING:tensorflow:Can save best model only with val_accuracy available, skipping.\n"
     ]
    },
    {
     "name": "stdout",
     "output_type": "stream",
     "text": [
      "WARNING:tensorflow:Early stopping conditioned on metric `val_accuracy` which is not available. Available metrics are: loss,main_loss,aux1_loss,aux2_loss,main_accuracy,aux1_accuracy,aux2_accuracy\n"
     ]
    },
    {
     "name": "stderr",
     "output_type": "stream",
     "text": [
      "WARNING:tensorflow:Early stopping conditioned on metric `val_accuracy` which is not available. Available metrics are: loss,main_loss,aux1_loss,aux2_loss,main_accuracy,aux1_accuracy,aux2_accuracy\n"
     ]
    },
    {
     "name": "stdout",
     "output_type": "stream",
     "text": [
      "81/81 [==============================] - 66s 813ms/step - loss: 0.0364 - main_loss: 0.0204 - aux1_loss: 0.0368 - aux2_loss: 0.0163 - main_accuracy: 0.9919 - aux1_accuracy: 0.9907 - aux2_accuracy: 0.9946\n",
      "Epoch 12/20\n",
      "81/81 [==============================] - ETA: 0s - loss: 0.0214 - main_loss: 0.0139 - aux1_loss: 0.0132 - aux2_loss: 0.0121 - main_accuracy: 0.9946 - aux1_accuracy: 0.9950 - aux2_accuracy: 0.9953WARNING:tensorflow:Can save best model only with val_accuracy available, skipping.\n"
     ]
    },
    {
     "name": "stderr",
     "output_type": "stream",
     "text": [
      "WARNING:tensorflow:Can save best model only with val_accuracy available, skipping.\n"
     ]
    },
    {
     "name": "stdout",
     "output_type": "stream",
     "text": [
      "WARNING:tensorflow:Early stopping conditioned on metric `val_accuracy` which is not available. Available metrics are: loss,main_loss,aux1_loss,aux2_loss,main_accuracy,aux1_accuracy,aux2_accuracy\n"
     ]
    },
    {
     "name": "stderr",
     "output_type": "stream",
     "text": [
      "WARNING:tensorflow:Early stopping conditioned on metric `val_accuracy` which is not available. Available metrics are: loss,main_loss,aux1_loss,aux2_loss,main_accuracy,aux1_accuracy,aux2_accuracy\n"
     ]
    },
    {
     "name": "stdout",
     "output_type": "stream",
     "text": [
      "81/81 [==============================] - 66s 815ms/step - loss: 0.0214 - main_loss: 0.0139 - aux1_loss: 0.0132 - aux2_loss: 0.0121 - main_accuracy: 0.9946 - aux1_accuracy: 0.9950 - aux2_accuracy: 0.9953\n",
      "Epoch 13/20\n",
      "81/81 [==============================] - ETA: 0s - loss: 0.0358 - main_loss: 0.0244 - aux1_loss: 0.0165 - aux2_loss: 0.0216 - main_accuracy: 0.9934 - aux1_accuracy: 0.9946 - aux2_accuracy: 0.9930WARNING:tensorflow:Can save best model only with val_accuracy available, skipping.\n"
     ]
    },
    {
     "name": "stderr",
     "output_type": "stream",
     "text": [
      "WARNING:tensorflow:Can save best model only with val_accuracy available, skipping.\n"
     ]
    },
    {
     "name": "stdout",
     "output_type": "stream",
     "text": [
      "WARNING:tensorflow:Early stopping conditioned on metric `val_accuracy` which is not available. Available metrics are: loss,main_loss,aux1_loss,aux2_loss,main_accuracy,aux1_accuracy,aux2_accuracy\n"
     ]
    },
    {
     "name": "stderr",
     "output_type": "stream",
     "text": [
      "WARNING:tensorflow:Early stopping conditioned on metric `val_accuracy` which is not available. Available metrics are: loss,main_loss,aux1_loss,aux2_loss,main_accuracy,aux1_accuracy,aux2_accuracy\n"
     ]
    },
    {
     "name": "stdout",
     "output_type": "stream",
     "text": [
      "81/81 [==============================] - 66s 812ms/step - loss: 0.0358 - main_loss: 0.0244 - aux1_loss: 0.0165 - aux2_loss: 0.0216 - main_accuracy: 0.9934 - aux1_accuracy: 0.9946 - aux2_accuracy: 0.9930\n",
      "Epoch 14/20\n",
      "81/81 [==============================] - ETA: 0s - loss: 0.0235 - main_loss: 0.0156 - aux1_loss: 0.0142 - aux2_loss: 0.0122 - main_accuracy: 0.9957 - aux1_accuracy: 0.9957 - aux2_accuracy: 0.9969WARNING:tensorflow:Can save best model only with val_accuracy available, skipping.\n"
     ]
    },
    {
     "name": "stderr",
     "output_type": "stream",
     "text": [
      "WARNING:tensorflow:Can save best model only with val_accuracy available, skipping.\n"
     ]
    },
    {
     "name": "stdout",
     "output_type": "stream",
     "text": [
      "WARNING:tensorflow:Early stopping conditioned on metric `val_accuracy` which is not available. Available metrics are: loss,main_loss,aux1_loss,aux2_loss,main_accuracy,aux1_accuracy,aux2_accuracy\n"
     ]
    },
    {
     "name": "stderr",
     "output_type": "stream",
     "text": [
      "WARNING:tensorflow:Early stopping conditioned on metric `val_accuracy` which is not available. Available metrics are: loss,main_loss,aux1_loss,aux2_loss,main_accuracy,aux1_accuracy,aux2_accuracy\n"
     ]
    },
    {
     "name": "stdout",
     "output_type": "stream",
     "text": [
      "81/81 [==============================] - 65s 808ms/step - loss: 0.0235 - main_loss: 0.0156 - aux1_loss: 0.0142 - aux2_loss: 0.0122 - main_accuracy: 0.9957 - aux1_accuracy: 0.9957 - aux2_accuracy: 0.9969\n",
      "Epoch 15/20\n",
      "81/81 [==============================] - ETA: 0s - loss: 0.0149 - main_loss: 0.0101 - aux1_loss: 0.0081 - aux2_loss: 0.0078 - main_accuracy: 0.9977 - aux1_accuracy: 0.9977 - aux2_accuracy: 0.9981WARNING:tensorflow:Can save best model only with val_accuracy available, skipping.\n"
     ]
    },
    {
     "name": "stderr",
     "output_type": "stream",
     "text": [
      "WARNING:tensorflow:Can save best model only with val_accuracy available, skipping.\n"
     ]
    },
    {
     "name": "stdout",
     "output_type": "stream",
     "text": [
      "WARNING:tensorflow:Early stopping conditioned on metric `val_accuracy` which is not available. Available metrics are: loss,main_loss,aux1_loss,aux2_loss,main_accuracy,aux1_accuracy,aux2_accuracy\n"
     ]
    },
    {
     "name": "stderr",
     "output_type": "stream",
     "text": [
      "WARNING:tensorflow:Early stopping conditioned on metric `val_accuracy` which is not available. Available metrics are: loss,main_loss,aux1_loss,aux2_loss,main_accuracy,aux1_accuracy,aux2_accuracy\n"
     ]
    },
    {
     "name": "stdout",
     "output_type": "stream",
     "text": [
      "81/81 [==============================] - 66s 809ms/step - loss: 0.0149 - main_loss: 0.0101 - aux1_loss: 0.0081 - aux2_loss: 0.0078 - main_accuracy: 0.9977 - aux1_accuracy: 0.9977 - aux2_accuracy: 0.9981\n",
      "Epoch 16/20\n",
      "81/81 [==============================] - ETA: 0s - loss: 0.0346 - main_loss: 0.0236 - aux1_loss: 0.0152 - aux2_loss: 0.0216 - main_accuracy: 0.9922 - aux1_accuracy: 0.9953 - aux2_accuracy: 0.9930WARNING:tensorflow:Can save best model only with val_accuracy available, skipping.\n"
     ]
    },
    {
     "name": "stderr",
     "output_type": "stream",
     "text": [
      "WARNING:tensorflow:Can save best model only with val_accuracy available, skipping.\n"
     ]
    },
    {
     "name": "stdout",
     "output_type": "stream",
     "text": [
      "WARNING:tensorflow:Early stopping conditioned on metric `val_accuracy` which is not available. Available metrics are: loss,main_loss,aux1_loss,aux2_loss,main_accuracy,aux1_accuracy,aux2_accuracy\n"
     ]
    },
    {
     "name": "stderr",
     "output_type": "stream",
     "text": [
      "WARNING:tensorflow:Early stopping conditioned on metric `val_accuracy` which is not available. Available metrics are: loss,main_loss,aux1_loss,aux2_loss,main_accuracy,aux1_accuracy,aux2_accuracy\n"
     ]
    },
    {
     "name": "stdout",
     "output_type": "stream",
     "text": [
      "81/81 [==============================] - 66s 809ms/step - loss: 0.0346 - main_loss: 0.0236 - aux1_loss: 0.0152 - aux2_loss: 0.0216 - main_accuracy: 0.9922 - aux1_accuracy: 0.9953 - aux2_accuracy: 0.9930\n",
      "Epoch 17/20\n",
      "81/81 [==============================] - ETA: 0s - loss: 0.0229 - main_loss: 0.0133 - aux1_loss: 0.0183 - aux2_loss: 0.0137 - main_accuracy: 0.9950 - aux1_accuracy: 0.9957 - aux2_accuracy: 0.9950WARNING:tensorflow:Can save best model only with val_accuracy available, skipping.\n"
     ]
    },
    {
     "name": "stderr",
     "output_type": "stream",
     "text": [
      "WARNING:tensorflow:Can save best model only with val_accuracy available, skipping.\n"
     ]
    },
    {
     "name": "stdout",
     "output_type": "stream",
     "text": [
      "WARNING:tensorflow:Early stopping conditioned on metric `val_accuracy` which is not available. Available metrics are: loss,main_loss,aux1_loss,aux2_loss,main_accuracy,aux1_accuracy,aux2_accuracy\n"
     ]
    },
    {
     "name": "stderr",
     "output_type": "stream",
     "text": [
      "WARNING:tensorflow:Early stopping conditioned on metric `val_accuracy` which is not available. Available metrics are: loss,main_loss,aux1_loss,aux2_loss,main_accuracy,aux1_accuracy,aux2_accuracy\n"
     ]
    },
    {
     "name": "stdout",
     "output_type": "stream",
     "text": [
      "81/81 [==============================] - 66s 813ms/step - loss: 0.0229 - main_loss: 0.0133 - aux1_loss: 0.0183 - aux2_loss: 0.0137 - main_accuracy: 0.9950 - aux1_accuracy: 0.9957 - aux2_accuracy: 0.9950\n",
      "Epoch 18/20\n",
      "81/81 [==============================] - ETA: 0s - loss: 0.0118 - main_loss: 0.0083 - aux1_loss: 0.0060 - aux2_loss: 0.0056 - main_accuracy: 0.9981 - aux1_accuracy: 0.9977 - aux2_accuracy: 0.9988WARNING:tensorflow:Can save best model only with val_accuracy available, skipping.\n"
     ]
    },
    {
     "name": "stderr",
     "output_type": "stream",
     "text": [
      "WARNING:tensorflow:Can save best model only with val_accuracy available, skipping.\n"
     ]
    },
    {
     "name": "stdout",
     "output_type": "stream",
     "text": [
      "WARNING:tensorflow:Early stopping conditioned on metric `val_accuracy` which is not available. Available metrics are: loss,main_loss,aux1_loss,aux2_loss,main_accuracy,aux1_accuracy,aux2_accuracy\n"
     ]
    },
    {
     "name": "stderr",
     "output_type": "stream",
     "text": [
      "WARNING:tensorflow:Early stopping conditioned on metric `val_accuracy` which is not available. Available metrics are: loss,main_loss,aux1_loss,aux2_loss,main_accuracy,aux1_accuracy,aux2_accuracy\n"
     ]
    },
    {
     "name": "stdout",
     "output_type": "stream",
     "text": [
      "81/81 [==============================] - 66s 814ms/step - loss: 0.0118 - main_loss: 0.0083 - aux1_loss: 0.0060 - aux2_loss: 0.0056 - main_accuracy: 0.9981 - aux1_accuracy: 0.9977 - aux2_accuracy: 0.9988\n",
      "Epoch 19/20\n",
      "81/81 [==============================] - ETA: 0s - loss: 0.0174 - main_loss: 0.0123 - aux1_loss: 0.0071 - aux2_loss: 0.0099 - main_accuracy: 0.9942 - aux1_accuracy: 0.9984 - aux2_accuracy: 0.9965WARNING:tensorflow:Can save best model only with val_accuracy available, skipping.\n"
     ]
    },
    {
     "name": "stderr",
     "output_type": "stream",
     "text": [
      "WARNING:tensorflow:Can save best model only with val_accuracy available, skipping.\n"
     ]
    },
    {
     "name": "stdout",
     "output_type": "stream",
     "text": [
      "WARNING:tensorflow:Early stopping conditioned on metric `val_accuracy` which is not available. Available metrics are: loss,main_loss,aux1_loss,aux2_loss,main_accuracy,aux1_accuracy,aux2_accuracy\n"
     ]
    },
    {
     "name": "stderr",
     "output_type": "stream",
     "text": [
      "WARNING:tensorflow:Early stopping conditioned on metric `val_accuracy` which is not available. Available metrics are: loss,main_loss,aux1_loss,aux2_loss,main_accuracy,aux1_accuracy,aux2_accuracy\n"
     ]
    },
    {
     "name": "stdout",
     "output_type": "stream",
     "text": [
      "81/81 [==============================] - 66s 812ms/step - loss: 0.0174 - main_loss: 0.0123 - aux1_loss: 0.0071 - aux2_loss: 0.0099 - main_accuracy: 0.9942 - aux1_accuracy: 0.9984 - aux2_accuracy: 0.9965\n",
      "Epoch 20/20\n",
      "81/81 [==============================] - ETA: 0s - loss: 0.0524 - main_loss: 0.0357 - aux1_loss: 0.0299 - aux2_loss: 0.0256 - main_accuracy: 0.9907 - aux1_accuracy: 0.9919 - aux2_accuracy: 0.9926WARNING:tensorflow:Can save best model only with val_accuracy available, skipping.\n"
     ]
    },
    {
     "name": "stderr",
     "output_type": "stream",
     "text": [
      "WARNING:tensorflow:Can save best model only with val_accuracy available, skipping.\n"
     ]
    },
    {
     "name": "stdout",
     "output_type": "stream",
     "text": [
      "WARNING:tensorflow:Early stopping conditioned on metric `val_accuracy` which is not available. Available metrics are: loss,main_loss,aux1_loss,aux2_loss,main_accuracy,aux1_accuracy,aux2_accuracy\n"
     ]
    },
    {
     "name": "stderr",
     "output_type": "stream",
     "text": [
      "WARNING:tensorflow:Early stopping conditioned on metric `val_accuracy` which is not available. Available metrics are: loss,main_loss,aux1_loss,aux2_loss,main_accuracy,aux1_accuracy,aux2_accuracy\n"
     ]
    },
    {
     "name": "stdout",
     "output_type": "stream",
     "text": [
      "81/81 [==============================] - 66s 811ms/step - loss: 0.0524 - main_loss: 0.0357 - aux1_loss: 0.0299 - aux2_loss: 0.0256 - main_accuracy: 0.9907 - aux1_accuracy: 0.9919 - aux2_accuracy: 0.9926\n",
      "Using optimizer: SGD, Epoch: 30\n",
      "Epoch 1/30\n",
      "81/81 [==============================] - ETA: 0s - loss: 0.0196 - main_loss: 0.0115 - aux1_loss: 0.0160 - aux2_loss: 0.0109 - main_accuracy: 0.9965 - aux1_accuracy: 0.9930 - aux2_accuracy: 0.9961WARNING:tensorflow:Can save best model only with val_accuracy available, skipping.\n"
     ]
    },
    {
     "name": "stderr",
     "output_type": "stream",
     "text": [
      "WARNING:tensorflow:Can save best model only with val_accuracy available, skipping.\n"
     ]
    },
    {
     "name": "stdout",
     "output_type": "stream",
     "text": [
      "WARNING:tensorflow:Early stopping conditioned on metric `val_accuracy` which is not available. Available metrics are: loss,main_loss,aux1_loss,aux2_loss,main_accuracy,aux1_accuracy,aux2_accuracy\n"
     ]
    },
    {
     "name": "stderr",
     "output_type": "stream",
     "text": [
      "WARNING:tensorflow:Early stopping conditioned on metric `val_accuracy` which is not available. Available metrics are: loss,main_loss,aux1_loss,aux2_loss,main_accuracy,aux1_accuracy,aux2_accuracy\n"
     ]
    },
    {
     "name": "stdout",
     "output_type": "stream",
     "text": [
      "81/81 [==============================] - 67s 808ms/step - loss: 0.0196 - main_loss: 0.0115 - aux1_loss: 0.0160 - aux2_loss: 0.0109 - main_accuracy: 0.9965 - aux1_accuracy: 0.9930 - aux2_accuracy: 0.9961\n",
      "Epoch 2/30\n",
      "81/81 [==============================] - ETA: 0s - loss: 0.0124 - main_loss: 0.0072 - aux1_loss: 0.0088 - aux2_loss: 0.0086 - main_accuracy: 0.9984 - aux1_accuracy: 0.9973 - aux2_accuracy: 0.9977WARNING:tensorflow:Can save best model only with val_accuracy available, skipping.\n"
     ]
    },
    {
     "name": "stderr",
     "output_type": "stream",
     "text": [
      "WARNING:tensorflow:Can save best model only with val_accuracy available, skipping.\n"
     ]
    },
    {
     "name": "stdout",
     "output_type": "stream",
     "text": [
      "WARNING:tensorflow:Early stopping conditioned on metric `val_accuracy` which is not available. Available metrics are: loss,main_loss,aux1_loss,aux2_loss,main_accuracy,aux1_accuracy,aux2_accuracy\n"
     ]
    },
    {
     "name": "stderr",
     "output_type": "stream",
     "text": [
      "WARNING:tensorflow:Early stopping conditioned on metric `val_accuracy` which is not available. Available metrics are: loss,main_loss,aux1_loss,aux2_loss,main_accuracy,aux1_accuracy,aux2_accuracy\n"
     ]
    },
    {
     "name": "stdout",
     "output_type": "stream",
     "text": [
      "81/81 [==============================] - 65s 806ms/step - loss: 0.0124 - main_loss: 0.0072 - aux1_loss: 0.0088 - aux2_loss: 0.0086 - main_accuracy: 0.9984 - aux1_accuracy: 0.9973 - aux2_accuracy: 0.9977\n",
      "Epoch 3/30\n",
      "81/81 [==============================] - ETA: 0s - loss: 0.0114 - main_loss: 0.0065 - aux1_loss: 0.0073 - aux2_loss: 0.0088 - main_accuracy: 0.9969 - aux1_accuracy: 0.9977 - aux2_accuracy: 0.9969WARNING:tensorflow:Can save best model only with val_accuracy available, skipping.\n"
     ]
    },
    {
     "name": "stderr",
     "output_type": "stream",
     "text": [
      "WARNING:tensorflow:Can save best model only with val_accuracy available, skipping.\n"
     ]
    },
    {
     "name": "stdout",
     "output_type": "stream",
     "text": [
      "WARNING:tensorflow:Early stopping conditioned on metric `val_accuracy` which is not available. Available metrics are: loss,main_loss,aux1_loss,aux2_loss,main_accuracy,aux1_accuracy,aux2_accuracy\n"
     ]
    },
    {
     "name": "stderr",
     "output_type": "stream",
     "text": [
      "WARNING:tensorflow:Early stopping conditioned on metric `val_accuracy` which is not available. Available metrics are: loss,main_loss,aux1_loss,aux2_loss,main_accuracy,aux1_accuracy,aux2_accuracy\n"
     ]
    },
    {
     "name": "stdout",
     "output_type": "stream",
     "text": [
      "81/81 [==============================] - 65s 808ms/step - loss: 0.0114 - main_loss: 0.0065 - aux1_loss: 0.0073 - aux2_loss: 0.0088 - main_accuracy: 0.9969 - aux1_accuracy: 0.9977 - aux2_accuracy: 0.9969\n",
      "Epoch 4/30\n",
      "81/81 [==============================] - ETA: 0s - loss: 0.0058 - main_loss: 0.0033 - aux1_loss: 0.0036 - aux2_loss: 0.0048 - main_accuracy: 0.9992 - aux1_accuracy: 0.9992 - aux2_accuracy: 0.9992WARNING:tensorflow:Can save best model only with val_accuracy available, skipping.\n"
     ]
    },
    {
     "name": "stderr",
     "output_type": "stream",
     "text": [
      "WARNING:tensorflow:Can save best model only with val_accuracy available, skipping.\n"
     ]
    },
    {
     "name": "stdout",
     "output_type": "stream",
     "text": [
      "WARNING:tensorflow:Early stopping conditioned on metric `val_accuracy` which is not available. Available metrics are: loss,main_loss,aux1_loss,aux2_loss,main_accuracy,aux1_accuracy,aux2_accuracy\n"
     ]
    },
    {
     "name": "stderr",
     "output_type": "stream",
     "text": [
      "WARNING:tensorflow:Early stopping conditioned on metric `val_accuracy` which is not available. Available metrics are: loss,main_loss,aux1_loss,aux2_loss,main_accuracy,aux1_accuracy,aux2_accuracy\n"
     ]
    },
    {
     "name": "stdout",
     "output_type": "stream",
     "text": [
      "81/81 [==============================] - 66s 809ms/step - loss: 0.0058 - main_loss: 0.0033 - aux1_loss: 0.0036 - aux2_loss: 0.0048 - main_accuracy: 0.9992 - aux1_accuracy: 0.9992 - aux2_accuracy: 0.9992\n",
      "Epoch 5/30\n",
      "81/81 [==============================] - ETA: 0s - loss: 0.0076 - main_loss: 0.0037 - aux1_loss: 0.0073 - aux2_loss: 0.0057 - main_accuracy: 0.9988 - aux1_accuracy: 0.9988 - aux2_accuracy: 0.9977WARNING:tensorflow:Can save best model only with val_accuracy available, skipping.\n"
     ]
    },
    {
     "name": "stderr",
     "output_type": "stream",
     "text": [
      "WARNING:tensorflow:Can save best model only with val_accuracy available, skipping.\n"
     ]
    },
    {
     "name": "stdout",
     "output_type": "stream",
     "text": [
      "WARNING:tensorflow:Early stopping conditioned on metric `val_accuracy` which is not available. Available metrics are: loss,main_loss,aux1_loss,aux2_loss,main_accuracy,aux1_accuracy,aux2_accuracy\n"
     ]
    },
    {
     "name": "stderr",
     "output_type": "stream",
     "text": [
      "WARNING:tensorflow:Early stopping conditioned on metric `val_accuracy` which is not available. Available metrics are: loss,main_loss,aux1_loss,aux2_loss,main_accuracy,aux1_accuracy,aux2_accuracy\n"
     ]
    },
    {
     "name": "stdout",
     "output_type": "stream",
     "text": [
      "81/81 [==============================] - 66s 814ms/step - loss: 0.0076 - main_loss: 0.0037 - aux1_loss: 0.0073 - aux2_loss: 0.0057 - main_accuracy: 0.9988 - aux1_accuracy: 0.9988 - aux2_accuracy: 0.9977\n",
      "Epoch 6/30\n",
      "81/81 [==============================] - ETA: 0s - loss: 0.0068 - main_loss: 0.0041 - aux1_loss: 0.0046 - aux2_loss: 0.0045 - main_accuracy: 0.9996 - aux1_accuracy: 0.9981 - aux2_accuracy: 0.9988WARNING:tensorflow:Can save best model only with val_accuracy available, skipping.\n"
     ]
    },
    {
     "name": "stderr",
     "output_type": "stream",
     "text": [
      "WARNING:tensorflow:Can save best model only with val_accuracy available, skipping.\n"
     ]
    },
    {
     "name": "stdout",
     "output_type": "stream",
     "text": [
      "WARNING:tensorflow:Early stopping conditioned on metric `val_accuracy` which is not available. Available metrics are: loss,main_loss,aux1_loss,aux2_loss,main_accuracy,aux1_accuracy,aux2_accuracy\n"
     ]
    },
    {
     "name": "stderr",
     "output_type": "stream",
     "text": [
      "WARNING:tensorflow:Early stopping conditioned on metric `val_accuracy` which is not available. Available metrics are: loss,main_loss,aux1_loss,aux2_loss,main_accuracy,aux1_accuracy,aux2_accuracy\n"
     ]
    },
    {
     "name": "stdout",
     "output_type": "stream",
     "text": [
      "81/81 [==============================] - 66s 811ms/step - loss: 0.0068 - main_loss: 0.0041 - aux1_loss: 0.0046 - aux2_loss: 0.0045 - main_accuracy: 0.9996 - aux1_accuracy: 0.9981 - aux2_accuracy: 0.9988\n",
      "Epoch 7/30\n",
      "81/81 [==============================] - ETA: 0s - loss: 0.0037 - main_loss: 0.0016 - aux1_loss: 0.0036 - aux2_loss: 0.0035 - main_accuracy: 0.9996 - aux1_accuracy: 0.9996 - aux2_accuracy: 0.9988WARNING:tensorflow:Can save best model only with val_accuracy available, skipping.\n"
     ]
    },
    {
     "name": "stderr",
     "output_type": "stream",
     "text": [
      "WARNING:tensorflow:Can save best model only with val_accuracy available, skipping.\n"
     ]
    },
    {
     "name": "stdout",
     "output_type": "stream",
     "text": [
      "WARNING:tensorflow:Early stopping conditioned on metric `val_accuracy` which is not available. Available metrics are: loss,main_loss,aux1_loss,aux2_loss,main_accuracy,aux1_accuracy,aux2_accuracy\n"
     ]
    },
    {
     "name": "stderr",
     "output_type": "stream",
     "text": [
      "WARNING:tensorflow:Early stopping conditioned on metric `val_accuracy` which is not available. Available metrics are: loss,main_loss,aux1_loss,aux2_loss,main_accuracy,aux1_accuracy,aux2_accuracy\n"
     ]
    },
    {
     "name": "stdout",
     "output_type": "stream",
     "text": [
      "81/81 [==============================] - 66s 808ms/step - loss: 0.0037 - main_loss: 0.0016 - aux1_loss: 0.0036 - aux2_loss: 0.0035 - main_accuracy: 0.9996 - aux1_accuracy: 0.9996 - aux2_accuracy: 0.9988\n",
      "Epoch 8/30\n",
      "81/81 [==============================] - ETA: 0s - loss: 0.0109 - main_loss: 0.0067 - aux1_loss: 0.0066 - aux2_loss: 0.0075 - main_accuracy: 0.9977 - aux1_accuracy: 0.9977 - aux2_accuracy: 0.9977WARNING:tensorflow:Can save best model only with val_accuracy available, skipping.\n"
     ]
    },
    {
     "name": "stderr",
     "output_type": "stream",
     "text": [
      "WARNING:tensorflow:Can save best model only with val_accuracy available, skipping.\n"
     ]
    },
    {
     "name": "stdout",
     "output_type": "stream",
     "text": [
      "WARNING:tensorflow:Early stopping conditioned on metric `val_accuracy` which is not available. Available metrics are: loss,main_loss,aux1_loss,aux2_loss,main_accuracy,aux1_accuracy,aux2_accuracy\n"
     ]
    },
    {
     "name": "stderr",
     "output_type": "stream",
     "text": [
      "WARNING:tensorflow:Early stopping conditioned on metric `val_accuracy` which is not available. Available metrics are: loss,main_loss,aux1_loss,aux2_loss,main_accuracy,aux1_accuracy,aux2_accuracy\n"
     ]
    },
    {
     "name": "stdout",
     "output_type": "stream",
     "text": [
      "81/81 [==============================] - 67s 820ms/step - loss: 0.0109 - main_loss: 0.0067 - aux1_loss: 0.0066 - aux2_loss: 0.0075 - main_accuracy: 0.9977 - aux1_accuracy: 0.9977 - aux2_accuracy: 0.9977\n",
      "Epoch 9/30\n",
      "81/81 [==============================] - ETA: 0s - loss: 0.0040 - main_loss: 0.0024 - aux1_loss: 0.0019 - aux2_loss: 0.0032 - main_accuracy: 0.9992 - aux1_accuracy: 1.0000 - aux2_accuracy: 0.9992WARNING:tensorflow:Can save best model only with val_accuracy available, skipping.\n"
     ]
    },
    {
     "name": "stderr",
     "output_type": "stream",
     "text": [
      "WARNING:tensorflow:Can save best model only with val_accuracy available, skipping.\n"
     ]
    },
    {
     "name": "stdout",
     "output_type": "stream",
     "text": [
      "WARNING:tensorflow:Early stopping conditioned on metric `val_accuracy` which is not available. Available metrics are: loss,main_loss,aux1_loss,aux2_loss,main_accuracy,aux1_accuracy,aux2_accuracy\n"
     ]
    },
    {
     "name": "stderr",
     "output_type": "stream",
     "text": [
      "WARNING:tensorflow:Early stopping conditioned on metric `val_accuracy` which is not available. Available metrics are: loss,main_loss,aux1_loss,aux2_loss,main_accuracy,aux1_accuracy,aux2_accuracy\n"
     ]
    },
    {
     "name": "stdout",
     "output_type": "stream",
     "text": [
      "81/81 [==============================] - 65s 808ms/step - loss: 0.0040 - main_loss: 0.0024 - aux1_loss: 0.0019 - aux2_loss: 0.0032 - main_accuracy: 0.9992 - aux1_accuracy: 1.0000 - aux2_accuracy: 0.9992\n",
      "Epoch 10/30\n",
      "81/81 [==============================] - ETA: 0s - loss: 0.0040 - main_loss: 0.0019 - aux1_loss: 0.0040 - aux2_loss: 0.0030 - main_accuracy: 0.9992 - aux1_accuracy: 0.9988 - aux2_accuracy: 0.9988WARNING:tensorflow:Can save best model only with val_accuracy available, skipping.\n"
     ]
    },
    {
     "name": "stderr",
     "output_type": "stream",
     "text": [
      "WARNING:tensorflow:Can save best model only with val_accuracy available, skipping.\n"
     ]
    },
    {
     "name": "stdout",
     "output_type": "stream",
     "text": [
      "WARNING:tensorflow:Early stopping conditioned on metric `val_accuracy` which is not available. Available metrics are: loss,main_loss,aux1_loss,aux2_loss,main_accuracy,aux1_accuracy,aux2_accuracy\n"
     ]
    },
    {
     "name": "stderr",
     "output_type": "stream",
     "text": [
      "WARNING:tensorflow:Early stopping conditioned on metric `val_accuracy` which is not available. Available metrics are: loss,main_loss,aux1_loss,aux2_loss,main_accuracy,aux1_accuracy,aux2_accuracy\n"
     ]
    },
    {
     "name": "stdout",
     "output_type": "stream",
     "text": [
      "81/81 [==============================] - 66s 809ms/step - loss: 0.0040 - main_loss: 0.0019 - aux1_loss: 0.0040 - aux2_loss: 0.0030 - main_accuracy: 0.9992 - aux1_accuracy: 0.9988 - aux2_accuracy: 0.9988\n",
      "Epoch 11/30\n",
      "81/81 [==============================] - ETA: 0s - loss: 0.0065 - main_loss: 0.0043 - aux1_loss: 0.0036 - aux2_loss: 0.0037 - main_accuracy: 0.9984 - aux1_accuracy: 0.9992 - aux2_accuracy: 0.9996WARNING:tensorflow:Can save best model only with val_accuracy available, skipping.\n"
     ]
    },
    {
     "name": "stderr",
     "output_type": "stream",
     "text": [
      "WARNING:tensorflow:Can save best model only with val_accuracy available, skipping.\n"
     ]
    },
    {
     "name": "stdout",
     "output_type": "stream",
     "text": [
      "WARNING:tensorflow:Early stopping conditioned on metric `val_accuracy` which is not available. Available metrics are: loss,main_loss,aux1_loss,aux2_loss,main_accuracy,aux1_accuracy,aux2_accuracy\n"
     ]
    },
    {
     "name": "stderr",
     "output_type": "stream",
     "text": [
      "WARNING:tensorflow:Early stopping conditioned on metric `val_accuracy` which is not available. Available metrics are: loss,main_loss,aux1_loss,aux2_loss,main_accuracy,aux1_accuracy,aux2_accuracy\n"
     ]
    },
    {
     "name": "stdout",
     "output_type": "stream",
     "text": [
      "81/81 [==============================] - 66s 810ms/step - loss: 0.0065 - main_loss: 0.0043 - aux1_loss: 0.0036 - aux2_loss: 0.0037 - main_accuracy: 0.9984 - aux1_accuracy: 0.9992 - aux2_accuracy: 0.9996\n",
      "Epoch 12/30\n",
      "81/81 [==============================] - ETA: 0s - loss: 0.0036 - main_loss: 0.0016 - aux1_loss: 0.0038 - aux2_loss: 0.0030 - main_accuracy: 0.9996 - aux1_accuracy: 0.9988 - aux2_accuracy: 0.9996WARNING:tensorflow:Can save best model only with val_accuracy available, skipping.\n"
     ]
    },
    {
     "name": "stderr",
     "output_type": "stream",
     "text": [
      "WARNING:tensorflow:Can save best model only with val_accuracy available, skipping.\n"
     ]
    },
    {
     "name": "stdout",
     "output_type": "stream",
     "text": [
      "WARNING:tensorflow:Early stopping conditioned on metric `val_accuracy` which is not available. Available metrics are: loss,main_loss,aux1_loss,aux2_loss,main_accuracy,aux1_accuracy,aux2_accuracy\n"
     ]
    },
    {
     "name": "stderr",
     "output_type": "stream",
     "text": [
      "WARNING:tensorflow:Early stopping conditioned on metric `val_accuracy` which is not available. Available metrics are: loss,main_loss,aux1_loss,aux2_loss,main_accuracy,aux1_accuracy,aux2_accuracy\n"
     ]
    },
    {
     "name": "stdout",
     "output_type": "stream",
     "text": [
      "81/81 [==============================] - 66s 808ms/step - loss: 0.0036 - main_loss: 0.0016 - aux1_loss: 0.0038 - aux2_loss: 0.0030 - main_accuracy: 0.9996 - aux1_accuracy: 0.9988 - aux2_accuracy: 0.9996\n",
      "Epoch 13/30\n",
      "81/81 [==============================] - ETA: 0s - loss: 0.0085 - main_loss: 0.0058 - aux1_loss: 0.0040 - aux2_loss: 0.0049 - main_accuracy: 0.9973 - aux1_accuracy: 0.9988 - aux2_accuracy: 0.9977WARNING:tensorflow:Can save best model only with val_accuracy available, skipping.\n"
     ]
    },
    {
     "name": "stderr",
     "output_type": "stream",
     "text": [
      "WARNING:tensorflow:Can save best model only with val_accuracy available, skipping.\n"
     ]
    },
    {
     "name": "stdout",
     "output_type": "stream",
     "text": [
      "WARNING:tensorflow:Early stopping conditioned on metric `val_accuracy` which is not available. Available metrics are: loss,main_loss,aux1_loss,aux2_loss,main_accuracy,aux1_accuracy,aux2_accuracy\n"
     ]
    },
    {
     "name": "stderr",
     "output_type": "stream",
     "text": [
      "WARNING:tensorflow:Early stopping conditioned on metric `val_accuracy` which is not available. Available metrics are: loss,main_loss,aux1_loss,aux2_loss,main_accuracy,aux1_accuracy,aux2_accuracy\n"
     ]
    },
    {
     "name": "stdout",
     "output_type": "stream",
     "text": [
      "81/81 [==============================] - 66s 814ms/step - loss: 0.0085 - main_loss: 0.0058 - aux1_loss: 0.0040 - aux2_loss: 0.0049 - main_accuracy: 0.9973 - aux1_accuracy: 0.9988 - aux2_accuracy: 0.9977\n",
      "Epoch 14/30\n",
      "81/81 [==============================] - ETA: 0s - loss: 0.0056 - main_loss: 0.0033 - aux1_loss: 0.0046 - aux2_loss: 0.0029 - main_accuracy: 0.9988 - aux1_accuracy: 0.9981 - aux2_accuracy: 0.9992WARNING:tensorflow:Can save best model only with val_accuracy available, skipping.\n"
     ]
    },
    {
     "name": "stderr",
     "output_type": "stream",
     "text": [
      "WARNING:tensorflow:Can save best model only with val_accuracy available, skipping.\n"
     ]
    },
    {
     "name": "stdout",
     "output_type": "stream",
     "text": [
      "WARNING:tensorflow:Early stopping conditioned on metric `val_accuracy` which is not available. Available metrics are: loss,main_loss,aux1_loss,aux2_loss,main_accuracy,aux1_accuracy,aux2_accuracy\n"
     ]
    },
    {
     "name": "stderr",
     "output_type": "stream",
     "text": [
      "WARNING:tensorflow:Early stopping conditioned on metric `val_accuracy` which is not available. Available metrics are: loss,main_loss,aux1_loss,aux2_loss,main_accuracy,aux1_accuracy,aux2_accuracy\n"
     ]
    },
    {
     "name": "stdout",
     "output_type": "stream",
     "text": [
      "81/81 [==============================] - 65s 806ms/step - loss: 0.0056 - main_loss: 0.0033 - aux1_loss: 0.0046 - aux2_loss: 0.0029 - main_accuracy: 0.9988 - aux1_accuracy: 0.9981 - aux2_accuracy: 0.9992\n",
      "Epoch 15/30\n",
      "81/81 [==============================] - ETA: 0s - loss: 0.0058 - main_loss: 0.0037 - aux1_loss: 0.0031 - aux2_loss: 0.0039 - main_accuracy: 0.9988 - aux1_accuracy: 0.9984 - aux2_accuracy: 0.9988WARNING:tensorflow:Can save best model only with val_accuracy available, skipping.\n"
     ]
    },
    {
     "name": "stderr",
     "output_type": "stream",
     "text": [
      "WARNING:tensorflow:Can save best model only with val_accuracy available, skipping.\n"
     ]
    },
    {
     "name": "stdout",
     "output_type": "stream",
     "text": [
      "WARNING:tensorflow:Early stopping conditioned on metric `val_accuracy` which is not available. Available metrics are: loss,main_loss,aux1_loss,aux2_loss,main_accuracy,aux1_accuracy,aux2_accuracy\n"
     ]
    },
    {
     "name": "stderr",
     "output_type": "stream",
     "text": [
      "WARNING:tensorflow:Early stopping conditioned on metric `val_accuracy` which is not available. Available metrics are: loss,main_loss,aux1_loss,aux2_loss,main_accuracy,aux1_accuracy,aux2_accuracy\n"
     ]
    },
    {
     "name": "stdout",
     "output_type": "stream",
     "text": [
      "81/81 [==============================] - 66s 812ms/step - loss: 0.0058 - main_loss: 0.0037 - aux1_loss: 0.0031 - aux2_loss: 0.0039 - main_accuracy: 0.9988 - aux1_accuracy: 0.9984 - aux2_accuracy: 0.9988\n",
      "Epoch 16/30\n",
      "81/81 [==============================] - ETA: 0s - loss: 0.0098 - main_loss: 0.0053 - aux1_loss: 0.0086 - aux2_loss: 0.0065 - main_accuracy: 0.9977 - aux1_accuracy: 0.9977 - aux2_accuracy: 0.9973WARNING:tensorflow:Can save best model only with val_accuracy available, skipping.\n"
     ]
    },
    {
     "name": "stderr",
     "output_type": "stream",
     "text": [
      "WARNING:tensorflow:Can save best model only with val_accuracy available, skipping.\n"
     ]
    },
    {
     "name": "stdout",
     "output_type": "stream",
     "text": [
      "WARNING:tensorflow:Early stopping conditioned on metric `val_accuracy` which is not available. Available metrics are: loss,main_loss,aux1_loss,aux2_loss,main_accuracy,aux1_accuracy,aux2_accuracy\n"
     ]
    },
    {
     "name": "stderr",
     "output_type": "stream",
     "text": [
      "WARNING:tensorflow:Early stopping conditioned on metric `val_accuracy` which is not available. Available metrics are: loss,main_loss,aux1_loss,aux2_loss,main_accuracy,aux1_accuracy,aux2_accuracy\n"
     ]
    },
    {
     "name": "stdout",
     "output_type": "stream",
     "text": [
      "81/81 [==============================] - 66s 812ms/step - loss: 0.0098 - main_loss: 0.0053 - aux1_loss: 0.0086 - aux2_loss: 0.0065 - main_accuracy: 0.9977 - aux1_accuracy: 0.9977 - aux2_accuracy: 0.9973\n",
      "Epoch 17/30\n",
      "81/81 [==============================] - ETA: 0s - loss: 0.0048 - main_loss: 0.0019 - aux1_loss: 0.0053 - aux2_loss: 0.0040 - main_accuracy: 0.9984 - aux1_accuracy: 0.9973 - aux2_accuracy: 0.9981WARNING:tensorflow:Can save best model only with val_accuracy available, skipping.\n"
     ]
    },
    {
     "name": "stderr",
     "output_type": "stream",
     "text": [
      "WARNING:tensorflow:Can save best model only with val_accuracy available, skipping.\n"
     ]
    },
    {
     "name": "stdout",
     "output_type": "stream",
     "text": [
      "WARNING:tensorflow:Early stopping conditioned on metric `val_accuracy` which is not available. Available metrics are: loss,main_loss,aux1_loss,aux2_loss,main_accuracy,aux1_accuracy,aux2_accuracy\n"
     ]
    },
    {
     "name": "stderr",
     "output_type": "stream",
     "text": [
      "WARNING:tensorflow:Early stopping conditioned on metric `val_accuracy` which is not available. Available metrics are: loss,main_loss,aux1_loss,aux2_loss,main_accuracy,aux1_accuracy,aux2_accuracy\n"
     ]
    },
    {
     "name": "stdout",
     "output_type": "stream",
     "text": [
      "81/81 [==============================] - 66s 811ms/step - loss: 0.0048 - main_loss: 0.0019 - aux1_loss: 0.0053 - aux2_loss: 0.0040 - main_accuracy: 0.9984 - aux1_accuracy: 0.9973 - aux2_accuracy: 0.9981\n",
      "Epoch 18/30\n",
      "81/81 [==============================] - ETA: 0s - loss: 0.0047 - main_loss: 0.0021 - aux1_loss: 0.0052 - aux2_loss: 0.0035 - main_accuracy: 0.9996 - aux1_accuracy: 0.9988 - aux2_accuracy: 0.9988WARNING:tensorflow:Can save best model only with val_accuracy available, skipping.\n"
     ]
    },
    {
     "name": "stderr",
     "output_type": "stream",
     "text": [
      "WARNING:tensorflow:Can save best model only with val_accuracy available, skipping.\n"
     ]
    },
    {
     "name": "stdout",
     "output_type": "stream",
     "text": [
      "WARNING:tensorflow:Early stopping conditioned on metric `val_accuracy` which is not available. Available metrics are: loss,main_loss,aux1_loss,aux2_loss,main_accuracy,aux1_accuracy,aux2_accuracy\n"
     ]
    },
    {
     "name": "stderr",
     "output_type": "stream",
     "text": [
      "WARNING:tensorflow:Early stopping conditioned on metric `val_accuracy` which is not available. Available metrics are: loss,main_loss,aux1_loss,aux2_loss,main_accuracy,aux1_accuracy,aux2_accuracy\n"
     ]
    },
    {
     "name": "stdout",
     "output_type": "stream",
     "text": [
      "81/81 [==============================] - 66s 812ms/step - loss: 0.0047 - main_loss: 0.0021 - aux1_loss: 0.0052 - aux2_loss: 0.0035 - main_accuracy: 0.9996 - aux1_accuracy: 0.9988 - aux2_accuracy: 0.9988\n",
      "Epoch 19/30\n",
      "81/81 [==============================] - ETA: 0s - loss: 0.0044 - main_loss: 0.0023 - aux1_loss: 0.0040 - aux2_loss: 0.0029 - main_accuracy: 0.9996 - aux1_accuracy: 0.9984 - aux2_accuracy: 0.9988WARNING:tensorflow:Can save best model only with val_accuracy available, skipping.\n"
     ]
    },
    {
     "name": "stderr",
     "output_type": "stream",
     "text": [
      "WARNING:tensorflow:Can save best model only with val_accuracy available, skipping.\n"
     ]
    },
    {
     "name": "stdout",
     "output_type": "stream",
     "text": [
      "WARNING:tensorflow:Early stopping conditioned on metric `val_accuracy` which is not available. Available metrics are: loss,main_loss,aux1_loss,aux2_loss,main_accuracy,aux1_accuracy,aux2_accuracy\n"
     ]
    },
    {
     "name": "stderr",
     "output_type": "stream",
     "text": [
      "WARNING:tensorflow:Early stopping conditioned on metric `val_accuracy` which is not available. Available metrics are: loss,main_loss,aux1_loss,aux2_loss,main_accuracy,aux1_accuracy,aux2_accuracy\n"
     ]
    },
    {
     "name": "stdout",
     "output_type": "stream",
     "text": [
      "81/81 [==============================] - 66s 809ms/step - loss: 0.0044 - main_loss: 0.0023 - aux1_loss: 0.0040 - aux2_loss: 0.0029 - main_accuracy: 0.9996 - aux1_accuracy: 0.9984 - aux2_accuracy: 0.9988\n",
      "Epoch 20/30\n",
      "81/81 [==============================] - ETA: 0s - loss: 0.0019 - main_loss: 8.9262e-04 - aux1_loss: 0.0019 - aux2_loss: 0.0015 - main_accuracy: 1.0000 - aux1_accuracy: 0.9996 - aux2_accuracy: 1.0000WARNING:tensorflow:Can save best model only with val_accuracy available, skipping.\n"
     ]
    },
    {
     "name": "stderr",
     "output_type": "stream",
     "text": [
      "WARNING:tensorflow:Can save best model only with val_accuracy available, skipping.\n"
     ]
    },
    {
     "name": "stdout",
     "output_type": "stream",
     "text": [
      "WARNING:tensorflow:Early stopping conditioned on metric `val_accuracy` which is not available. Available metrics are: loss,main_loss,aux1_loss,aux2_loss,main_accuracy,aux1_accuracy,aux2_accuracy\n"
     ]
    },
    {
     "name": "stderr",
     "output_type": "stream",
     "text": [
      "WARNING:tensorflow:Early stopping conditioned on metric `val_accuracy` which is not available. Available metrics are: loss,main_loss,aux1_loss,aux2_loss,main_accuracy,aux1_accuracy,aux2_accuracy\n"
     ]
    },
    {
     "name": "stdout",
     "output_type": "stream",
     "text": [
      "81/81 [==============================] - 66s 820ms/step - loss: 0.0019 - main_loss: 8.9262e-04 - aux1_loss: 0.0019 - aux2_loss: 0.0015 - main_accuracy: 1.0000 - aux1_accuracy: 0.9996 - aux2_accuracy: 1.0000\n",
      "Epoch 21/30\n",
      "81/81 [==============================] - ETA: 0s - loss: 0.0028 - main_loss: 0.0016 - aux1_loss: 0.0021 - aux2_loss: 0.0019 - main_accuracy: 0.9996 - aux1_accuracy: 0.9996 - aux2_accuracy: 1.0000WARNING:tensorflow:Can save best model only with val_accuracy available, skipping.\n"
     ]
    },
    {
     "name": "stderr",
     "output_type": "stream",
     "text": [
      "WARNING:tensorflow:Can save best model only with val_accuracy available, skipping.\n"
     ]
    },
    {
     "name": "stdout",
     "output_type": "stream",
     "text": [
      "WARNING:tensorflow:Early stopping conditioned on metric `val_accuracy` which is not available. Available metrics are: loss,main_loss,aux1_loss,aux2_loss,main_accuracy,aux1_accuracy,aux2_accuracy\n"
     ]
    },
    {
     "name": "stderr",
     "output_type": "stream",
     "text": [
      "WARNING:tensorflow:Early stopping conditioned on metric `val_accuracy` which is not available. Available metrics are: loss,main_loss,aux1_loss,aux2_loss,main_accuracy,aux1_accuracy,aux2_accuracy\n"
     ]
    },
    {
     "name": "stdout",
     "output_type": "stream",
     "text": [
      "81/81 [==============================] - 66s 807ms/step - loss: 0.0028 - main_loss: 0.0016 - aux1_loss: 0.0021 - aux2_loss: 0.0019 - main_accuracy: 0.9996 - aux1_accuracy: 0.9996 - aux2_accuracy: 1.0000\n",
      "Epoch 22/30\n",
      "81/81 [==============================] - ETA: 0s - loss: 0.0030 - main_loss: 0.0014 - aux1_loss: 0.0032 - aux2_loss: 0.0022 - main_accuracy: 1.0000 - aux1_accuracy: 0.9988 - aux2_accuracy: 0.9996WARNING:tensorflow:Can save best model only with val_accuracy available, skipping.\n"
     ]
    },
    {
     "name": "stderr",
     "output_type": "stream",
     "text": [
      "WARNING:tensorflow:Can save best model only with val_accuracy available, skipping.\n"
     ]
    },
    {
     "name": "stdout",
     "output_type": "stream",
     "text": [
      "WARNING:tensorflow:Early stopping conditioned on metric `val_accuracy` which is not available. Available metrics are: loss,main_loss,aux1_loss,aux2_loss,main_accuracy,aux1_accuracy,aux2_accuracy\n"
     ]
    },
    {
     "name": "stderr",
     "output_type": "stream",
     "text": [
      "WARNING:tensorflow:Early stopping conditioned on metric `val_accuracy` which is not available. Available metrics are: loss,main_loss,aux1_loss,aux2_loss,main_accuracy,aux1_accuracy,aux2_accuracy\n"
     ]
    },
    {
     "name": "stdout",
     "output_type": "stream",
     "text": [
      "81/81 [==============================] - 66s 808ms/step - loss: 0.0030 - main_loss: 0.0014 - aux1_loss: 0.0032 - aux2_loss: 0.0022 - main_accuracy: 1.0000 - aux1_accuracy: 0.9988 - aux2_accuracy: 0.9996\n",
      "Epoch 23/30\n",
      "81/81 [==============================] - ETA: 0s - loss: 0.0060 - main_loss: 0.0034 - aux1_loss: 0.0057 - aux2_loss: 0.0031 - main_accuracy: 0.9988 - aux1_accuracy: 0.9981 - aux2_accuracy: 0.9984WARNING:tensorflow:Can save best model only with val_accuracy available, skipping.\n"
     ]
    },
    {
     "name": "stderr",
     "output_type": "stream",
     "text": [
      "WARNING:tensorflow:Can save best model only with val_accuracy available, skipping.\n"
     ]
    },
    {
     "name": "stdout",
     "output_type": "stream",
     "text": [
      "WARNING:tensorflow:Early stopping conditioned on metric `val_accuracy` which is not available. Available metrics are: loss,main_loss,aux1_loss,aux2_loss,main_accuracy,aux1_accuracy,aux2_accuracy\n"
     ]
    },
    {
     "name": "stderr",
     "output_type": "stream",
     "text": [
      "WARNING:tensorflow:Early stopping conditioned on metric `val_accuracy` which is not available. Available metrics are: loss,main_loss,aux1_loss,aux2_loss,main_accuracy,aux1_accuracy,aux2_accuracy\n"
     ]
    },
    {
     "name": "stdout",
     "output_type": "stream",
     "text": [
      "81/81 [==============================] - 65s 807ms/step - loss: 0.0060 - main_loss: 0.0034 - aux1_loss: 0.0057 - aux2_loss: 0.0031 - main_accuracy: 0.9988 - aux1_accuracy: 0.9981 - aux2_accuracy: 0.9984\n",
      "Epoch 24/30\n",
      "81/81 [==============================] - ETA: 0s - loss: 0.0014 - main_loss: 5.7961e-04 - aux1_loss: 0.0018 - aux2_loss: 0.0010 - main_accuracy: 1.0000 - aux1_accuracy: 1.0000 - aux2_accuracy: 1.0000WARNING:tensorflow:Can save best model only with val_accuracy available, skipping.\n"
     ]
    },
    {
     "name": "stderr",
     "output_type": "stream",
     "text": [
      "WARNING:tensorflow:Can save best model only with val_accuracy available, skipping.\n"
     ]
    },
    {
     "name": "stdout",
     "output_type": "stream",
     "text": [
      "WARNING:tensorflow:Early stopping conditioned on metric `val_accuracy` which is not available. Available metrics are: loss,main_loss,aux1_loss,aux2_loss,main_accuracy,aux1_accuracy,aux2_accuracy\n"
     ]
    },
    {
     "name": "stderr",
     "output_type": "stream",
     "text": [
      "WARNING:tensorflow:Early stopping conditioned on metric `val_accuracy` which is not available. Available metrics are: loss,main_loss,aux1_loss,aux2_loss,main_accuracy,aux1_accuracy,aux2_accuracy\n"
     ]
    },
    {
     "name": "stdout",
     "output_type": "stream",
     "text": [
      "81/81 [==============================] - 66s 820ms/step - loss: 0.0014 - main_loss: 5.7961e-04 - aux1_loss: 0.0018 - aux2_loss: 0.0010 - main_accuracy: 1.0000 - aux1_accuracy: 1.0000 - aux2_accuracy: 1.0000\n",
      "Epoch 25/30\n",
      "81/81 [==============================] - ETA: 0s - loss: 0.0032 - main_loss: 0.0018 - aux1_loss: 0.0022 - aux2_loss: 0.0027 - main_accuracy: 0.9992 - aux1_accuracy: 0.9992 - aux2_accuracy: 0.9992WARNING:tensorflow:Can save best model only with val_accuracy available, skipping.\n"
     ]
    },
    {
     "name": "stderr",
     "output_type": "stream",
     "text": [
      "WARNING:tensorflow:Can save best model only with val_accuracy available, skipping.\n"
     ]
    },
    {
     "name": "stdout",
     "output_type": "stream",
     "text": [
      "WARNING:tensorflow:Early stopping conditioned on metric `val_accuracy` which is not available. Available metrics are: loss,main_loss,aux1_loss,aux2_loss,main_accuracy,aux1_accuracy,aux2_accuracy\n"
     ]
    },
    {
     "name": "stderr",
     "output_type": "stream",
     "text": [
      "WARNING:tensorflow:Early stopping conditioned on metric `val_accuracy` which is not available. Available metrics are: loss,main_loss,aux1_loss,aux2_loss,main_accuracy,aux1_accuracy,aux2_accuracy\n"
     ]
    },
    {
     "name": "stdout",
     "output_type": "stream",
     "text": [
      "81/81 [==============================] - 66s 812ms/step - loss: 0.0032 - main_loss: 0.0018 - aux1_loss: 0.0022 - aux2_loss: 0.0027 - main_accuracy: 0.9992 - aux1_accuracy: 0.9992 - aux2_accuracy: 0.9992\n",
      "Epoch 26/30\n",
      "81/81 [==============================] - ETA: 0s - loss: 0.0023 - main_loss: 0.0012 - aux1_loss: 0.0019 - aux2_loss: 0.0018 - main_accuracy: 0.9996 - aux1_accuracy: 0.9996 - aux2_accuracy: 0.9996WARNING:tensorflow:Can save best model only with val_accuracy available, skipping.\n"
     ]
    },
    {
     "name": "stderr",
     "output_type": "stream",
     "text": [
      "WARNING:tensorflow:Can save best model only with val_accuracy available, skipping.\n"
     ]
    },
    {
     "name": "stdout",
     "output_type": "stream",
     "text": [
      "WARNING:tensorflow:Early stopping conditioned on metric `val_accuracy` which is not available. Available metrics are: loss,main_loss,aux1_loss,aux2_loss,main_accuracy,aux1_accuracy,aux2_accuracy\n"
     ]
    },
    {
     "name": "stderr",
     "output_type": "stream",
     "text": [
      "WARNING:tensorflow:Early stopping conditioned on metric `val_accuracy` which is not available. Available metrics are: loss,main_loss,aux1_loss,aux2_loss,main_accuracy,aux1_accuracy,aux2_accuracy\n"
     ]
    },
    {
     "name": "stdout",
     "output_type": "stream",
     "text": [
      "81/81 [==============================] - 66s 813ms/step - loss: 0.0023 - main_loss: 0.0012 - aux1_loss: 0.0019 - aux2_loss: 0.0018 - main_accuracy: 0.9996 - aux1_accuracy: 0.9996 - aux2_accuracy: 0.9996\n",
      "Epoch 27/30\n",
      "81/81 [==============================] - ETA: 0s - loss: 0.0014 - main_loss: 4.1364e-04 - aux1_loss: 0.0015 - aux2_loss: 0.0018 - main_accuracy: 1.0000 - aux1_accuracy: 1.0000 - aux2_accuracy: 0.9996WARNING:tensorflow:Can save best model only with val_accuracy available, skipping.\n"
     ]
    },
    {
     "name": "stderr",
     "output_type": "stream",
     "text": [
      "WARNING:tensorflow:Can save best model only with val_accuracy available, skipping.\n"
     ]
    },
    {
     "name": "stdout",
     "output_type": "stream",
     "text": [
      "WARNING:tensorflow:Early stopping conditioned on metric `val_accuracy` which is not available. Available metrics are: loss,main_loss,aux1_loss,aux2_loss,main_accuracy,aux1_accuracy,aux2_accuracy\n"
     ]
    },
    {
     "name": "stderr",
     "output_type": "stream",
     "text": [
      "WARNING:tensorflow:Early stopping conditioned on metric `val_accuracy` which is not available. Available metrics are: loss,main_loss,aux1_loss,aux2_loss,main_accuracy,aux1_accuracy,aux2_accuracy\n"
     ]
    },
    {
     "name": "stdout",
     "output_type": "stream",
     "text": [
      "81/81 [==============================] - 66s 807ms/step - loss: 0.0014 - main_loss: 4.1364e-04 - aux1_loss: 0.0015 - aux2_loss: 0.0018 - main_accuracy: 1.0000 - aux1_accuracy: 1.0000 - aux2_accuracy: 0.9996\n",
      "Epoch 28/30\n",
      "81/81 [==============================] - ETA: 0s - loss: 0.0028 - main_loss: 0.0012 - aux1_loss: 0.0026 - aux2_loss: 0.0026 - main_accuracy: 0.9992 - aux1_accuracy: 0.9992 - aux2_accuracy: 0.9992WARNING:tensorflow:Can save best model only with val_accuracy available, skipping.\n"
     ]
    },
    {
     "name": "stderr",
     "output_type": "stream",
     "text": [
      "WARNING:tensorflow:Can save best model only with val_accuracy available, skipping.\n"
     ]
    },
    {
     "name": "stdout",
     "output_type": "stream",
     "text": [
      "WARNING:tensorflow:Early stopping conditioned on metric `val_accuracy` which is not available. Available metrics are: loss,main_loss,aux1_loss,aux2_loss,main_accuracy,aux1_accuracy,aux2_accuracy\n"
     ]
    },
    {
     "name": "stderr",
     "output_type": "stream",
     "text": [
      "WARNING:tensorflow:Early stopping conditioned on metric `val_accuracy` which is not available. Available metrics are: loss,main_loss,aux1_loss,aux2_loss,main_accuracy,aux1_accuracy,aux2_accuracy\n"
     ]
    },
    {
     "name": "stdout",
     "output_type": "stream",
     "text": [
      "81/81 [==============================] - 66s 811ms/step - loss: 0.0028 - main_loss: 0.0012 - aux1_loss: 0.0026 - aux2_loss: 0.0026 - main_accuracy: 0.9992 - aux1_accuracy: 0.9992 - aux2_accuracy: 0.9992\n",
      "Epoch 29/30\n",
      "81/81 [==============================] - ETA: 0s - loss: 0.0016 - main_loss: 5.9649e-04 - aux1_loss: 0.0019 - aux2_loss: 0.0014 - main_accuracy: 1.0000 - aux1_accuracy: 0.9996 - aux2_accuracy: 1.0000WARNING:tensorflow:Can save best model only with val_accuracy available, skipping.\n"
     ]
    },
    {
     "name": "stderr",
     "output_type": "stream",
     "text": [
      "WARNING:tensorflow:Can save best model only with val_accuracy available, skipping.\n"
     ]
    },
    {
     "name": "stdout",
     "output_type": "stream",
     "text": [
      "WARNING:tensorflow:Early stopping conditioned on metric `val_accuracy` which is not available. Available metrics are: loss,main_loss,aux1_loss,aux2_loss,main_accuracy,aux1_accuracy,aux2_accuracy\n"
     ]
    },
    {
     "name": "stderr",
     "output_type": "stream",
     "text": [
      "WARNING:tensorflow:Early stopping conditioned on metric `val_accuracy` which is not available. Available metrics are: loss,main_loss,aux1_loss,aux2_loss,main_accuracy,aux1_accuracy,aux2_accuracy\n"
     ]
    },
    {
     "name": "stdout",
     "output_type": "stream",
     "text": [
      "81/81 [==============================] - 66s 811ms/step - loss: 0.0016 - main_loss: 5.9649e-04 - aux1_loss: 0.0019 - aux2_loss: 0.0014 - main_accuracy: 1.0000 - aux1_accuracy: 0.9996 - aux2_accuracy: 1.0000\n",
      "Epoch 30/30\n",
      "81/81 [==============================] - ETA: 0s - loss: 0.0033 - main_loss: 0.0019 - aux1_loss: 0.0024 - aux2_loss: 0.0024 - main_accuracy: 0.9996 - aux1_accuracy: 0.9992 - aux2_accuracy: 0.9988 WARNING:tensorflow:Can save best model only with val_accuracy available, skipping.\n"
     ]
    },
    {
     "name": "stderr",
     "output_type": "stream",
     "text": [
      "WARNING:tensorflow:Can save best model only with val_accuracy available, skipping.\n"
     ]
    },
    {
     "name": "stdout",
     "output_type": "stream",
     "text": [
      "WARNING:tensorflow:Early stopping conditioned on metric `val_accuracy` which is not available. Available metrics are: loss,main_loss,aux1_loss,aux2_loss,main_accuracy,aux1_accuracy,aux2_accuracy\n"
     ]
    },
    {
     "name": "stderr",
     "output_type": "stream",
     "text": [
      "WARNING:tensorflow:Early stopping conditioned on metric `val_accuracy` which is not available. Available metrics are: loss,main_loss,aux1_loss,aux2_loss,main_accuracy,aux1_accuracy,aux2_accuracy\n"
     ]
    },
    {
     "name": "stdout",
     "output_type": "stream",
     "text": [
      "81/81 [==============================] - 65s 806ms/step - loss: 0.0033 - main_loss: 0.0019 - aux1_loss: 0.0024 - aux2_loss: 0.0024 - main_accuracy: 0.9996 - aux1_accuracy: 0.9992 - aux2_accuracy: 0.9988\n"
     ]
    },
    {
     "data": {
      "image/png": "[encoded data removed]",
      "text/plain": [
       "<Figure size 640x480 with 1 Axes>"
      ]
     },
     "metadata": {},
     "output_type": "display_data"
    },
    {
     "data": {
      "image/png": "[encoded data removed]",
      "text/plain": [
       "<Figure size 640x480 with 1 Axes>"
      ]
     },
     "metadata": {},
     "output_type": "display_data"
    }
   ],
   "source": [
    "\n",
    "\n",
    "import os\n",
    "import numpy as np\n",
    "import tensorflow as tf\n",
    "import matplotlib.pyplot as plt\n",
    "from tensorflow.keras import regularizers\n",
    "from tensorflow.keras.models import Sequential, Model\n",
    "from tensorflow.keras.layers import Input, Flatten, Dense, Dropout, BatchNormalization\n",
    "from tensorflow.keras.layers import Conv2D, MaxPooling2D, AveragePooling2D, ZeroPadding2D\n",
    "from tensorflow.keras.layers import Concatenate\n",
    "from tensorflow.keras.preprocessing.image import ImageDataGenerator\n",
    "from tensorflow.keras.optimizers import Adam, SGD\n",
    "IMAGE_SHAPE = (300, 300, 3)\n",
    "CLASS_NUM = 2\n",
    "BATCH_SIZE = 16\n",
    "EPOCH_STEPS = int(4323/BATCH_SIZE)\n",
    "\n",
    "\n",
    "MODEL_NAME = 'googlenet_flower.h5'\n",
    "generator_main = train_datagen.flow_from_directory(\n",
    "    '/work/networks/sriram88/DATA',\n",
    "    target_size=(IMAGE_SHAPE[0], IMAGE_SHAPE[1]),\n",
    "    batch_size=BATCH_SIZE,\n",
    "    class_mode='categorical'\n",
    ")\n",
    "\n",
    "def my_generator(generator):\n",
    "    while True: # keras requires all generators to be infinite\n",
    "        data = next(generator)\n",
    "        x = data[0]\n",
    "        y = data[1], data[1], data[1]\n",
    "        yield x, y\n",
    "\n",
    "train_generator = my_generator(generator_main)\n",
    "\n",
    "# create model\n",
    "def inception(x, filters):\n",
    "    # 1x1\n",
    "    path1 = Conv2D(filters=filters[0], kernel_size=(1,1), strides=1, padding='same', activation='relu')(x)\n",
    "\n",
    "    # 1x1->3x3\n",
    "    path2 = Conv2D(filters=filters[1][0], kernel_size=(1,1), strides=1, padding='same', activation='relu')(x)\n",
    "    path2 = Conv2D(filters=filters[1][1], kernel_size=(3,3), strides=1, padding='same', activation='relu')(path2)\n",
    "    \n",
    "    # 1x1->5x5\n",
    "    path3 = Conv2D(filters=filters[2][0], kernel_size=(1,1), strides=1, padding='same', activation='relu')(x)\n",
    "    path3 = Conv2D(filters=filters[2][1], kernel_size=(5,5), strides=1, padding='same', activation='relu')(path3)\n",
    "\n",
    "    # 3x3->1x1\n",
    "    path4 = MaxPooling2D(pool_size=(3,3), strides=1, padding='same')(x)\n",
    "    path4 = Conv2D(filters=filters[3], kernel_size=(1,1), strides=1, padding='same', activation='relu')(path4)\n",
    "\n",
    "    return Concatenate(axis=-1)([path1,path2,path3,path4])\n",
    "\n",
    "\n",
    "def auxiliary(x, name=None):\n",
    "    layer = AveragePooling2D(pool_size=(5,5), strides=3, padding='valid')(x)\n",
    "    layer = Conv2D(filters=128, kernel_size=(1,1), strides=1, padding='same', activation='relu')(layer)\n",
    "    layer = Flatten()(layer)\n",
    "    layer = Dense(units=256, activation='relu')(layer)\n",
    "    layer = Dropout(0.4)(layer)\n",
    "    layer = Dense(units=CLASS_NUM, activation='softmax', name=name)(layer)\n",
    "    return layer\n",
    "\n",
    "\n",
    "def googlenet():\n",
    "    layer_in = Input(shape=IMAGE_SHAPE)\n",
    "    \n",
    "    # stage-1\n",
    "    layer = Conv2D(filters=64, kernel_size=(7,7), strides=2, padding='same', activation='relu')(layer_in)\n",
    "    layer = MaxPooling2D(pool_size=(3,3), strides=2, padding='same')(layer)\n",
    "    layer = BatchNormalization()(layer)\n",
    "\n",
    "    # stage-2\n",
    "    layer = Conv2D(filters=64, kernel_size=(1,1), strides=1, padding='same', activation='relu')(layer)\n",
    "    layer = Conv2D(filters=192, kernel_size=(3,3), strides=1, padding='same', activation='relu')(layer)\n",
    "    layer = BatchNormalization()(layer)\n",
    "    layer = MaxPooling2D(pool_size=(3,3), strides=2, padding='same')(layer)\n",
    "\n",
    "    # stage-3\n",
    "    layer = inception(layer, [ 64,  (96,128), (16,32), 32]) #3a\n",
    "    layer = inception(layer, [128, (128,192), (32,96), 64]) #3b\n",
    "    layer = MaxPooling2D(pool_size=(3,3), strides=2, padding='same')(layer)\n",
    "    \n",
    "    # stage-4\n",
    "    layer = inception(layer, [192,  (96,208),  (16,48),  64]) #4a\n",
    "    aux1  = auxiliary(layer, name='aux1')\n",
    "    layer = inception(layer, [160, (112,224),  (24,64),  64]) #4b\n",
    "    layer = inception(layer, [128, (128,256),  (24,64),  64]) #4c\n",
    "    layer = inception(layer, [112, (144,288),  (32,64),  64]) #4d\n",
    "    aux2  = auxiliary(layer, name='aux2')\n",
    "    layer = inception(layer, [256, (160,320), (32,128), 128]) #4e\n",
    "    layer = MaxPooling2D(pool_size=(3,3), strides=2, padding='same')(layer)\n",
    "    \n",
    "    # stage-5\n",
    "    layer = inception(layer, [256, (160,320), (32,128), 128]) #5a\n",
    "    layer = inception(layer, [384, (192,384), (48,128), 128]) #5b\n",
    "    layer = AveragePooling2D(pool_size=(7,7), strides=1, padding='valid')(layer)\n",
    "    \n",
    "    # stage-6\n",
    "    layer = Flatten()(layer)\n",
    "    layer = Dropout(0.4)(layer)\n",
    "    layer = Dense(units=256, activation='linear')(layer)\n",
    "    main = Dense(units=CLASS_NUM, activation='softmax', name='main')(layer)\n",
    "    \n",
    "    model = Model(inputs=layer_in, outputs=[main, aux1, aux2])\n",
    "    \n",
    "    return model\n",
    "\n",
    "\n",
    "# train model\n",
    "model = googlenet()\n",
    "# model.summary()\n",
    "#model.load_weights(MODEL_NAME)\n",
    "#tf.keras.utils.plot_model(model, 'GoogLeNet.png')\n",
    "\n",
    "#optimizer = Adam(lr=2 * 1e-3, beta_1=0.9, beta_2=0.999, epsilon=1e-08)\n",
    "#optimizer = SGD(lr=1 * 1e-1, momentum=0.9, nesterov=True)\n",
    "#model.compile(loss='categorical_crossentropy', optimizer=optimizer, metrics=['accuracy'])\n",
    "#model.compile(loss='categorical_crossentropy', optimizer='Adam', metrics=['accuracy'])\n",
    "\n",
    "optimizer = ['Adam', 'SGD', 'Adam', 'SGD']\n",
    "epochs = [20, 30, 20, 30]\n",
    "history_all = {}\n",
    "checkpoint = ModelCheckpoint(\"googlenet.h5\", monitor='val_accuracy', verbose=1, save_best_only=True, save_weights_only=False, mode='auto', period=1)\n",
    "early = EarlyStopping(monitor='val_accuracy', min_delta=0, patience=20, verbose=1, mode='auto')\n",
    "for i in range(len(optimizer)):\n",
    "    print('Using optimizer: ' + optimizer[i] + ', Epoch: ' + str(epochs[i]))\n",
    "    \n",
    "    model.compile(loss='categorical_crossentropy', \n",
    "                  loss_weights={'main': 1.0, 'aux1': 0.3, 'aux2': 0.3},\n",
    "                  optimizer=optimizer[i], metrics=['accuracy'])\n",
    "    \n",
    "    train_history = model.fit_generator(\n",
    "            training_set,\n",
    "            steps_per_epoch=len(training_set),\n",
    "            epochs=epochs[i],\n",
    "            #callbacks=[checkpoint]\n",
    "            callbacks=[checkpoint,early],\n",
    "            shuffle=True\n",
    "            )\n",
    "    \n",
    "    # save history    \n",
    "    if len(history_all) == 0:\n",
    "        history_all = {key: [] for key in train_history.history}\n",
    "    \n",
    "    for key in history_all:\n",
    "        history_all[key].extend(train_history.history[key])\n",
    "\n",
    "model.save(MODEL_NAME)\n",
    "\n",
    "# show train history\n",
    "def show_train_history(history, xlabel, ylabel, train):\n",
    "    for item in train:\n",
    "        plt.plot(history[item])\n",
    "    plt.title('Train History')\n",
    "    plt.xlabel(xlabel)\n",
    "    plt.ylabel(ylabel)\n",
    "    plt.legend(train, loc='upper left')\n",
    "    plt.show()\n",
    "\n",
    "show_train_history(history_all, 'Epoch', 'Accuracy', ('main_accuracy', 'aux1_accuracy', 'aux2_accuracy'))\n",
    "show_train_history(history_all, 'Epoch', 'Loss', ('main_loss', 'aux1_loss', 'aux2_loss'))\n"
   ]
  },
  {
   "cell_type": "code",
   "execution_count": 25,
   "id": "623b08b0-e7a5-4f38-b5b3-fd6728ebfe94",
   "metadata": {},
   "outputs": [
    {
     "data": {
      "image/png": "[encoded data removed]",
      "text/plain": [
       "<Figure size 640x480 with 1 Axes>"
      ]
     },
     "metadata": {},
     "output_type": "display_data"
    },
    {
     "data": {
      "image/png": "[encoded data removed]",
      "text/plain": [
       "<Figure size 640x480 with 1 Axes>"
      ]
     },
     "metadata": {},
     "output_type": "display_data"
    }
   ],
   "source": [
    "def show_train_history(history, xlabel, ylabel, train):\n",
    "    for item in train:\n",
    "        plt.plot(history[item])\n",
    "    plt.title('Train History')\n",
    "    plt.xlabel(xlabel)\n",
    "    plt.ylabel(ylabel)\n",
    "    plt.legend(train, loc='upper left')\n",
    "    plt.show()\n",
    "\n",
    "show_train_history(history_all, 'Epoch', 'Accuracy', ('main_accuracy', 'aux1_accuracy', 'aux2_accuracy'))\n",
    "show_train_history(history_all, 'Epoch', 'Loss', ('main_loss', 'aux1_loss', 'aux2_loss'))"
   ]
  },
  {
   "cell_type": "code",
   "execution_count": 20,
   "id": "6f04623a-fcaa-4b5a-bae3-abdc14440adb",
   "metadata": {},
   "outputs": [
    {
     "name": "stdout",
     "output_type": "stream",
     "text": [
      "21/21 [==============================] - 15s 651ms/step - loss: 0.5064 - main_loss: 0.3901 - aux1_loss: 0.2610 - aux2_loss: 0.1265 - main_accuracy: 0.9519 - aux1_accuracy: 0.9425 - aux2_accuracy: 0.9674\n",
      "21/21 [==============================] - 11s 507ms/step\n"
     ]
    },
    {
     "data": {
      "image/png": "[encoded data removed]",
      "text/plain": [
       "<Figure size 640x480 with 1 Axes>"
      ]
     },
     "metadata": {},
     "output_type": "display_data"
    }
   ],
   "source": [
    "from sklearn.metrics import roc_curve\n",
    "from sklearn.metrics import auc\n",
    "from sklearn.metrics import roc_auc_score\n",
    "model.evaluate(validation_set)\n",
    "\n",
    "\n",
    "\n",
    "STEP_SIZE_TEST=validation_set.n//validation_set.batch_size\n",
    "validation_set.reset()\n",
    "preds=model.predict(validation_set)\n",
    "preds\n",
    "\n",
    "plt.rcParams[\"font.weight\"] = \"bold\"\n",
    "plt.rcParams[\"axes.labelweight\"] = \"bold\"\n",
    "plt.figure()\n",
    "lw = 2\n",
    "fpr, tpr, _ = roc_curve(validation_set.classes,  preds[0][:,1])\n",
    "roc_auc = auc(fpr, tpr)\n",
    "plt.plot(fpr, tpr, color='darkorange',\n",
    "lw=lw, label='ROC curve (area = %0.2f)' % roc_auc)\n",
    "\n",
    "plt.plot([0, 1], [0, 1], color='navy', lw=lw, linestyle='--')\n",
    "plt.xlim([0.0, 1.0])\n",
    "plt.ylim([0.0, 1.05])\n",
    "plt.xlabel('False Positive Rate')\n",
    "plt.ylabel('True Positive Rate')\n",
    "plt.title('Receiver operating characteristic for GoogLeNet',fontweight='bold')\n",
    "plt.legend(loc=\"lower right\")\n",
    "plt.savefig('Googlenetroc.png')\n",
    "plt.show()\n"
   ]
  },
  {
   "cell_type": "code",
   "execution_count": 21,
   "id": "a36ce811-f1e0-4dad-bcec-6c89ea496781",
   "metadata": {},
   "outputs": [
    {
     "data": {
      "text/plain": [
       "array([9.64221239e-01, 2.66265143e-02, 9.98910189e-01, 6.02607476e-03,\n",
       "       1.59462672e-06, 7.25496357e-05, 1.79704301e-07, 3.18899538e-07,\n",
       "       4.21853201e-08, 9.05703843e-01, 9.85221446e-01, 9.14787412e-01,\n",
       "       2.91789220e-05, 3.89303965e-03, 9.99523520e-01, 2.38072306e-01,\n",
       "       4.51167762e-06, 1.44572596e-06, 1.93104945e-08, 3.82626183e-07,\n",
       "       1.17480257e-08, 6.56644852e-06, 2.91576242e-07, 1.41680755e-06,\n",
       "       1.85140987e-08, 9.99998569e-01, 1.33042874e-08, 3.34778065e-07,\n",
       "       5.17923809e-07, 8.20765820e-07, 6.20797291e-05, 1.15355470e-09,\n",
       "       7.32437820e-06, 3.01082963e-07, 1.68779096e-07, 2.98300584e-08,\n",
       "       1.31213710e-01, 4.25695325e-05, 5.58649333e-07, 1.59940755e-04,\n",
       "       1.42396107e-06, 4.34410794e-07, 2.43783695e-08, 1.43296637e-08,\n",
       "       3.61442435e-05, 7.88668240e-06, 3.82831649e-06, 7.92233407e-01,\n",
       "       3.59000722e-07, 6.88762384e-06, 1.36837742e-04, 3.40770138e-03,\n",
       "       1.62092596e-02, 8.99840321e-04, 3.38507593e-01, 5.44362843e-01,\n",
       "       3.27049196e-01, 1.01614627e-03, 2.91429320e-03, 5.26038264e-07,\n",
       "       2.40671039e-09, 1.12937107e-06, 2.07144458e-05, 1.94433164e-02,\n",
       "       4.09465050e-03, 9.78469383e-04, 4.86770341e-06, 2.80569820e-05,\n",
       "       6.56429279e-07, 9.99237776e-01, 1.44365785e-07, 6.38948677e-07,\n",
       "       3.61923384e-07, 4.81198949e-05, 3.14994367e-07, 2.75251316e-03,\n",
       "       1.32162313e-05, 3.62697232e-04, 8.33980322e-01, 6.39793158e-01,\n",
       "       9.57493782e-01, 1.28340255e-03, 6.16379380e-01, 2.65923560e-01,\n",
       "       2.49094887e-06, 9.99990463e-01, 7.28070372e-05, 5.64549296e-08,\n",
       "       2.83516049e-02, 1.48173363e-04, 4.16429807e-03, 9.64598119e-01,\n",
       "       2.14097028e-07, 1.05171319e-04, 3.71920429e-02, 3.22776827e-07,\n",
       "       1.35088726e-06, 1.43688494e-05, 7.55807037e-07, 8.17508237e-07,\n",
       "       8.46027248e-08, 5.13904388e-06, 2.36540288e-03, 7.23463131e-07,\n",
       "       7.88222962e-07, 1.47682467e-05, 2.15496220e-06, 1.47022888e-07,\n",
       "       8.71459906e-06, 7.37220347e-08, 7.68867030e-05, 1.21488358e-06,\n",
       "       1.67581436e-06, 9.95998740e-01, 9.82409239e-01, 1.47653793e-07,\n",
       "       1.03699436e-04, 8.86297203e-04, 1.56274671e-03, 1.00508878e-04,\n",
       "       5.09045385e-05, 3.01834708e-03, 2.78902962e-06, 2.03576838e-06,\n",
       "       2.15364788e-02, 3.66556831e-02, 1.18696898e-01, 3.04232235e-03,\n",
       "       8.53943173e-03, 9.94328082e-01, 8.35023144e-08, 2.39108232e-07,\n",
       "       1.40964960e-06, 5.82230650e-02, 9.07925725e-01, 9.49258208e-01,\n",
       "       4.59807954e-04, 7.47496188e-07, 4.49469155e-07, 1.16562114e-04,\n",
       "       2.23758434e-05, 2.92317905e-02, 1.97240433e-06, 1.00780092e-07,\n",
       "       1.93324219e-08, 4.82858832e-06, 7.97982430e-05, 1.16061531e-01,\n",
       "       2.08053416e-06, 3.26587866e-07, 4.47462838e-07, 3.85792674e-07,\n",
       "       1.39118520e-05, 6.12656057e-01, 6.97688200e-04, 2.49605422e-04,\n",
       "       1.01093641e-02, 1.82178610e-05, 6.28627883e-03, 4.50866719e-05,\n",
       "       8.87100668e-07, 1.87580867e-04, 2.26699922e-06, 4.29640478e-03,\n",
       "       2.44936149e-04, 6.99041295e-04, 2.58531392e-04, 2.53495807e-03,\n",
       "       1.06689207e-04, 9.97489333e-01, 6.08662049e-07, 2.24313658e-06,\n",
       "       8.10102733e-07, 6.09730989e-07, 2.74044196e-05, 1.24746407e-06,\n",
       "       8.09052467e-01, 7.96564575e-03, 1.02259461e-02, 5.26615127e-04,\n",
       "       9.03389677e-02, 4.55270242e-03, 9.54650295e-06, 9.04516128e-05,\n",
       "       1.22011907e-05, 1.30468216e-05, 1.59980266e-06, 7.20815751e-06,\n",
       "       1.00793136e-06, 4.73466244e-08, 6.53779125e-07, 3.60752310e-05,\n",
       "       5.70048869e-04, 8.86608348e-07, 6.93889479e-09, 4.86848364e-07,\n",
       "       1.86859086e-01, 1.45910063e-03, 2.63791755e-02, 1.01090213e-02,\n",
       "       4.37915092e-04, 2.83848408e-07, 9.88310814e-01, 2.41118823e-06,\n",
       "       6.67146253e-07, 6.10576244e-03, 1.23322019e-08, 3.29853158e-08,\n",
       "       1.19000492e-06, 1.10730468e-07, 5.96678831e-07, 1.38865300e-06,\n",
       "       4.51955839e-06, 8.04076076e-01, 1.20152822e-06, 1.94786435e-06,\n",
       "       1.19963858e-07, 1.97015015e-06, 1.79244507e-05, 4.05681222e-09,\n",
       "       2.81229313e-06, 7.27847919e-07, 3.01192387e-07, 3.74638475e-05,\n",
       "       5.18479586e-01, 9.70048726e-01, 3.23475717e-08, 7.66271478e-06,\n",
       "       4.35353620e-09, 1.82698614e-06, 1.28667125e-06, 7.82827883e-08,\n",
       "       8.38090273e-06, 1.79746991e-07, 1.56450426e-07, 3.45377134e-06,\n",
       "       1.37583129e-02, 3.77186234e-06, 1.28694822e-07, 1.38598307e-06,\n",
       "       2.77432008e-07, 2.30252652e-08, 1.24209218e-05, 7.33441766e-07,\n",
       "       2.57933134e-04, 6.18294598e-06, 8.15123096e-02, 9.99750674e-01,\n",
       "       9.99851346e-01, 2.20717154e-02, 2.82237772e-03, 2.23861448e-03,\n",
       "       1.19926105e-03, 1.00248087e-07, 1.37833052e-08, 3.93370778e-04,\n",
       "       1.62686687e-02, 3.32742260e-04, 5.61890751e-02, 7.12553214e-04,\n",
       "       1.35311875e-02, 3.71086746e-01, 6.14661276e-01, 4.15123999e-04,\n",
       "       3.53680429e-04, 1.62614189e-04, 3.28059491e-06, 2.27745932e-05,\n",
       "       4.55237711e-07, 9.99142289e-01, 3.68631142e-03, 4.70808819e-02,\n",
       "       1.00888537e-05, 3.13810779e-05, 2.09244248e-02, 5.49435690e-02,\n",
       "       1.35817460e-03, 3.05318832e-02, 4.21420962e-04, 4.54695919e-06,\n",
       "       3.47664692e-02, 2.86800805e-05, 9.11465850e-06, 9.61155631e-04,\n",
       "       6.84568704e-07, 1.31397916e-03, 2.21914321e-04, 3.21271986e-01,\n",
       "       3.08924401e-03, 1.69323105e-02, 6.71825707e-01, 4.46530953e-02,\n",
       "       1.55251483e-02, 1.29619104e-04, 2.66692787e-03, 6.87900456e-06,\n",
       "       5.39502571e-06, 2.06375894e-08, 8.47555199e-08, 9.99982119e-01,\n",
       "       9.99613583e-01, 9.99025822e-01, 2.94774561e-03, 2.00790586e-04,\n",
       "       9.71218196e-06, 7.23167062e-01, 5.21955280e-06, 2.88691967e-06,\n",
       "       2.57442385e-01, 4.61817990e-06, 6.91552414e-04, 6.57800683e-06,\n",
       "       1.57342527e-06, 1.00000000e+00, 1.00000000e+00, 1.00000000e+00,\n",
       "       1.00000000e+00, 1.00000000e+00, 1.00000000e+00, 1.00000000e+00,\n",
       "       1.00000000e+00, 1.00000000e+00, 1.00000000e+00, 1.00000000e+00,\n",
       "       1.00000000e+00, 1.00000000e+00, 1.00000000e+00, 9.99999166e-01,\n",
       "       1.00000000e+00, 1.00000000e+00, 1.00000000e+00, 1.00000000e+00,\n",
       "       1.00000000e+00, 1.00000000e+00, 1.00000000e+00, 1.00000000e+00,\n",
       "       1.00000000e+00, 1.00000000e+00, 1.00000000e+00, 1.00000000e+00,\n",
       "       1.00000000e+00, 1.00000000e+00, 1.00000000e+00, 1.00000000e+00,\n",
       "       1.00000000e+00, 1.00000000e+00, 1.00000000e+00, 1.00000000e+00,\n",
       "       1.00000000e+00, 1.00000000e+00, 1.00000000e+00, 1.00000000e+00,\n",
       "       1.00000000e+00, 1.00000000e+00, 1.00000000e+00, 1.00000000e+00,\n",
       "       9.99999881e-01, 1.00000000e+00, 1.00000000e+00, 1.00000000e+00,\n",
       "       1.00000000e+00, 1.00000000e+00, 1.00000000e+00, 1.00000000e+00,\n",
       "       1.00000000e+00, 1.00000000e+00, 1.00000000e+00, 1.00000000e+00,\n",
       "       1.00000000e+00, 1.00000000e+00, 1.00000000e+00, 1.00000000e+00,\n",
       "       1.00000000e+00, 9.99999285e-01, 1.00000000e+00, 1.00000000e+00,\n",
       "       1.00000000e+00, 1.00000000e+00, 1.00000000e+00, 1.00000000e+00,\n",
       "       1.00000000e+00, 1.00000000e+00, 1.00000000e+00, 1.00000000e+00,\n",
       "       1.00000000e+00, 1.00000000e+00, 1.00000000e+00, 9.99999881e-01,\n",
       "       1.00000000e+00, 1.00000000e+00, 1.00000000e+00, 1.00000000e+00,\n",
       "       1.00000000e+00, 1.00000000e+00, 1.00000000e+00, 1.00000000e+00,\n",
       "       1.00000000e+00, 1.00000000e+00, 1.00000000e+00, 1.00000000e+00,\n",
       "       1.00000000e+00, 1.00000000e+00, 1.00000000e+00, 1.00000000e+00,\n",
       "       1.00000000e+00, 1.00000000e+00, 1.00000000e+00, 1.00000000e+00,\n",
       "       1.00000000e+00, 1.00000000e+00, 9.99999762e-01, 1.00000000e+00,\n",
       "       1.00000000e+00, 1.00000000e+00, 1.00000000e+00, 1.00000000e+00,\n",
       "       9.99999881e-01, 1.00000000e+00, 1.00000000e+00, 1.00000000e+00,\n",
       "       9.99999881e-01, 1.00000000e+00, 1.00000000e+00, 1.00000000e+00,\n",
       "       1.00000000e+00, 1.00000000e+00, 1.00000000e+00, 1.00000000e+00,\n",
       "       1.00000000e+00, 1.00000000e+00, 1.00000000e+00, 1.00000000e+00,\n",
       "       1.00000000e+00, 1.00000000e+00, 1.00000000e+00, 1.00000000e+00,\n",
       "       1.00000000e+00, 1.00000000e+00, 1.00000000e+00, 1.00000000e+00,\n",
       "       1.00000000e+00, 1.00000000e+00, 1.00000000e+00, 1.00000000e+00,\n",
       "       1.00000000e+00, 1.00000000e+00, 1.00000000e+00, 1.00000000e+00,\n",
       "       1.00000000e+00, 1.00000000e+00, 1.00000000e+00, 1.00000000e+00,\n",
       "       1.00000000e+00, 1.00000000e+00, 1.00000000e+00, 1.00000000e+00,\n",
       "       1.00000000e+00, 1.00000000e+00, 1.00000000e+00, 1.00000000e+00,\n",
       "       1.00000000e+00, 1.00000000e+00, 1.00000000e+00, 1.00000000e+00,\n",
       "       1.00000000e+00, 1.00000000e+00, 1.00000000e+00, 1.00000000e+00,\n",
       "       1.00000000e+00, 9.99999762e-01, 1.00000000e+00, 1.00000000e+00,\n",
       "       1.00000000e+00, 1.00000000e+00, 1.00000000e+00, 1.00000000e+00,\n",
       "       9.99999881e-01, 1.00000000e+00, 1.00000000e+00, 1.00000000e+00,\n",
       "       9.99999881e-01, 1.00000000e+00, 1.00000000e+00, 1.00000000e+00,\n",
       "       1.00000000e+00, 1.00000000e+00, 1.00000000e+00, 1.00000000e+00,\n",
       "       1.00000000e+00, 1.00000000e+00, 1.00000000e+00, 1.00000000e+00,\n",
       "       1.00000000e+00, 9.99999762e-01, 1.00000000e+00, 1.00000000e+00,\n",
       "       1.00000000e+00, 1.00000000e+00, 1.00000000e+00, 1.00000000e+00,\n",
       "       1.00000000e+00, 1.00000000e+00, 1.00000000e+00, 1.00000000e+00,\n",
       "       1.00000000e+00, 1.00000000e+00, 1.00000000e+00, 1.00000000e+00,\n",
       "       1.00000000e+00, 1.00000000e+00, 1.00000000e+00, 1.00000000e+00,\n",
       "       9.99995112e-01, 1.00000000e+00, 1.00000000e+00, 1.00000000e+00,\n",
       "       1.00000000e+00, 1.00000000e+00, 1.00000000e+00, 9.99998808e-01,\n",
       "       1.00000000e+00, 1.00000000e+00, 1.00000000e+00, 1.00000000e+00,\n",
       "       1.00000000e+00, 1.00000000e+00, 1.00000000e+00, 1.00000000e+00,\n",
       "       1.00000000e+00, 1.00000000e+00, 9.99515891e-01, 1.00000000e+00,\n",
       "       1.00000000e+00, 1.00000000e+00, 1.00000000e+00, 1.00000000e+00,\n",
       "       1.00000000e+00, 1.00000000e+00, 1.00000000e+00, 1.00000000e+00,\n",
       "       1.00000000e+00, 1.00000000e+00, 1.00000000e+00, 1.00000000e+00,\n",
       "       1.00000000e+00, 1.00000000e+00, 1.00000000e+00, 1.00000000e+00,\n",
       "       1.00000000e+00, 1.00000000e+00, 1.00000000e+00, 1.00000000e+00,\n",
       "       1.00000000e+00, 1.00000000e+00, 1.00000000e+00, 1.00000000e+00,\n",
       "       1.00000000e+00, 1.00000000e+00, 1.00000000e+00, 1.00000000e+00,\n",
       "       1.00000000e+00, 9.99999881e-01, 1.00000000e+00, 1.00000000e+00,\n",
       "       1.00000000e+00, 1.00000000e+00, 1.00000000e+00, 1.00000000e+00,\n",
       "       9.99983788e-01, 1.00000000e+00, 1.00000000e+00, 1.00000000e+00,\n",
       "       1.00000000e+00, 1.00000000e+00, 1.00000000e+00, 1.00000000e+00,\n",
       "       1.00000000e+00, 1.00000000e+00, 1.00000000e+00, 1.00000000e+00,\n",
       "       1.00000000e+00, 1.00000000e+00, 1.00000000e+00, 1.00000000e+00,\n",
       "       1.00000000e+00, 1.00000000e+00, 1.00000000e+00, 1.00000000e+00,\n",
       "       1.00000000e+00, 1.00000000e+00, 1.00000000e+00, 1.00000000e+00,\n",
       "       1.00000000e+00, 1.00000000e+00, 1.00000000e+00, 1.00000000e+00,\n",
       "       1.00000000e+00, 1.00000000e+00, 1.00000000e+00, 9.99999881e-01,\n",
       "       9.99996901e-01, 1.00000000e+00, 1.00000000e+00, 1.00000000e+00,\n",
       "       1.00000000e+00, 1.00000000e+00, 1.00000000e+00, 1.00000000e+00,\n",
       "       1.00000000e+00, 1.00000000e+00, 1.00000000e+00, 1.00000000e+00,\n",
       "       1.00000000e+00, 1.00000000e+00, 1.00000000e+00, 1.00000000e+00,\n",
       "       1.00000000e+00, 1.00000000e+00, 1.00000000e+00, 1.00000000e+00,\n",
       "       1.00000000e+00, 9.99999762e-01, 1.00000000e+00, 1.00000000e+00,\n",
       "       1.00000000e+00, 1.00000000e+00, 1.00000000e+00, 1.00000000e+00,\n",
       "       1.00000000e+00, 1.00000000e+00, 1.00000000e+00, 1.00000000e+00,\n",
       "       1.00000000e+00, 1.00000000e+00, 1.00000000e+00, 9.99502778e-01,\n",
       "       1.00000000e+00, 1.00000000e+00, 1.00000000e+00, 1.00000000e+00,\n",
       "       1.00000000e+00, 9.99998808e-01, 1.00000000e+00, 1.00000000e+00],\n",
       "      dtype=float32)"
      ]
     },
     "execution_count": 21,
     "metadata": {},
     "output_type": "execute_result"
    }
   ],
   "source": [
    "preds[1][:,1]"
   ]
  },
  {
   "cell_type": "code",
   "execution_count": 22,
   "id": "bc5d2b5b-1116-4dc6-8048-3f76a9128635",
   "metadata": {},
   "outputs": [
    {
     "name": "stdout",
     "output_type": "stream",
     "text": [
      "Confusion Matrix\n",
      "Classification Report\n",
      "              precision    recall  f1-score   support\n",
      "\n",
      "       NH4CL       1.00      0.90      0.95       313\n",
      "      Others       0.91      1.00      0.96       331\n",
      "\n",
      "    accuracy                           0.95       644\n",
      "   macro avg       0.96      0.95      0.95       644\n",
      "weighted avg       0.96      0.95      0.95       644\n",
      "\n"
     ]
    }
   ],
   "source": [
    "import numpy as np\n",
    "from sklearn.metrics import classification_report, confusion_matrix\n",
    "Y_pred = model.predict_generator(validation_set)\n",
    "y_pred = np.argmax(Y_pred[0], axis=1)\n",
    "print('Confusion Matrix')\n",
    "cm=confusion_matrix(validation_set.classes, y_pred)\n",
    "print('Classification Report')\n",
    "target_names = ['NH4CL', 'Others']\n",
    "print(classification_report(validation_set.classes, y_pred, target_names=target_names))"
   ]
  },
  {
   "cell_type": "code",
   "execution_count": 23,
   "id": "e1e7854f-b7d9-47e1-a99d-a641062946b4",
   "metadata": {},
   "outputs": [
    {
     "data": {
      "image/png": "[encoded data removed]",
      "text/plain": [
       "<Figure size 640x480 with 2 Axes>"
      ]
     },
     "metadata": {},
     "output_type": "display_data"
    }
   ],
   "source": [
    "from sklearn.metrics import ConfusionMatrixDisplay\n",
    "from sklearn.metrics import confusion_matrix\n",
    "import matplotlib.pyplot as plt\n",
    "import numpy as np\n",
    "import seaborn as sns\n",
    "\n",
    "plt.rcParams[\"font.weight\"] = \"bold\"\n",
    "plt.rcParams[\"axes.labelweight\"] = \"bold\"\n",
    "labels = ['NH\\u2084CL', \"Others\",]\n",
    "disp = ConfusionMatrixDisplay(confusion_matrix=cm, display_labels=labels)\n",
    "\n",
    "\n",
    "# sns.heatmap(cm, annot=True)\n",
    "# disp.plot(cmap=plt.cm.Blues)\n",
    "# plt.rcParams[\"font.weight\"] = \"bold\"\n",
    "# plt.rcParams[\"axes.labelweight\"] = \"bold\"\n",
    "# plt.title('CNN Confusion Matrix')\n",
    "\n",
    "# plt.savefig('cnn.png')\n",
    "\n",
    "group_names = ['True Negative','False Positive','False Negative','True Positive']\n",
    "group_counts = ['{0:0.0f}'.format(value) for value in\n",
    "                cm.flatten()]\n",
    "group_percentages = ['{0:.2%}'.format(value) for value in\n",
    "                     cm.flatten()/np.sum(cm)]\n",
    "labels = [f'{v1}\\n{v2}\\n{v3}' for v1, v2, v3 in\n",
    "          zip(group_names,group_counts,group_percentages)]\n",
    "labels = np.asarray(labels).reshape(2,2)\n",
    "label=['NH\\u2084CL', \"Others\",]\n",
    "sns.heatmap(cm, annot=labels, fmt='',xticklabels=label, yticklabels=label)\n",
    "plt.title('GoogLeNet Confusion Matrix',fontweight='bold')\n",
    "plt.xlabel('Predicted')\n",
    "plt.ylabel('True')\n",
    "plt.savefig('googlenetconfusion.png')\n",
    "plt.show()"
   ]
  },
  {
   "cell_type": "code",
   "execution_count": 24,
   "id": "48c4982a-57f2-4dc1-8767-8d7eb22de28c",
   "metadata": {},
   "outputs": [
    {
     "data": {
      "text/plain": [
       "0.9998262598573401"
      ]
     },
     "execution_count": 24,
     "metadata": {},
     "output_type": "execute_result"
    }
   ],
   "source": [
    "roc_auc_score(validation_set.classes, preds[1][:,1])"
   ]
  },
  {
   "cell_type": "code",
   "execution_count": null,
   "id": "90bcba46-c114-497e-a9d1-6bf90a02fd1d",
   "metadata": {},
   "outputs": [],
   "source": []
  }
 ],
 "metadata": {
  "kernelspec": {
   "display_name": "TensorFlow GPU 2.9 (py38)",
   "language": "python",
   "name": "tensorflow-gpu-2.9-py38"
  },
  "language_info": {
   "codemirror_mode": {
    "name": "ipython",
    "version": 3
   },
   "file_extension": ".py",
   "mimetype": "text/x-python",
   "name": "python",
   "nbconvert_exporter": "python",
   "pygments_lexer": "ipython3",
   "version": "3.8.13"
  }
 },
 "nbformat": 4,
 "nbformat_minor": 5
}
